{
 "cells": [
  {
   "cell_type": "code",
   "execution_count": 3,
   "metadata": {},
   "outputs": [],
   "source": [
    "import numpy as np"
   ]
  },
  {
   "cell_type": "code",
   "execution_count": 4,
   "metadata": {},
   "outputs": [
    {
     "data": {
      "text/plain": [
       "array([0.25074627, 0.62537313, 0.25074627, 0.37462687, 0.15223881,\n",
       "       0.40298507, 0.40298507])"
      ]
     },
     "execution_count": 4,
     "metadata": {},
     "output_type": "execute_result"
    }
   ],
   "source": [
    "i1 = 84/335\n",
    "i2 = 419/670\n",
    "i3 = 27/67\n",
    "\n",
    "I1 = i1\n",
    "I2 = i2\n",
    "I3 = i1\n",
    "I4 = i2-i1\n",
    "I5 = i3-i1\n",
    "I6 = i3\n",
    "I7 = i3\n",
    "\n",
    "I = np.array([I1,I2,I3,I4,I5,I6,I7])\n",
    "I"
   ]
  },
  {
   "cell_type": "code",
   "execution_count": null,
   "metadata": {},
   "outputs": [],
   "source": []
  }
 ],
 "metadata": {
  "kernelspec": {
   "display_name": "python-venv",
   "language": "python",
   "name": "python3"
  },
  "language_info": {
   "codemirror_mode": {
    "name": "ipython",
    "version": 3
   },
   "file_extension": ".py",
   "mimetype": "text/x-python",
   "name": "python",
   "nbconvert_exporter": "python",
   "pygments_lexer": "ipython3",
   "version": "3.11.5"
  }
 },
 "nbformat": 4,
 "nbformat_minor": 2
}
