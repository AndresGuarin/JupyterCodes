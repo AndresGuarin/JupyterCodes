{
 "cells": [
  {
   "cell_type": "markdown",
   "id": "ea4b49d8-14cc-4284-bd8d-e7290bed9739",
   "metadata": {
    "tags": []
   },
   "source": [
    "<table>\n",
    "<table border = 5  align = center bgcolor=\"white\" cellspacing=\"10px\">\n",
    "\n",
    "<tr>\n",
    "<td><a href=\"https://drive.google.com/file/d/1--wnF2vQE2nDQ8rC8iMa2A2Sk1tNwPwz/view?usp=sharing\"> <img alt=\"Colaboratory logo\" width=\"150px\"  src=\"https://miro.medium.com/max/986/1*S2AyJcdw8EPcn7gwDVSBCA.png\" align=\"left\" hspace=\"10px\" vspace=\"0px\" /> </a> </td>\n",
    "   \n",
    "    \n",
    " \n",
    "<td></td>\n",
    "    \n",
    "<td><a href=\"https://mybinder.org/v2/git/https%3A%2F%2Fgitmilab.redclara.net%2FhalleyUIS%2Fmoncora.git/4d1344cb6f0df9a23bce6fe9d70812719aeb0fe5?urlpath=lab%2Ftree%2FBook%2FJupyter_Notebooks%2FDatosII_a.ipynb\"><img src=\"https://mybinder.org/static/images/logo_social.png\" alt=\"Alternative text\" width=\"150px\"  /></a>\n",
    "</td>\n",
    "\n",
    "</tr>\n",
    "\n",
    "</table>\n",
    "    \n",
    "<br>\n",
    "\n",
    "---\n",
    "    \n",
    "# <strong>Los datos hablan II. Diagrama de cajas y bigotes</strong>"
   ]
  },
  {
   "cell_type": "code",
   "execution_count": 1,
   "id": "3c38fc4a-d45f-45aa-8469-6d484b3b94a3",
   "metadata": {
    "tags": []
   },
   "outputs": [],
   "source": [
    "import pandas as pd                   # Librería de manejo de datos en DataFrames\n",
    "import numpy as np                    # Librería de cálculos matemáticos con Arrays\n",
    "import matplotlib.pyplot as plt       # Librería de gráficas\n",
    "import matplotlib.dates as mdates     # Módulo de manejo de fechas en las etiquetas de una gráfica\n",
    "from MakeSens import MakeSens         # Libería de descarga de datos del proyecto RACIMO-MONCORA"
   ]
  },
  {
   "cell_type": "markdown",
   "id": "3048dd30",
   "metadata": {},
   "source": [
    "## **Importación de datos**"
   ]
  },
  {
   "cell_type": "code",
   "execution_count": 2,
   "id": "c7ce367b",
   "metadata": {},
   "outputs": [],
   "source": [
    "fecha_inicio = \"2023-08-14 00:00:00\"\n",
    "fecha_fin = \"2023-09-17 23:59:00\"\n",
    "estacion = \"mE1_00008\"                      # FCUIS: 'mE1_00008'\n",
    "frecuencia = \"1H\"                          # 1T: 1 unidad de tiempo / minuto, 1H: 1 hora, 1D: 1 día\n",
    "\n",
    "data = MakeSens.download_data(estacion, fecha_inicio, fecha_fin, frecuencia)"
   ]
  },
  {
   "cell_type": "markdown",
   "id": "019bcc1a",
   "metadata": {},
   "source": [
    "## **Selección de datos Material Particulado**"
   ]
  },
  {
   "cell_type": "code",
   "execution_count": 4,
   "id": "4357069a",
   "metadata": {},
   "outputs": [],
   "source": [
    "# Selección de columnas\n",
    "columnas = [\"pm10_1\", \"pm10_2\",\"pm25_1\", \"pm25_2\", \"pm1_1\", \"pm1_2\", 'ts']\n",
    "pm_data = data[columnas]\n",
    "\n",
    "# Ajuste del índice de la tabla de datos. Ponemos el tiempo como índice:\n",
    "pm_data = pm_data.set_index('ts')\n",
    "pm_data.index = pd.to_datetime(pm_data.index)\n",
    "\n",
    "#pm_data"
   ]
  },
  {
   "cell_type": "markdown",
   "id": "05937a81-da9d-4151-af28-fca0440aa7e1",
   "metadata": {},
   "source": [
    "## **Limpiando datos**\n",
    "\n",
    "Para que sea un poco más sencillo manejar nuestros datos, definiremos un nuevo DataFrame para almacenar solo con las variables de material particulado. Luego convertiremos el índice de los datos a formato de fecha y hora con la función ```to_datetime()```."
   ]
  },
  {
   "cell_type": "code",
   "execution_count": 5,
   "id": "0c4a5414",
   "metadata": {},
   "outputs": [],
   "source": [
    "columnas = pm_data.columns # Guardamos los nombres de las columnas en una lista\n",
    "for col in columnas:                                             # Iteramos entre cada columna\n",
    "    pm_data[col] = pm_data[col].where(pm_data[col]<120, np.nan)  # Reemplazamos los valores mayores a 120 por NaN"
   ]
  },
  {
   "cell_type": "code",
   "execution_count": 6,
   "id": "42e0b30f",
   "metadata": {},
   "outputs": [],
   "source": [
    "show = False         #  Muestra la grafica si es verdadero.\n",
    "if show:\n",
    "    # Graficamos los datos limpios de pm10 \n",
    "    fig = plt.figure(figsize=(12, 6))            # Figura\n",
    "    ax = fig.gca()                               # Ejes\n",
    "    plt.plot(pm_data.index, pm_data['pm10_1'], '.',label = 'Sensor 1', alpha=0.7)   # Datos pm10_1\n",
    "    plt.plot(pm_data.index, pm_data['pm10_2'], '.',label = 'Sensor 2', alpha=0.7)   # Datos pm10_2\n",
    "\n",
    "    # Configuramos etiquetas\n",
    "    plt.title(\"Datos de PM 10\", fontsize=20)\n",
    "    plt.xlabel(\"Fecha\",         fontsize=15)\n",
    "    plt.ylabel(r\"Concentración [$\\mu g/m^3$]\", fontsize=15)\n",
    "    ax.xaxis.set_major_formatter(mdates.DateFormatter('%b-%d'))     # Formato de fecha: %b: mes, %d: día, %Y: año\n",
    "    plt.grid(alpha=0.5, linestyle=\"--\")\n",
    "    plt.legend(fontsize=12)\n",
    "    plt.show()"
   ]
  },
  {
   "cell_type": "markdown",
   "id": "bf1c61a0",
   "metadata": {},
   "source": [
    "## **Ratios**"
   ]
  },
  {
   "cell_type": "code",
   "execution_count": 9,
   "id": "8ee1d3de",
   "metadata": {},
   "outputs": [],
   "source": [
    "pm_d = pm_data.resample('D').mean()             # Datos diarios\n",
    "pm_d['semana'] = pm_d.index.isocalendar().week # Columna semana del año\n",
    "pm_d['dia'] = pm_d.index.isocalendar().day     # Columna día del año\n",
    "\n",
    "## Columna EnSemana\n",
    "clase = pm_d['dia'].values\n",
    "for i in range(len(clase)):\n",
    "    if clase[i] in [1,2,3,4,5]:\n",
    "        clase[i] = 1\n",
    "    else:\n",
    "        clase[i] = 0\n",
    "pm_d['clase'] = pd.Series(clase, index=pm_d.index)\n",
    "del pm_d['dia']\n",
    "\n",
    "## Agrupar por semana y por clase\n",
    "pm_s = pm_d.groupby(['semana','clase']).mean()\n",
    "\n",
    "## Calcular ratios\n",
    "columnas = pm_s.columns          # Columnas\n",
    "semanas = pm_d.semana.unique()   # Semanas\n",
    "\n",
    "# Eliminamos semanas incompletas\n",
    "if 0 not in list(pm_s.loc[semanas[-1]].index):\n",
    "    semanas = semanas[:-1]\n",
    "if 1 not in list(pm_s.loc[semanas[0]].index):\n",
    "    semanas = semanas[1:] \n",
    " \n",
    "Ratios = {}\n",
    "for col in columnas:\n",
    "    Ratios[col] = []\n",
    "for semana in semanas:\n",
    "    for col in columnas:\n",
    "        f = (pm_s.loc[semana,0] / pm_s.loc[semana,1])[col]\n",
    "        Ratios[col].append(f)\n",
    "Ratios = pd.DataFrame(Ratios,index=semanas)\n",
    "\n",
    "## Columna de fechas\n",
    "import datetime\n",
    "date = []\n",
    "for s in semanas:\n",
    "    date.append(datetime.date.fromisocalendar(2023, s, 1))\n",
    "Ratios['date'] = pd.to_datetime(date)"
   ]
  },
  {
   "cell_type": "markdown",
   "id": "6531a271",
   "metadata": {},
   "source": [
    "### **Gráfica de bigotes**\n",
    "\n",
    "Finalmente, vamos a graficar los datos obtenidos utilizando la función ```.boxplot()``` de Pandas. Esta función nos permite visualizar la distribución de los datos. En este caso, vamos a graficar la distribución de los ratios calculados para cada semana."
   ]
  },
  {
   "cell_type": "markdown",
   "id": "d96b1b9e",
   "metadata": {},
   "source": [
    "\n",
    "<div class=\"alert alert-block alert-info\">\n",
    "<b>¿Qué es un gráfico de bigotes?</b> Un gráfico de bigotes es un gráfico que muestra la distribución de los datos en <b>cuartiles</b>, resaltando el promedio y los valores atípicos. Las líneas que se extienden fuera de las cajas, llamadas \"bigotes\", muestran la <b>variabilidad</b> fuera del valor promedio de los datos y cualquier valor atípico que pueda estar presente en los datos. Los bigotes se pueden mostrar de diferentes maneras, dependiendo de la biblioteca que se utilice. En este caso, vamos a utilizar la función .boxplot() de Matplotlib\n",
    "\n",
    "Por otra parte, ya hemos trabajado los cuartiles. Un cuartil es un valor que divide un conjunto de datos en cuatro partes iguales. Los cuartiles se pueden calcular utilizando la función ```.quantile()``` de Pandas. Por ejemplo, el primer cuartil es el primer conjunto de datos tras efectuar la división. Es decir, el 25% de los datos se encuentran por debajo del primer cuartil mientras que el 75% de los datos se encuentran por encima del primer cuartil. \n",
    "</div>  \n",
    "\n",
    "\n"
   ]
  },
  {
   "cell_type": "code",
   "execution_count": 22,
   "id": "221c8e3e-9679-467f-bf00-ac063100c6c6",
   "metadata": {
    "tags": []
   },
   "outputs": [
    {
     "data": {
      "text/plain": [
       "[Text(0, 1, 'FCUIS')]"
      ]
     },
     "execution_count": 22,
     "metadata": {},
     "output_type": "execute_result"
    },
    {
     "data": {
      "image/png": "[encoded data removed]",
      "text/plain": [
       "<Figure size 1000x500 with 1 Axes>"
      ]
     },
     "metadata": {},
     "output_type": "display_data"
    }
   ],
   "source": [
    "#Analicemos nuetro resultado con una gráfica de bigotes\n",
    "plt.figure(figsize=(10,5))\n",
    "\n",
    "#Iniciamos la gráfica de bigotes\n",
    "plt.boxplot(x = Ratios['pm25_1'].values,\n",
    "            vert=False, \n",
    "            #meanline=True, showmeans=True, \n",
    "           )\n",
    "plt.xlabel(\"PM2.5 (fin de semana)/ PM2.5 (entre-semana)\")\n",
    "plt.title(\"Razón de concentración de $PM_{2.5}$ de fin de semana y entre semana\", fontsize=20)\n",
    "ax = plt.gca()\n",
    "ax.set_yticklabels(['FCUIS'])"
   ]
  },
  {
   "cell_type": "markdown",
   "id": "0cf7571c-3989-4c27-b6b8-a6e00fe7b793",
   "metadata": {},
   "source": [
    "> ¿Qué conclusiones tenemos de este gráfico?"
   ]
  },
  {
   "cell_type": "code",
   "execution_count": null,
   "id": "d274082e",
   "metadata": {},
   "outputs": [],
   "source": []
  }
 ],
 "metadata": {
  "kernelspec": {
   "display_name": "Python 3 (ipykernel)",
   "language": "python",
   "name": "python3"
  },
  "language_info": {
   "codemirror_mode": {
    "name": "ipython",
    "version": 3
   },
   "file_extension": ".py",
   "mimetype": "text/x-python",
   "name": "python",
   "nbconvert_exporter": "python",
   "pygments_lexer": "ipython3",
   "version": "3.11.5"
  }
 },
 "nbformat": 4,
 "nbformat_minor": 5
}
