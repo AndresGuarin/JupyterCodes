{
 "cells": [
  {
   "attachments": {},
   "cell_type": "markdown",
   "metadata": {},
   "source": [
    "<table>\n",
    "<table border = 5  align = center bgcolor=\"white\" cellspacing=\"10px\">\n",
    "\n",
    "<tr>\n",
    "<td> <a href=\"https://drive.google.com/file/d/14zqiX7WcBYhtfrQNdHZuGgzHxeBBi4Rb/view?usp=sharing\"> <img alt=\"Colaboratory logo\" width=\"150px\"  src=\"https://miro.medium.com/max/986/1*S2AyJcdw8EPcn7gwDVSBCA.png\" align=\"left\" hspace=\"10px\" vspace=\"0px\" /> </a>  </td>\n",
    "   \n",
    "<td></td>\n",
    "    \n",
    "<td><a href=\"https://mybinder.org/v2/git/https%3A%2F%2Fgitmilab.redclara.net%2FhalleyUIS%2Fmoncora.git/0936d792b8e87847f8624bb906f74cd24badf030?urlpath=lab%2Ftree%2FBook%2FJupyter_Notebooks%2FCondicionales_Ciclos.ipynb\"><img src=\"https://mybinder.org/static/images/logo_social.png\" alt=\"Alternative text\" width=\"150px\"  /></a>\n",
    "</td>\n",
    "\n",
    "</tr>\n",
    "\n",
    "</table>\n",
    "    \n",
    "<br>\n",
    "\n",
    "# <strong>Repaso de Ciclos</strong>\n",
    "\n",
    "## Programando sin barreras"
   ]
  },
  {
   "attachments": {},
   "cell_type": "markdown",
   "metadata": {},
   "source": [
    "## **1. Ciclo For**"
   ]
  },
  {
   "attachments": {},
   "cell_type": "markdown",
   "metadata": {},
   "source": [
    "El ciclo for tiene la siguiente estructura:\n",
    "```\n",
    "    for n in range(0,10,1):\n",
    "        print(n)\n",
    "```\n",
    "\n",
    "Veamos con detalle:"
   ]
  },
  {
   "cell_type": "code",
   "execution_count": 3,
   "metadata": {},
   "outputs": [
    {
     "data": {
      "text/plain": [
       "range(0, 10)"
      ]
     },
     "execution_count": 3,
     "metadata": {},
     "output_type": "execute_result"
    }
   ],
   "source": [
    "range(0,10,1)"
   ]
  },
  {
   "cell_type": "code",
   "execution_count": 5,
   "metadata": {},
   "outputs": [
    {
     "data": {
      "text/plain": [
       "range"
      ]
     },
     "execution_count": 5,
     "metadata": {},
     "output_type": "execute_result"
    }
   ],
   "source": [
    "type(range(0,10,1))"
   ]
  },
  {
   "attachments": {},
   "cell_type": "markdown",
   "metadata": {},
   "source": [
    "`range(0,10,1)` es lo que llamamos un iterador. Es una función predefinida en python con el propósito de crear ciclos `for` de manera sencilla.\n",
    "\n",
    "`for n in range(0,10,1)` significa que para cada n que pertenece al conjunto `range(0,10,1)` el ciclo se repetirá una vez. Si `range(0,10,1)` posee 10 elementos, entonces el ciclo se ejecutará 10 veces.\n",
    "\n",
    "A `n` se le llama variable de iteración."
   ]
  },
  {
   "cell_type": "code",
   "execution_count": 20,
   "metadata": {},
   "outputs": [
    {
     "name": "stdout",
     "output_type": "stream",
     "text": [
      "Hola Hola Hola Hola Hola Hola Hola Hola Hola Hola "
     ]
    }
   ],
   "source": [
    "for n in range(0,10,1):\n",
    "    print('Hola', end=' ')"
   ]
  },
  {
   "attachments": {},
   "cell_type": "markdown",
   "metadata": {},
   "source": [
    "La anterior celda muestre la palabra `Hola` 10 veces, que es el número puesto en la función `range()`"
   ]
  },
  {
   "attachments": {},
   "cell_type": "markdown",
   "metadata": {},
   "source": [
    "Los ciclos en python tienen una ventaja y es que en cada ciclo de `for n in range(0,10,1)` tenemos acceso al valor de la variable `n`."
   ]
  },
  {
   "cell_type": "code",
   "execution_count": 8,
   "metadata": {},
   "outputs": [
    {
     "name": "stdout",
     "output_type": "stream",
     "text": [
      "0 1 2 3 4 5 6 7 8 9 "
     ]
    }
   ],
   "source": [
    "for n in range(0,10,1):\n",
    "    print(n,end=' ')"
   ]
  },
  {
   "attachments": {},
   "cell_type": "markdown",
   "metadata": {},
   "source": [
    "Ahora podemos entender el signifado de los números al interior de `range()`:\n",
    "\n",
    "```\n",
    "for n in range(a,b,k):\n",
    "    print(n)\n",
    "```\n",
    "\n",
    "* `a` es el primer número.\n",
    "* `b` es el límite superior. `n` siempre es estrictamente menor que `b` ($n<b$).\n",
    "* `k` es el salto entre cada número.\n",
    "\n",
    "La función `range(a,b,k)` siempre va acendentemente desde `a` hasta `b` dando saltos de tamaño `k`."
   ]
  },
  {
   "cell_type": "code",
   "execution_count": 10,
   "metadata": {},
   "outputs": [
    {
     "name": "stdout",
     "output_type": "stream",
     "text": [
      "0 5 10 15 20 25 30 35 40 45 50 55 60 65 70 75 80 85 90 95 "
     ]
    }
   ],
   "source": [
    "for n in range(0,100,5):\n",
    "    print(n, end=' ')"
   ]
  },
  {
   "attachments": {},
   "cell_type": "markdown",
   "metadata": {},
   "source": [
    "**Ejercicio**\n",
    "\n",
    "* Elabora un ciclo que valla desde 1 hasta 15 en pasos de 1 y muestre en pantalla la tabla del 13."
   ]
  },
  {
   "cell_type": "code",
   "execution_count": null,
   "metadata": {},
   "outputs": [],
   "source": []
  },
  {
   "attachments": {},
   "cell_type": "markdown",
   "metadata": {},
   "source": [
    "*Simple is better*\n",
    "\n",
    "A menudo necesitamos un ciclo que valla desde 0 hasta un $N$ en pasos de 1. Por ejemplo si queremos que una tarea se ejecute 10 veces. En estos casos, podemos obviar al primer y tercer número de `range(a,b,k)` y sólo poner el valor de `b`. Esto simplifica la escritura del código:"
   ]
  },
  {
   "cell_type": "code",
   "execution_count": 15,
   "metadata": {},
   "outputs": [
    {
     "name": "stdout",
     "output_type": "stream",
     "text": [
      "Juan Juan Juan Juan Juan Juan Juan Juan Juan Juan "
     ]
    }
   ],
   "source": [
    "for n in range(10):\n",
    "    print('Juan',end=' ')"
   ]
  },
  {
   "attachments": {},
   "cell_type": "markdown",
   "metadata": {},
   "source": [
    "También podemos aprovechar la ventaja de acceder a la variable de iteración para hacer ciclos creativos"
   ]
  },
  {
   "cell_type": "code",
   "execution_count": 16,
   "metadata": {},
   "outputs": [
    {
     "name": "stdout",
     "output_type": "stream",
     "text": [
      "Fundación Colegio UIS\n",
      "Colegio Santander\n",
      "Colegio Damaso Zapato\n"
     ]
    }
   ],
   "source": [
    "for colegio in ['Fundación Colegio UIS', 'Colegio Santander', 'Colegio Damaso Zapato']:\n",
    "    print(colegio)"
   ]
  },
  {
   "cell_type": "code",
   "execution_count": 17,
   "metadata": {},
   "outputs": [
    {
     "name": "stdout",
     "output_type": "stream",
     "text": [
      "0 1 4 9 16 25 "
     ]
    }
   ],
   "source": [
    "for num in [0,1,2,3,4,5]:\n",
    "    print(num**2, end=' ')"
   ]
  },
  {
   "attachments": {},
   "cell_type": "markdown",
   "metadata": {},
   "source": [
    "Note que en lugar de usar la función `range()` hemos definido explicitamente al conjunto de iteración usando una lista `[]`"
   ]
  },
  {
   "attachments": {},
   "cell_type": "markdown",
   "metadata": {},
   "source": [
    "## **2. Ciclo while**"
   ]
  },
  {
   "attachments": {},
   "cell_type": "markdown",
   "metadata": {},
   "source": [
    "El ciclo `while` tiene la siguiente estructura:\n",
    "```\n",
    "    a = 0\n",
    "    b = 10\n",
    "    while a < b:\n",
    "        print(a)\n",
    "        a = a+1\n",
    "```\n",
    "\n",
    "Veámos con detalle:\n",
    "\n",
    "* `a<b` es la condición del ciclo. En cada repetición el valor de `a` cambia. Al inicio de cada repetición el ciclo `while` evalua si la condición `a<b` sigue siendo `True`, de lo contrario si es `False` rompe el ciclo."
   ]
  },
  {
   "cell_type": "code",
   "execution_count": 24,
   "metadata": {},
   "outputs": [
    {
     "name": "stdout",
     "output_type": "stream",
     "text": [
      "True True True True True False False False False False "
     ]
    }
   ],
   "source": [
    "b = 5\n",
    "for a in range(0,10,1):\n",
    "    print(a<b, end=' ')"
   ]
  },
  {
   "attachments": {},
   "cell_type": "markdown",
   "metadata": {},
   "source": [
    "El anterior ciclo `for` es un ejemplo que nos ayuda a entender la función de la condición `a<b`. Al inicio es `True` por lo que si fuese un ciclo while se repetiría en cada ocasión, el ciclo se dentría en la primera vez que la condición sea `False`."
   ]
  },
  {
   "cell_type": "code",
   "execution_count": 27,
   "metadata": {},
   "outputs": [
    {
     "name": "stdout",
     "output_type": "stream",
     "text": [
      "0 1 2 3 4 "
     ]
    }
   ],
   "source": [
    "a = 0\n",
    "b = 5\n",
    "while a<b:\n",
    "    print(a, end=' ')\n",
    "    a = a+1"
   ]
  },
  {
   "attachments": {},
   "cell_type": "markdown",
   "metadata": {},
   "source": [
    "En el ejemplo anterior, el valor de `a` empieza en cero. A medida que el ciclo se repite, `a` va aumentando de 1 en 1 hasta 4. Al llegar a `a=5` el ciclo no se detiene."
   ]
  },
  {
   "attachments": {},
   "cell_type": "markdown",
   "metadata": {},
   "source": [
    "* La línea `a = a+1` se denomina *increemento* de `a`, y es importante para que el ciclo se dentenga eventualmente."
   ]
  },
  {
   "attachments": {},
   "cell_type": "markdown",
   "metadata": {},
   "source": [
    " En 1937, un matemático alemán llamado Lothar Collatz formuló una hipótesis intrigante (aún no se ha comprobado) que se puede describir de la siguiente manera:\n",
    "\n",
    "   1. Toma cualquier número natural distinto de cero y llámalo `n`.\n",
    "   2. Si `n` es par, cambia `n` por `n / 2`.\n",
    "   3. De lo contrario, si es impar, cambia `n` por `3 × n + 1`;\n",
    "   4. Si `n ≠ 1` vuelve al punto 2 y repite los pasos."
   ]
  },
  {
   "cell_type": "code",
   "execution_count": 30,
   "metadata": {},
   "outputs": [
    {
     "name": "stdout",
     "output_type": "stream",
     "text": [
      "3 10 5 16 8 4 2 1 "
     ]
    }
   ],
   "source": [
    "n = 6\n",
    "while n != 1:\n",
    "    if n%2 == 0:      # Si n es par\n",
    "        n = n//2      # Divide entre dos el número\n",
    "    else:             # Si n es impar\n",
    "        n = 3*n + 1   # Múltiplica por tres el número y le suma 1\n",
    "    print(n, end=' ') \n",
    "\n",
    "# Conjetura de Collatz: sin importat cuál sea n, el algoritmo siempre llega hasta n = 1"
   ]
  },
  {
   "attachments": {},
   "cell_type": "markdown",
   "metadata": {},
   "source": [
    "El ciclo `while` se usa cuando no sabemos el número de veces que debemos repetir una tarea. En contraste, el ciclo `for` cuando sabemos exactamente el número de veces."
   ]
  },
  {
   "attachments": {},
   "cell_type": "markdown",
   "metadata": {},
   "source": [
    "**Ejercicios**"
   ]
  },
  {
   "attachments": {},
   "cell_type": "markdown",
   "metadata": {},
   "source": [
    "<div class=\"alert alert-block alert-warning\">  \n",
    "<b>Serie de Fibonacci:</b> Se trata de una secuencia infinita de números naturales; a partir del 0 y el 1, se van sumando a pares, de manera que cada número es igual a la suma de sus dos anteriores, de manera que:\n",
    "\n",
    "` 0, 1, 1, 2, 3, 5, 8, 13, 21, 34, 55, ...`\n",
    "\n",
    "\n",
    "</div>\n",
    "\n",
    "\n",
    "\n",
    "**1.** Mostrar los primeros 10 terminos de la serie de fibonacci, recordar que la formula para la serie es:\n",
    "```\n",
    "f(n) = f(n-1) + f(n-2)\n",
    "```"
   ]
  },
  {
   "cell_type": "code",
   "execution_count": null,
   "metadata": {},
   "outputs": [],
   "source": []
  },
  {
   "attachments": {},
   "cell_type": "markdown",
   "metadata": {},
   "source": [
    "**2.** ¿Cuántos números entre 1 y 100 son divisibles por 7? \n",
    "\n"
   ]
  },
  {
   "cell_type": "code",
   "execution_count": null,
   "metadata": {},
   "outputs": [],
   "source": []
  },
  {
   "attachments": {},
   "cell_type": "markdown",
   "metadata": {},
   "source": [
    "**3.**  Escriba un prgrama que chequee si un número es primo o no. "
   ]
  },
  {
   "cell_type": "code",
   "execution_count": null,
   "metadata": {},
   "outputs": [],
   "source": []
  },
  {
   "attachments": {},
   "cell_type": "markdown",
   "metadata": {},
   "source": [
    "Para hacer un repaso de los ciclos en Python también puede revisar [este vídeo](https://www.youtube.com/watch?v=chPhlsHoEPo&t=9387s)"
   ]
  }
 ],
 "metadata": {
  "kernelspec": {
   "display_name": "python-venv",
   "language": "python",
   "name": "python3"
  },
  "language_info": {
   "codemirror_mode": {
    "name": "ipython",
    "version": 3
   },
   "file_extension": ".py",
   "mimetype": "text/x-python",
   "name": "python",
   "nbconvert_exporter": "python",
   "pygments_lexer": "ipython3",
   "version": "3.11.3"
  },
  "orig_nbformat": 4
 },
 "nbformat": 4,
 "nbformat_minor": 2
}
