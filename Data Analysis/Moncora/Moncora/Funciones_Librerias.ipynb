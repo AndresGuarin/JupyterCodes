{
 "cells": [
  {
   "attachments": {},
   "cell_type": "markdown",
   "metadata": {
    "id": "erT19_2Er36k"
   },
   "source": [
    "<table>\n",
    "<table border = 5  align = center bgcolor=\"white\" cellspacing=\"10px\">\n",
    "\n",
    "<tr>\n",
    "<td> <a href=\"https://drive.google.com/file/d/14sEPNG7RArYv9ZwSK0QNyxUgrihlbrn2/view?usp=sharing\"> <img alt=\"Colaboratory logo\" width=\"150px\"  src=\"https://miro.medium.com/max/986/1*S2AyJcdw8EPcn7gwDVSBCA.png\" align=\"left\" hspace=\"10px\" vspace=\"0px\" /> </a>   </td>\n",
    "   \n",
    "<td></td>\n",
    "    \n",
    "<td><a href=\"https://mybinder.org/v2/git/https%3A%2F%2Fgitmilab.redclara.net%2FhalleyUIS%2Fmoncora.git/0936d792b8e87847f8624bb906f74cd24badf030?urlpath=lab%2Ftree%2FBook%2FJupyter_Notebooks%2FFunciones_Librerias.ipynb\"><img src=\"https://mybinder.org/static/images/logo_social.png\" alt=\"Alternative text\" width=\"150px\"  /></a>\n",
    "</td>\n",
    "\n",
    "</tr>\n",
    "\n",
    "</table>\n",
    "    \n",
    "<br>\n",
    "\n",
    "# <strong>Funciones y librerías</strong>\n",
    "\n",
    "\n",
    "\n",
    "## Programando sin barreras III\n",
    "\n",
    "\n",
    "<blockquote>\n",
    "No te pierdas el vídeo de <a href=\"https://www.youtube.com/watch?v=inN8seMm7UI\">Funciones y librerías</a>. \n",
    "</blockquote>\n",
    "\n"
   ]
  },
  {
   "attachments": {},
   "cell_type": "markdown",
   "metadata": {
    "id": "iq2jBH1P75ht"
   },
   "source": [
    "---\n",
    "\n",
    "## <strong>Funciones</strong>\n",
    "\n",
    "Una función en programación nos permite definir un bloque de código que deseamos usar varias veces en nuestro programa, es decir nos ayuda a reducir la redundancia en nuestro programa,  eeduciendo el número de líneas de código. \n"
   ]
  },
  {
   "attachments": {},
   "cell_type": "markdown",
   "metadata": {
    "id": "yZfc893lSbi7"
   },
   "source": [
    "<strong>Sintaxis</strong>\n",
    "\n",
    "En Python para poder crear nuestras propias funciones es necesario seguir una estructura especifica, la cual separo en los siguientes tips:\n",
    "\n",
    "1.   Primero la palabra reservada ```def```\n",
    "2.   Seguido del nombre de la función\n",
    "3.   Paréntesis\"()\", si tu función recibirá alguna variable irá dentro de estos paréntesis si no va vacío.\n",
    "4.   Agregamos dos puntos \":\"\n",
    "5.   Después de esto ponemos las líneas de código que queremos que ejecute nuestra función.\n",
    "6.   Usamos la palabra reservada ```return``` si queremos que nuestra función devuelva algún valor.\n",
    "\n",
    "<div class=\"alert alert-block alert-info\">\n",
    "<b>Nota:</b> El  nombre que se les asigne a las funciones para crear su definición tiene que ser en minúsculas y las palabras se separan con guión bajo.\n",
    "</div>\n",
    "\n",
    "\n",
    "<strong>Ejemplo</strong>\n",
    "\n",
    "El nombre de la función es suma y recibe dos parámetros y devuelve una variable c\n",
    "```\n",
    "def suma(a,b):\n",
    "  c=a+b\n",
    "  return c\n",
    "```\n",
    "\n",
    "Solo quedaría llamar la función!, veamoslo en el siguiente código.\n"
   ]
  },
  {
   "attachments": {},
   "cell_type": "markdown",
   "metadata": {},
   "source": [
    "*"
   ]
  },
  {
   "attachments": {},
   "cell_type": "markdown",
   "metadata": {},
   "source": [
    "**Nota:**\n",
    "La estructura de una función es la siguiente:\n",
    "\n",
    "```\n",
    "    def funcion(a,b):\n",
    "        c = a*b\n",
    "        return c\n",
    "```\n",
    "\n",
    "* `def` es la palabra reservada para crear funciones en python. Ella le dice a Python que a continuación se define una función.\n",
    "* `funcion` es el nombre de la función\n",
    "* `funcion(a,b): c = a*b` significa que la función `función` toma dos variables `a, b` y las multiplica entre sí.\n",
    "* `c= a*b` constituye el cuerpo de la función.\n",
    "* `return c` significa que la función devuelve el valor c. Indica el final de la función, después de ejecutado el `return` la ejecución de la función termina.\n",
    "\n",
    "Veámos:"
   ]
  },
  {
   "cell_type": "code",
   "execution_count": 3,
   "metadata": {},
   "outputs": [],
   "source": [
    "def funcion(a,b):\n",
    "    c = a*b\n",
    "    return c"
   ]
  },
  {
   "attachments": {},
   "cell_type": "markdown",
   "metadata": {},
   "source": [
    "Vemos que la anterior celda no hace nada. En efecto, ella solo define la función pero no la ejecuta. Una vez definida, la podemos usar cuántas veces queramos más adelante:"
   ]
  },
  {
   "cell_type": "code",
   "execution_count": 5,
   "metadata": {},
   "outputs": [
    {
     "data": {
      "text/plain": [
       "20"
      ]
     },
     "execution_count": 5,
     "metadata": {},
     "output_type": "execute_result"
    }
   ],
   "source": [
    "funcion(4,5)"
   ]
  },
  {
   "cell_type": "code",
   "execution_count": 7,
   "metadata": {},
   "outputs": [
    {
     "data": {
      "text/plain": [
       "(28, 32, 40)"
      ]
     },
     "execution_count": 7,
     "metadata": {},
     "output_type": "execute_result"
    }
   ],
   "source": [
    "funcion(4,7), funcion(4,8), funcion(4,10)"
   ]
  },
  {
   "attachments": {},
   "cell_type": "markdown",
   "metadata": {},
   "source": [
    "/"
   ]
  },
  {
   "cell_type": "code",
   "execution_count": 6,
   "metadata": {
    "colab": {
     "base_uri": "https://localhost:8080/"
    },
    "executionInfo": {
     "elapsed": 815,
     "status": "ok",
     "timestamp": 1633839500140,
     "user": {
      "displayName": "Programando Barreras",
      "photoUrl": "https://lh3.googleusercontent.com/a/default-user=s64",
      "userId": "14434479729996923763"
     },
     "user_tz": 300
    },
    "id": "2GsnLvJVBtCk",
    "outputId": "c8dbdc76-bd81-4795-c22e-f99f3f893aab"
   },
   "outputs": [
    {
     "data": {
      "text/plain": [
       "14"
      ]
     },
     "execution_count": 6,
     "metadata": {},
     "output_type": "execute_result"
    }
   ],
   "source": [
    "# Se crea una función que calcule la suma de dos números\n",
    "def suma(a,b):\n",
    "  c=a+b\n",
    "  return c\n",
    "\n",
    "#Se llama la función indicando los parámetros\n",
    "suma(10,4)\n"
   ]
  },
  {
   "cell_type": "code",
   "execution_count": 7,
   "metadata": {},
   "outputs": [
    {
     "data": {
      "text/plain": [
       "86"
      ]
     },
     "execution_count": 7,
     "metadata": {},
     "output_type": "execute_result"
    }
   ],
   "source": [
    "# Si llamamos la función con nuevos parámetros, tendremos un nuevo resultado:\n",
    "suma(30,56)"
   ]
  },
  {
   "cell_type": "code",
   "execution_count": 4,
   "metadata": {
    "colab": {
     "base_uri": "https://localhost:8080/"
    },
    "executionInfo": {
     "elapsed": 357,
     "status": "ok",
     "timestamp": 1633839603226,
     "user": {
      "displayName": "Programando Barreras",
      "photoUrl": "https://lh3.googleusercontent.com/a/default-user=s64",
      "userId": "14434479729996923763"
     },
     "user_tz": 300
    },
    "id": "SqrN040pbKyR",
    "outputId": "aeed3117-e232-474c-bbf7-7b35f45b20c1"
   },
   "outputs": [
    {
     "name": "stdout",
     "output_type": "stream",
     "text": [
      "La suma es:  14\n"
     ]
    }
   ],
   "source": [
    "# Se crea la misma función pero en vez de retornar un valor le pedimos que lo \n",
    "# imprima\n",
    "def suma(a,b):\n",
    "  c=a+b\n",
    "  print(\"La suma es: \",c)\n",
    "\n",
    "#Se llama la función indicando los parámetros\n",
    "suma(10,4)\n"
   ]
  },
  {
   "attachments": {},
   "cell_type": "markdown",
   "metadata": {},
   "source": [
    "*"
   ]
  },
  {
   "attachments": {},
   "cell_type": "markdown",
   "metadata": {},
   "source": [
    "Dentro de una función podemos hacer los códigos que deseemos, incluyendo ciclos, print, o otras funciones"
   ]
  },
  {
   "cell_type": "code",
   "execution_count": 8,
   "metadata": {},
   "outputs": [],
   "source": [
    "def suma(a,b):\n",
    "  c = a+b\n",
    "  print(\"a + b =\",c)"
   ]
  },
  {
   "cell_type": "code",
   "execution_count": 9,
   "metadata": {},
   "outputs": [
    {
     "name": "stdout",
     "output_type": "stream",
     "text": [
      "a + b = 30\n"
     ]
    }
   ],
   "source": [
    "suma(10,20)"
   ]
  },
  {
   "cell_type": "code",
   "execution_count": 10,
   "metadata": {},
   "outputs": [],
   "source": [
    "def factorial(n):\n",
    "    c = 1\n",
    "    for i in range(1,n+1):\n",
    "        c = c*i\n",
    "    return c"
   ]
  },
  {
   "cell_type": "code",
   "execution_count": 20,
   "metadata": {},
   "outputs": [
    {
     "data": {
      "text/plain": [
       "3628800"
      ]
     },
     "execution_count": 20,
     "metadata": {},
     "output_type": "execute_result"
    }
   ],
   "source": [
    "factorial(10)"
   ]
  },
  {
   "attachments": {},
   "cell_type": "markdown",
   "metadata": {},
   "source": [
    "/"
   ]
  },
  {
   "attachments": {},
   "cell_type": "markdown",
   "metadata": {
    "id": "r2N9xIaLbehX"
   },
   "source": [
    "Un momento!,```print()``` ¿No se te hace muy familiar?, CLARO!. \n",
    "```print()``` También es una función, en python existen un grán número de funciones. En este notebook veremos unas cuantas...\n",
    "\n",
    "\n",
    "\n",
    "*   ```print()``` Muestra texto en pantalla\n",
    "*   ```len()```   Nos muestra la longitud del parámetro que ingresemos\n",
    "*   ```max()```   En un arreglo de números indica cual es el mayor\n",
    "*   ```min()```   En un arreglo de números indica cual es el menor\n",
    "\n",
    "\n",
    "Te reto a buscar más funciones y aplicarlas en tu código.\n"
   ]
  },
  {
   "cell_type": "code",
   "execution_count": null,
   "metadata": {
    "colab": {
     "base_uri": "https://localhost:8080/"
    },
    "executionInfo": {
     "elapsed": 376,
     "status": "ok",
     "timestamp": 1633840126603,
     "user": {
      "displayName": "Programando Barreras",
      "photoUrl": "https://lh3.googleusercontent.com/a/default-user=s64",
      "userId": "14434479729996923763"
     },
     "user_tz": 300
    },
    "id": "a44x1ljcc3eQ",
    "outputId": "9ba28c24-d8d3-4f19-aede-f86e3cebd99a"
   },
   "outputs": [
    {
     "data": {
      "text/plain": [
       "10"
      ]
     },
     "execution_count": 5,
     "metadata": {},
     "output_type": "execute_result"
    }
   ],
   "source": [
    "# Len() muestra el tamaño del parámetro que ingresemos. En este caso mostró el\n",
    "# tamaño de la cadena de texto\n",
    "len(\"La mujer cantaba mientras programaba\")"
   ]
  },
  {
   "cell_type": "code",
   "execution_count": null,
   "metadata": {
    "colab": {
     "base_uri": "https://localhost:8080/"
    },
    "executionInfo": {
     "elapsed": 443,
     "status": "ok",
     "timestamp": 1633840145441,
     "user": {
      "displayName": "Programando Barreras",
      "photoUrl": "https://lh3.googleusercontent.com/a/default-user=s64",
      "userId": "14434479729996923763"
     },
     "user_tz": 300
    },
    "id": "O5nfLJp4dhae",
    "outputId": "fc6b0e7a-4c76-48a2-c7b7-0bd356f12c01"
   },
   "outputs": [
    {
     "data": {
      "text/plain": [
       "10"
      ]
     },
     "execution_count": 6,
     "metadata": {},
     "output_type": "execute_result"
    }
   ],
   "source": [
    "# Max() devuelve el valor mayor entre varios\n",
    "max([3,4,8,10])"
   ]
  },
  {
   "cell_type": "code",
   "execution_count": null,
   "metadata": {
    "id": "FPMepyAzd2MP"
   },
   "outputs": [],
   "source": [
    "#Intentalo con el min() en esta celda\n"
   ]
  },
  {
   "attachments": {},
   "cell_type": "markdown",
   "metadata": {},
   "source": [
    "Podemos crear diferentes funciones. Por ejemplo, creemos una función que multiplique dos números:\n"
   ]
  },
  {
   "cell_type": "code",
   "execution_count": 8,
   "metadata": {},
   "outputs": [],
   "source": [
    "def Mult(a, b):\n",
    "    c = a * b\n",
    "    return(c)"
   ]
  },
  {
   "cell_type": "code",
   "execution_count": 10,
   "metadata": {},
   "outputs": [
    {
     "data": {
      "text/plain": [
       "6"
      ]
     },
     "execution_count": 10,
     "metadata": {},
     "output_type": "execute_result"
    }
   ],
   "source": [
    "# Podemos multiplicar dos enteros\n",
    "Mult(2, 3)\n"
   ]
  },
  {
   "cell_type": "code",
   "execution_count": 11,
   "metadata": {},
   "outputs": [
    {
     "data": {
      "text/plain": [
       "5.760000000000001"
      ]
     },
     "execution_count": 11,
     "metadata": {},
     "output_type": "execute_result"
    }
   ],
   "source": [
    "# Podemos multiplicar dos numeros float\n",
    "Mult(1.6, 3.6)\n"
   ]
  },
  {
   "cell_type": "code",
   "execution_count": 14,
   "metadata": {},
   "outputs": [
    {
     "data": {
      "text/plain": [
       "'HolaHola'"
      ]
     },
     "execution_count": 14,
     "metadata": {},
     "output_type": "execute_result"
    }
   ],
   "source": [
    "# Podemos multiplicar dos variables de diferente tipo\n",
    "Mult(2, \"Hola\")"
   ]
  },
  {
   "attachments": {},
   "cell_type": "markdown",
   "metadata": {},
   "source": [
    "*"
   ]
  },
  {
   "attachments": {},
   "cell_type": "markdown",
   "metadata": {},
   "source": [
    "**Nota:** Existen algunas funciones predefinidas en python que vale la pena analizar."
   ]
  },
  {
   "cell_type": "code",
   "execution_count": 21,
   "metadata": {},
   "outputs": [
    {
     "data": {
      "text/plain": [
       "8"
      ]
     },
     "execution_count": 21,
     "metadata": {},
     "output_type": "execute_result"
    }
   ],
   "source": [
    "x = [1, 2, 3, 4, 5, 6, 7, 8]\n",
    "\n",
    "max(x) #Valor máximo de una lista"
   ]
  },
  {
   "cell_type": "code",
   "execution_count": 22,
   "metadata": {},
   "outputs": [
    {
     "data": {
      "text/plain": [
       "1"
      ]
     },
     "execution_count": 22,
     "metadata": {},
     "output_type": "execute_result"
    }
   ],
   "source": [
    "min(x) #Valor mínimo de una lista"
   ]
  },
  {
   "cell_type": "code",
   "execution_count": 24,
   "metadata": {},
   "outputs": [
    {
     "data": {
      "text/plain": [
       "8"
      ]
     },
     "execution_count": 24,
     "metadata": {},
     "output_type": "execute_result"
    }
   ],
   "source": [
    "len(x) #Cantidad de elementos de una lista"
   ]
  },
  {
   "cell_type": "code",
   "execution_count": 25,
   "metadata": {},
   "outputs": [
    {
     "name": "stdout",
     "output_type": "stream",
     "text": [
      "Hola mundo\n"
     ]
    }
   ],
   "source": [
    "print('Hola mundo')"
   ]
  },
  {
   "attachments": {},
   "cell_type": "markdown",
   "metadata": {},
   "source": [
    "Las funciones predefinidas `max`, `min` y `len` se dice que tienen nombres reservados por el sistema, lo que significa que no podemos usarlas para definir variables."
   ]
  },
  {
   "attachments": {},
   "cell_type": "markdown",
   "metadata": {},
   "source": [
    "/"
   ]
  },
  {
   "attachments": {},
   "cell_type": "markdown",
   "metadata": {},
   "source": [
    "<div class=\"alert alert-block alert-info\">\n",
    "<b>Nota:</b>\n",
    "     Una variable que es declarada dentro de una función se llama <strong>variable local</strong>. Esta variable solo existe dentro de la función.\n",
    "     Una variable que es declarada fuera de una función se llama  <strong>variable global</strong>, y su valor es accesible y modificable a lo largo del programa. \n",
    "    \n",
    "</div>\n",
    "\n"
   ]
  },
  {
   "cell_type": "code",
   "execution_count": 2,
   "metadata": {},
   "outputs": [
    {
     "name": "stdout",
     "output_type": "stream",
     "text": [
      "(a+1)*(a+1)= 10\n",
      "Yo recibí 1\n",
      "Ahora tengo 2\n",
      "1\n"
     ]
    }
   ],
   "source": [
    "# Definición de función:\n",
    "\n",
    "def square(a):\n",
    "    \n",
    "    # b y c son variables locales\n",
    "    b = 1\n",
    "    c = a * a + b\n",
    "    print( \"(a+1)*(a+1)=\", c) \n",
    "    return(c)\n",
    "\n",
    "# x y y son variables globales\n",
    "\n",
    "x = 3\n",
    "y = square(x)\n",
    "y\n",
    "\n"
   ]
  },
  {
   "cell_type": "code",
   "execution_count": 3,
   "metadata": {},
   "outputs": [
    {
     "name": "stdout",
     "output_type": "stream",
     "text": [
      "Yo recibí 1\n",
      "Ahora tengo 2\n",
      "1\n"
     ]
    }
   ],
   "source": [
    "#Mira otro ejemplo:\n",
    "def my_function1(var):\n",
    "    print(\"Yo recibí\", var)\n",
    "    var += 1\n",
    "    print(\"Ahora tengo\", var)\n",
    "\n",
    "\n",
    "var = 1\n",
    "my_function1(var)\n",
    "print(var)"
   ]
  },
  {
   "cell_type": "code",
   "execution_count": 1,
   "metadata": {},
   "outputs": [
    {
     "name": "stdout",
     "output_type": "stream",
     "text": [
      "¿Conozco a aquella variable? 2\n",
      "2\n"
     ]
    }
   ],
   "source": [
    "#Puedes definir variables globales  dentro de funciones de la siguiente manera\n",
    "def my_function():\n",
    "    global var\n",
    "    var = 2\n",
    "    print(\"¿Conozco a aquella variable?\", var)\n",
    "\n",
    "\n",
    "var = 1\n",
    "my_function()\n",
    "print(var)\n"
   ]
  },
  {
   "attachments": {},
   "cell_type": "markdown",
   "metadata": {},
   "source": [
    "*"
   ]
  },
  {
   "attachments": {},
   "cell_type": "markdown",
   "metadata": {},
   "source": [
    "Dentro de una función siempre es posible definir variables que hacen parte del cuerpo de la función. Estas variables se denominan *variables locales*.\n",
    "\n",
    "En oposición, toda variable definida afuera de una función se le denomina *variable global*. Ellas pueden cambiarse por fuera de una función.\n",
    "\n",
    "Las variables locales solo pueden ser modificadas adentro de la función y no interfieren con nada que esté afuera, aunque tenga su mismo nombre:"
   ]
  },
  {
   "cell_type": "code",
   "execution_count": 33,
   "metadata": {},
   "outputs": [
    {
     "name": "stdout",
     "output_type": "stream",
     "text": [
      "Variables locales \n",
      "\n",
      "a = 10\n",
      "b = 2\n",
      "Variables globales \n",
      "\n",
      "a = 5\n",
      "b = 5\n"
     ]
    }
   ],
   "source": [
    "def suma(a,b):\n",
    "    c = a+b\n",
    "    print('Variables locales \\n')\n",
    "    print('a =',a)\n",
    "    print('b =',b)\n",
    "    return c    \n",
    "\n",
    "a = 5\n",
    "b = 5\n",
    "suma(10,2)\n",
    "\n",
    "print('Variables globales \\n')\n",
    "print('a =',a)\n",
    "print('b =',b)\n"
   ]
  },
  {
   "attachments": {},
   "cell_type": "markdown",
   "metadata": {},
   "source": [
    "En el ejemplo anterior vemos que las variables `a` y `b` definidas en `suma(a,b)` no se ven afectadas por las variables del mismo nombre afuera de la función."
   ]
  },
  {
   "attachments": {},
   "cell_type": "markdown",
   "metadata": {},
   "source": [
    "/"
   ]
  },
  {
   "attachments": {},
   "cell_type": "markdown",
   "metadata": {},
   "source": [
    "<img width=\"150px\"  src=\"https://raw.githubusercontent.com/AndresGuarin/Images/main/moncora_ejercicios_cartel.png\" align=\"center\">\n",
    "\n",
    "---"
   ]
  },
  {
   "attachments": {},
   "cell_type": "markdown",
   "metadata": {},
   "source": [
    "**1.** Define una función que reciba como argumento un número y retone el factorial de dicho número \n",
    ">El factorial (!) de un número entero positivo es el producto de todos los números de 1 hasta el número: por ejemplo 3! == 3 × 2 × 1. \n",
    "\n"
   ]
  },
  {
   "cell_type": "code",
   "execution_count": null,
   "metadata": {},
   "outputs": [],
   "source": []
  },
  {
   "attachments": {},
   "cell_type": "markdown",
   "metadata": {},
   "source": [
    "**2.** Cree una función que encuentre el elemento más pequeño de una lista dada.\n",
    "\n"
   ]
  },
  {
   "cell_type": "code",
   "execution_count": null,
   "metadata": {},
   "outputs": [],
   "source": []
  },
  {
   "attachments": {},
   "cell_type": "markdown",
   "metadata": {},
   "source": [
    "**3.** Escribe una función que de la tabla de multiplicar de un número dado"
   ]
  },
  {
   "cell_type": "code",
   "execution_count": null,
   "metadata": {},
   "outputs": [],
   "source": []
  },
  {
   "attachments": {},
   "cell_type": "markdown",
   "metadata": {},
   "source": [
    "**4.** Realiza un programa donde el usuario ingrese un número y el programa le diga si es primo dicho número o no.\n",
    ">**Teorema de Wilson**:\n",
    "> puede afirmarse que un número n> 1 es primo si y solo si (n− 1)! ≡ − 1 (mod n)\n",
    "\n",
    "Nota: \n",
    "26≡11 (mod 5)\n",
    "significa que \n",
    "- 26 mod 5=1 \n",
    "- 11 mod 5=1 "
   ]
  },
  {
   "cell_type": "code",
   "execution_count": 37,
   "metadata": {},
   "outputs": [
    {
     "data": {
      "text/plain": [
       "19"
      ]
     },
     "execution_count": 37,
     "metadata": {},
     "output_type": "execute_result"
    }
   ],
   "source": [
    "-1%20"
   ]
  },
  {
   "attachments": {},
   "cell_type": "markdown",
   "metadata": {
    "id": "hv47PkxGLRae"
   },
   "source": [
    "---\n",
    "\n",
    "## <strong> La magia de las Librerías</strong>\n",
    "\n",
    "Las librerías en python son una herramienta fundamental a la hora de programar ya que nos permiten ampliar nuestras funcionalidades apartir de módulos ya creados.\n",
    "\n",
    "<div class=\"alert alert-block alert-success\">\n",
    "Los modulos son paquetes de codigo (paquetes de funciones) escrito por personas externas que estan contenidos en el lenguaje de pyhton, pudieron ser los desarrolladores de llenguaje pyhton u otras, que nosotros tenemos a disposicion para ejecutar o usar que haces el trabajo por nosotros.\n",
    "</div>\n",
    "\n",
    "\n",
    "\n",
    "La forma de llamar una librería comienza con la palabra reservada ```import``` esta palabra seguida del nombre de la librería que queremos usar traerá todas las funcionalidades la librería. En python existen un sin número de librerías en este repaso nos centraremos en tres <strong>math</strong>,<strong>numpy</strong> y <strong>matplotlib</strong>\n",
    "\n",
    "Para poder usar la librería en las siguientes celdas de nuestro notebook debemos hacer uso del nombre seguido del punto y la función que se va usar.\n",
    "\n",
    "\n"
   ]
  },
  {
   "cell_type": "code",
   "execution_count": null,
   "metadata": {
    "id": "jGOkD4BAiYQC"
   },
   "outputs": [],
   "source": [
    "# Aqui importamos una librería\n",
    "import math"
   ]
  },
  {
   "cell_type": "code",
   "execution_count": null,
   "metadata": {
    "colab": {
     "base_uri": "https://localhost:8080/"
    },
    "executionInfo": {
     "elapsed": 363,
     "status": "ok",
     "timestamp": 1633842114784,
     "user": {
      "displayName": "Programando Barreras",
      "photoUrl": "https://lh3.googleusercontent.com/a/default-user=s64",
      "userId": "14434479729996923763"
     },
     "user_tz": 300
    },
    "id": "K0SBb13ZjkCv",
    "outputId": "cb574fa7-86f4-4073-c253-a99e0b4452ad"
   },
   "outputs": [
    {
     "data": {
      "text/plain": [
       "16.0"
      ]
     },
     "execution_count": 8,
     "metadata": {},
     "output_type": "execute_result"
    }
   ],
   "source": [
    "# Se hace uso de la librería math y la función pow() que nos permite elevar el \n",
    "# primer número a la cantidad del segundo número\n",
    "math.pow(2,4)"
   ]
  },
  {
   "attachments": {},
   "cell_type": "markdown",
   "metadata": {
    "id": "nN1BazQNl7Pn"
   },
   "source": [
    "<blockquote>\n",
    "Para hacernos una idea de lo últil que son las librerías en el siguiente link podrán visitar todas las librerías de <a href=\"https://docs.python.org/es/3/library/math.html\"><strong>math</strong></a>. No es necesario usarlas todas, solamente ir haciendo uso de las que nuestro programa necesite.\n",
    "</blockquote>\n",
    "\n",
    "\n",
    "Mira este juego de \"piedra, papel o tijera\" usando la librería random:\n",
    "\n",
    "**Comenta cada línea con su función en el código:**"
   ]
  },
  {
   "cell_type": "code",
   "execution_count": 1,
   "metadata": {},
   "outputs": [
    {
     "name": "stdout",
     "output_type": "stream",
     "text": [
      "¡Juguemos Piedra, Papel o Tijera!\n",
      "1. Piedra \n",
      "2. Papel \n",
      "3. Tijera\n",
      "Escribe el número de tu opción: 2\n",
      "\n",
      "\n",
      "Tú elegiste Papel\n",
      "Python eligió Piedra\n",
      "\n",
      "\n",
      "¡Ganaste!\n"
     ]
    }
   ],
   "source": [
    "import random\n",
    "\n",
    "print(\"¡Juguemos Piedra, Papel o Tijera!\")\n",
    "print(\"1. Piedra \\n2. Papel \\n3. Tijera\")\n",
    "\n",
    "opciones = [\"Piedra\", \"Papel\", \"Tijera\"]\n",
    "opcion_jugador = int(input(\"Escribe el número de tu opción: \"))\n",
    "opcion_computadora = random.randint(1, 3)\n",
    "\n",
    "print(\"\\n\")\n",
    "print(\"Tú elegiste\", opciones[opcion_jugador-1])\n",
    "print(\"Python eligió\", opciones[opcion_computadora-1])\n",
    "print(\"\\n\")\n",
    "\n",
    "if opcion_jugador == opcion_computadora:\n",
    "    print(\"¡Empate!\")\n",
    "elif opcion_jugador == 1 and opcion_computadora == 3 or opcion_jugador == 2 and opcion_computadora == 1 or opcion_jugador == 3 and opcion_computadora == 2:\n",
    "    print(\"¡Ganaste!\")\n",
    "else:\n",
    "    print(\"Python te ganó :(\")"
   ]
  },
  {
   "attachments": {},
   "cell_type": "markdown",
   "metadata": {},
   "source": [
    "Vamos ahora ver una librería fundamental para el cálculo de matrices y análisis de datos. La famosisima ```numpy```"
   ]
  },
  {
   "cell_type": "code",
   "execution_count": 1,
   "metadata": {
    "id": "AGHAfynzlCwC"
   },
   "outputs": [],
   "source": [
    "import numpy"
   ]
  },
  {
   "cell_type": "code",
   "execution_count": 2,
   "metadata": {
    "colab": {
     "base_uri": "https://localhost:8080/"
    },
    "executionInfo": {
     "elapsed": 386,
     "status": "ok",
     "timestamp": 1633843102397,
     "user": {
      "displayName": "Programando Barreras",
      "photoUrl": "https://lh3.googleusercontent.com/a/default-user=s64",
      "userId": "14434479729996923763"
     },
     "user_tz": 300
    },
    "id": "837anYQkofue",
    "outputId": "0bfb2801-e090-496b-a7ee-0eae6338879c"
   },
   "outputs": [
    {
     "name": "stdout",
     "output_type": "stream",
     "text": [
      "<class 'numpy.ndarray'>\n",
      "[1 2 3 4]\n"
     ]
    }
   ],
   "source": [
    "# Crearemos un vector o array de una dimensión\n",
    "a1 = numpy.array([1,2,3,4])\n",
    "print(type(a1))\n",
    "print(a1)"
   ]
  },
  {
   "attachments": {},
   "cell_type": "markdown",
   "metadata": {
    "id": "qFglo67ko2l0"
   },
   "source": [
    "A la hora de llamar una librería tener que repetir su nombre cada vez que la vamos a usar. Esto se vuelve tediozo y más con algunas que su nombre son super largos! Pero, podemos haver uso de la palabra reservada ```as``` la cual nos permitirá poner un alias a nuestra librería y poder hacer uso de esta por medio de ese alías."
   ]
  },
  {
   "cell_type": "code",
   "execution_count": 3,
   "metadata": {
    "id": "O7XvZ7cMoszt"
   },
   "outputs": [],
   "source": [
    "# Llamamos la librería numpy pero le asignamos el alías np\n",
    "import numpy as np"
   ]
  },
  {
   "cell_type": "code",
   "execution_count": 4,
   "metadata": {
    "colab": {
     "base_uri": "https://localhost:8080/"
    },
    "executionInfo": {
     "elapsed": 417,
     "status": "ok",
     "timestamp": 1633843302964,
     "user": {
      "displayName": "Programando Barreras",
      "photoUrl": "https://lh3.googleusercontent.com/a/default-user=s64",
      "userId": "14434479729996923763"
     },
     "user_tz": 300
    },
    "id": "vBJWFlRFpauN",
    "outputId": "b321d5ba-130b-4fa0-f82f-d003f86cef9d"
   },
   "outputs": [
    {
     "name": "stdout",
     "output_type": "stream",
     "text": [
      "<class 'numpy.ndarray'>\n",
      "[5 6 7 8]\n"
     ]
    }
   ],
   "source": [
    "# Crearemos un vector o array de una dimensión\n",
    "b1 = np.array([5,6,7,8])\n",
    "print(type(b1))\n",
    "print(b1)"
   ]
  },
  {
   "attachments": {},
   "cell_type": "markdown",
   "metadata": {
    "id": "UbjRiO0spmtS"
   },
   "source": [
    "<div class=\"alert alert-block alert-danger\">\n",
    "\n",
    "El alías lo podemos poner a nuestro gusto, pero en programación existe un estandár a la hora de poner estos alías y hacen que nuestro código sea más fácil de leer por otra persona.\n",
    "</div>\n",
    "\n",
    "\n"
   ]
  },
  {
   "cell_type": "code",
   "execution_count": null,
   "metadata": {
    "id": "IsLDZ7tzpzgd"
   },
   "outputs": [],
   "source": [
    "# Llamamos la librería numpy pero le asignamos el alís pppdnombreinventado\n",
    "import numpy as pppdnombreinventado"
   ]
  },
  {
   "cell_type": "code",
   "execution_count": null,
   "metadata": {
    "colab": {
     "base_uri": "https://localhost:8080/"
    },
    "executionInfo": {
     "elapsed": 391,
     "status": "ok",
     "timestamp": 1633843450755,
     "user": {
      "displayName": "Programando Barreras",
      "photoUrl": "https://lh3.googleusercontent.com/a/default-user=s64",
      "userId": "14434479729996923763"
     },
     "user_tz": 300
    },
    "id": "lfAEvuDRp3Y8",
    "outputId": "c7af4b9f-4d35-4cb4-a658-641727ba89f5"
   },
   "outputs": [
    {
     "name": "stdout",
     "output_type": "stream",
     "text": [
      "<class 'numpy.ndarray'>\n",
      "[ 8  9 10 11]\n"
     ]
    }
   ],
   "source": [
    "# Crearemos un vector o array de una dimensión\n",
    "c1 = pppdnombreinventado.array([8,9,10,11])\n",
    "print(type(c1))\n",
    "print(c1)"
   ]
  },
  {
   "attachments": {},
   "cell_type": "markdown",
   "metadata": {},
   "source": [
    "### Conociendo un poco más de ```numpy```\n",
    "\n",
    "Existen varios atributos y funciones que describen las características de un array.\n",
    "\n",
    "- a.ndim : Devuelve el número de dimensiones del array a.\n",
    "- a.shape : Devuelve una tupla con las dimensiones del array a.\n",
    "- a.size : Devuelve el número de elementos del array a.\n",
    "- a.dtype: Devuelve el tipo de datos de los elementos del array a.\n"
   ]
  },
  {
   "cell_type": "code",
   "execution_count": 2,
   "metadata": {},
   "outputs": [
    {
     "name": "stdout",
     "output_type": "stream",
     "text": [
      "<class 'numpy.ndarray'>\n",
      "(3,)\n",
      "1 2 3\n",
      "[5 2 3]\n",
      "(2, 3)\n",
      "1 2 4\n"
     ]
    }
   ],
   "source": [
    "import numpy as np\n",
    "\n",
    "a = np.array([1, 2, 3])   # crea una array de un rango\n",
    "print(\"El tipo de la variable a es:\", type(a))            \n",
    "print((\"y su tamaño es:\", a.shape)            \n",
    "\n"
   ]
  },
  {
   "cell_type": "code",
   "execution_count": null,
   "metadata": {},
   "outputs": [],
   "source": [
    "#Puedes imprimir cada uno de los elementos de a\n",
    "print(a[0], a[1], a[2])   \n"
   ]
  },
  {
   "cell_type": "code",
   "execution_count": null,
   "metadata": {},
   "outputs": [],
   "source": [
    "#o cambiarlos\n",
    "a[0] = 5                  # cambia un elemento de la array\n",
    "print(a)                  \n"
   ]
  },
  {
   "cell_type": "code",
   "execution_count": 8,
   "metadata": {},
   "outputs": [
    {
     "name": "stdout",
     "output_type": "stream",
     "text": [
      "(2, 3)\n",
      "1 2 4\n"
     ]
    }
   ],
   "source": [
    "#Podemos aumentar el rango de la array\n",
    "b = np.array([[1,2,3],[4,5,6]])    # crea una array de segundo rango\n",
    "print(b.shape)                     \n",
    "print(b[0, 0], b[0, 1], b[1, 0])   #imprimir cada uno de sus elementos"
   ]
  },
  {
   "attachments": {},
   "cell_type": "markdown",
   "metadata": {},
   "source": [
    "```numpy``` también tiene muchas funciones para crear arrays"
   ]
  },
  {
   "cell_type": "code",
   "execution_count": 9,
   "metadata": {},
   "outputs": [
    {
     "name": "stdout",
     "output_type": "stream",
     "text": [
      "Array de ceros:\n",
      " [[0. 0.]\n",
      " [0. 0.]] \n",
      "\n",
      "Array de unos:\n",
      " [[1. 1.]]\n",
      "Array de con constantes:\n",
      " [[7 7]\n",
      " [7 7]] \n",
      "\n",
      "Array aleatoria:\n",
      " [[0.64373792 0.25629592]\n",
      " [0.73398727 0.23813141]] \n",
      "\n"
     ]
    }
   ],
   "source": [
    "a = np.zeros((2,2))   # crea una array de ceros\n",
    "print(\"Array de ceros:\\n\",a, \"\\n\")              \n",
    "\n",
    "b = np.ones((1,2))    # crea una array de unos\n",
    "print(\"Array de unos:\\n\",b)              \n",
    "\n",
    "c = np.full((2,2), 7)  # crea una array con numeros constantes\n",
    "print(\"Array de con constantes:\\n\",c, \"\\n\")               \n",
    "    \n",
    "\n",
    "e = np.random.random((2,2))  # crea una array con valores aleatorios\n",
    "print(\"Array aleatoria:\\n\",e, \"\\n\")  "
   ]
  },
  {
   "attachments": {},
   "cell_type": "markdown",
   "metadata": {},
   "source": [
    "<img width=\"150px\"  src=\"https://raw.githubusercontent.com/AndresGuarin/Images/main/moncora_ejercicios_cartel.png\" align=\"center\">\n",
    "\n",
    "---"
   ]
  },
  {
   "attachments": {},
   "cell_type": "markdown",
   "metadata": {},
   "source": [
    "**1.** ¿Cual es el resultado de las siguientes expresiones?\n",
    "- 0 * np.nan\n",
    "- np.nan == np.nan\n",
    "- np.inf > np.nan\n",
    "- np.nan - np.nan\n",
    "- np.nan in set([np.nan])\n",
    "- 0.3 == 3 * 0.1\n",
    "\n",
    "\n"
   ]
  },
  {
   "cell_type": "code",
   "execution_count": null,
   "metadata": {},
   "outputs": [],
   "source": []
  },
  {
   "attachments": {},
   "cell_type": "markdown",
   "metadata": {},
   "source": [
    "\n",
    "**2.** Reemplace todos los números impares por -1 en esta array: \n",
    "\n",
    "``` \n",
    "a = np.array([0, 1, 2, 3, 4, 5, 6, 7, 8, 9])\n",
    "```\n"
   ]
  },
  {
   "cell_type": "code",
   "execution_count": null,
   "metadata": {},
   "outputs": [],
   "source": []
  }
 ],
 "metadata": {
  "colab": {
   "authorship_tag": "ABX9TyPuAF6/W3qgx1RMvsgxCpec",
   "collapsed_sections": [],
   "name": "Funciones&Librerías.ipynb",
   "provenance": []
  },
  "kernelspec": {
   "display_name": "Python 3 (ipykernel)",
   "language": "python",
   "name": "python3"
  },
  "language_info": {
   "codemirror_mode": {
    "name": "ipython",
    "version": 3
   },
   "file_extension": ".py",
   "mimetype": "text/x-python",
   "name": "python",
   "nbconvert_exporter": "python",
   "pygments_lexer": "ipython3",
   "version": "3.11.3"
  }
 },
 "nbformat": 4,
 "nbformat_minor": 4
}
