{
 "cells": [
  {
   "cell_type": "code",
   "execution_count": 3,
   "metadata": {},
   "outputs": [],
   "source": [
    "import numpy as np\n",
    "import matplotlib.pyplot as plt\n",
    "import matplotlib.animation as animation"
   ]
  },
  {
   "cell_type": "code",
   "execution_count": 4,
   "metadata": {},
   "outputs": [
    {
     "name": "stdout",
     "output_type": "stream",
     "text": [
      "Using matplotlib backend: <object object at 0x7f9c3d7fc2d0>\n",
      "Using matplotlib backend: TkAgg\n"
     ]
    }
   ],
   "source": [
    "# Para Jupyter en local solamente\n",
    "%matplotlib auto\n",
    "%matplotlib auto"
   ]
  },
  {
   "cell_type": "code",
   "execution_count": 11,
   "metadata": {},
   "outputs": [],
   "source": [
    "N = 50\n",
    "x = np.linspace(-np.pi/2,np.pi*5/2,N)\n",
    "y = np.cos(x) + np.random.random(N)*0.5\n",
    "\n",
    "width = 10\n",
    "\n",
    "def frame(a):\n",
    "    if a==0:\n",
    "        plt.legend()\n",
    "    b = a+width+1\n",
    "    plt.plot(x,y,'o',color='blue',ms=10, label='datos')\n",
    "    plt.plot(x[a:b],y[a:b],'o',color='orange',ms=10,label='ventana')\n",
    "\n",
    "\n",
    "\n",
    "    xrolling = []; yrolling = []\n",
    "    for i in range(0,a+1):\n",
    "        j = i+width+1\n",
    "        xrolling.append(np.mean(x[i:j]))\n",
    "        yrolling.append(np.mean(y[i:j]))\n",
    "    plt.plot(xrolling, yrolling,'o',color='red',ms=8,label='resultado')"
   ]
  },
  {
   "cell_type": "code",
   "execution_count": 12,
   "metadata": {},
   "outputs": [
    {
     "name": "stderr",
     "output_type": "stream",
     "text": [
      "No artists with labels found to put in legend.  Note that artists whose label start with an underscore are ignored when legend() is called with no argument.\n"
     ]
    }
   ],
   "source": [
    "fig = plt.figure(figsize=(12,5))\n",
    "plt.title('Ventaneo de una función')\n",
    "ani=animation.FuncAnimation(fig,frame,range(0,N-width, 1), repeat=False, interval=300)\n",
    "plt.show()"
   ]
  },
  {
   "cell_type": "code",
   "execution_count": null,
   "metadata": {},
   "outputs": [],
   "source": [
    "# Para Google colab solamente\n",
    "# from matplotlib import rc\n",
    "# rc('animation', html='jshtml')\n",
    "# ani"
   ]
  }
 ],
 "metadata": {
  "kernelspec": {
   "display_name": "python-venv",
   "language": "python",
   "name": "python3"
  },
  "language_info": {
   "codemirror_mode": {
    "name": "ipython",
    "version": 3
   },
   "file_extension": ".py",
   "mimetype": "text/x-python",
   "name": "python",
   "nbconvert_exporter": "python",
   "pygments_lexer": "ipython3",
   "version": "3.11.5"
  }
 },
 "nbformat": 4,
 "nbformat_minor": 2
}
