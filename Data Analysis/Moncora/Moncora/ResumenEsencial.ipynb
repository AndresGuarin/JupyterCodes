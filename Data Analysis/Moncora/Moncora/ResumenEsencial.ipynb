{
 "cells": [
  {
   "cell_type": "markdown",
   "metadata": {},
   "source": [
    "<table>\n",
    "<table border = 5  align = center bgcolor=\"white\" cellspacing=\"10px\">\n",
    "\n",
    "<tr>\n",
    "<td> <a href=\"https://drive.google.com/file/d/14zqiX7WcBYhtfrQNdHZuGgzHxeBBi4Rb/view?usp=sharing\"> <img alt=\"Colaboratory logo\" width=\"150px\"  src=\"https://miro.medium.com/max/986/1*S2AyJcdw8EPcn7gwDVSBCA.png\" align=\"left\" hspace=\"10px\" vspace=\"0px\" /> </a>  </td>\n",
    "   \n",
    "<td></td>\n",
    "    \n",
    "<td><a href=\"https://mybinder.org/v2/git/https%3A%2F%2Fgitmilab.redclara.net%2FhalleyUIS%2Fmoncora.git/0936d792b8e87847f8624bb906f74cd24badf030?urlpath=lab%2Ftree%2FBook%2FJupyter_Notebooks%2FCondicionales_Ciclos.ipynb\"><img src=\"https://mybinder.org/static/images/logo_social.png\" alt=\"Alternative text\" width=\"150px\"  /></a>\n",
    "</td>\n",
    "\n",
    "</tr>\n",
    "\n",
    "</table>\n",
    "    \n",
    "<br>\n",
    "\n",
    "# <strong>Resumen Esencial</strong>\n",
    "\n",
    "## Programando sin barreras"
   ]
  },
  {
   "cell_type": "markdown",
   "metadata": {},
   "source": [
    "## **1. Fundamentos**"
   ]
  },
  {
   "cell_type": "code",
   "execution_count": 1,
   "metadata": {},
   "outputs": [
    {
     "name": "stdout",
     "output_type": "stream",
     "text": [
      "¡Hola, mundo!\n"
     ]
    }
   ],
   "source": [
    "print(\"¡Hola, mundo!\")"
   ]
  },
  {
   "cell_type": "markdown",
   "metadata": {},
   "source": [
    "Operador | Descripción | Ejemplo\n",
    "--- | --- | ---\n",
    "`+` | Realiza la adicción | `5+2`\n",
    "`-`| Realiza la substracción | `5-2`\n",
    "`*` | Realiza la multiplicación | `5*2`\n",
    "`/` | Realiza la división | `5/2`\n",
    "`%` | Realiza la operación modulo | `5%2`\n",
    "`**` | Realiza la operación potenciación | `5**2`\n",
    "`//` | Realiza la división número entero | `5//2`"
   ]
  },
  {
   "cell_type": "code",
   "execution_count": 2,
   "metadata": {},
   "outputs": [
    {
     "name": "stdout",
     "output_type": "stream",
     "text": [
      "a * b =  400\n",
      "a + b =  50\n",
      "a - b =  -30\n",
      "a / b =  0.25\n"
     ]
    }
   ],
   "source": [
    "a = 10\n",
    "b = 40\n",
    "print('a * b = ',a*b)\n",
    "print('a + b = ',a+b)\n",
    "print('a - b = ',a-b)\n",
    "print('a / b = ',a/b)"
   ]
  },
  {
   "cell_type": "code",
   "execution_count": 3,
   "metadata": {},
   "outputs": [
    {
     "name": "stdout",
     "output_type": "stream",
     "text": [
      "Hola\n"
     ]
    }
   ],
   "source": [
    "# Esto es un comentario\n",
    "# Python ignora las líneas y segmentos de línea comentadas\n",
    "\n",
    "print('Hola')  # Este es un comentario. print(a+b)"
   ]
  },
  {
   "cell_type": "markdown",
   "metadata": {},
   "source": [
    "Ejemplo | Tipo de variable\n",
    "--- | --- \n",
    "`x = 10` | Entero `(int)`\n",
    "`x = 10.5`| Decimal `(float)`\n",
    "`x = \"Diez\"` | Texto `(str)`\n",
    "`x = [\"nueve\", \"diez\", \"once\"]` | Lista `(list)`\n",
    "`x = (\"nueve\", \"diez\", \"once\")` | Tupla  `(tuple)`\n",
    "`x = {\"nueve\":9, \"diez\":10, \"once\":11}` | Diccionario `(dict)`\n",
    "`x = True` | Booleano `(bool)`"
   ]
  },
  {
   "cell_type": "code",
   "execution_count": 4,
   "metadata": {},
   "outputs": [
    {
     "name": "stdout",
     "output_type": "stream",
     "text": [
      "12\n"
     ]
    }
   ],
   "source": [
    "# Números\n",
    "a = 10 \n",
    "b = 2\n",
    "print(a+b)"
   ]
  },
  {
   "cell_type": "code",
   "execution_count": 6,
   "metadata": {},
   "outputs": [
    {
     "name": "stdout",
     "output_type": "stream",
     "text": [
      "Hola,Juan\n"
     ]
    }
   ],
   "source": [
    "# Textos\n",
    "a = 'Juan'\n",
    "b = 'Hola,'\n",
    "c = b+a\n",
    "print(c) "
   ]
  },
  {
   "cell_type": "code",
   "execution_count": 7,
   "metadata": {},
   "outputs": [
    {
     "name": "stdout",
     "output_type": "stream",
     "text": [
      "La suma de strigns se llama concatenación\n"
     ]
    }
   ],
   "source": [
    "print('La suma '+'de strigns se llama '+'concatenación')"
   ]
  },
  {
   "cell_type": "code",
   "execution_count": 8,
   "metadata": {},
   "outputs": [
    {
     "data": {
      "text/plain": [
       "1"
      ]
     },
     "execution_count": 8,
     "metadata": {},
     "output_type": "execute_result"
    }
   ],
   "source": [
    "# Listas\n",
    "lista = [1,2,3,'Hola',[1,2]]\n",
    "\n",
    "# Una lista puede contener cualquier tipo de variable adentro, incluso de distintos tipos\n",
    "# Podemos extraer los elementos con números enteros que van desde cero:\n",
    "\n",
    "lista[0]"
   ]
  },
  {
   "cell_type": "code",
   "execution_count": 24,
   "metadata": {},
   "outputs": [
    {
     "data": {
      "text/plain": [
       "(1, 2, [1, 2])"
      ]
     },
     "execution_count": 24,
     "metadata": {},
     "output_type": "execute_result"
    }
   ],
   "source": [
    "lista[0], lista[1], lista[4]"
   ]
  },
  {
   "cell_type": "markdown",
   "metadata": {},
   "source": [
    "> Nota: cuando en **jupyter notebook** se deja como última línea el nombre de una variable, o de varias separadas por coma, el programa las muestra en pantalla de manera predefinida."
   ]
  },
  {
   "cell_type": "code",
   "execution_count": 11,
   "metadata": {},
   "outputs": [
    {
     "data": {
      "text/plain": [
       "[1, 2, 3, 'Hola', [1, 2]]"
      ]
     },
     "execution_count": 11,
     "metadata": {},
     "output_type": "execute_result"
    }
   ],
   "source": [
    "lista"
   ]
  },
  {
   "cell_type": "code",
   "execution_count": 12,
   "metadata": {},
   "outputs": [
    {
     "name": "stdout",
     "output_type": "stream",
     "text": [
      "[1, 2, 3, 'Hola', [1, 2]]\n"
     ]
    }
   ],
   "source": [
    "print(lista)"
   ]
  },
  {
   "cell_type": "code",
   "execution_count": 25,
   "metadata": {},
   "outputs": [
    {
     "data": {
      "text/plain": [
       "['Juan', 2, 3, 'Hola', [1, 2]]"
      ]
     },
     "execution_count": 25,
     "metadata": {},
     "output_type": "execute_result"
    }
   ],
   "source": [
    "lista[0] = 'Juan'   # Actualizamos el elemento cero\n",
    "lista"
   ]
  },
  {
   "cell_type": "code",
   "execution_count": 17,
   "metadata": {},
   "outputs": [
    {
     "data": {
      "text/plain": [
       "'Juan'"
      ]
     },
     "execution_count": 17,
     "metadata": {},
     "output_type": "execute_result"
    }
   ],
   "source": [
    "# Diccionarios\n",
    "# Los diccionarios son listas con un índice que no es entero, y que debemos darle.\n",
    "\n",
    "dicc = {'Nombre': 'Juan', 'edad':14, 'codigo estudiantil':22115, 'color favorito':'azul'}\n",
    "\n",
    "dicc['Nombre']"
   ]
  },
  {
   "cell_type": "code",
   "execution_count": 18,
   "metadata": {},
   "outputs": [
    {
     "data": {
      "text/plain": [
       "14"
      ]
     },
     "execution_count": 18,
     "metadata": {},
     "output_type": "execute_result"
    }
   ],
   "source": [
    "dicc['edad']"
   ]
  },
  {
   "cell_type": "code",
   "execution_count": 19,
   "metadata": {},
   "outputs": [
    {
     "data": {
      "text/plain": [
       "{'Nombre': 'Juan',\n",
       " 'edad': 14,\n",
       " 'codigo estudiantil': 22115,\n",
       " 'color favorito': 'azul',\n",
       " 'año': 'décimo'}"
      ]
     },
     "execution_count": 19,
     "metadata": {},
     "output_type": "execute_result"
    }
   ],
   "source": [
    "# Podemos agregar nuevos elementos o eliminarlos\n",
    "dicc['año'] = 'décimo'\n",
    "dicc"
   ]
  },
  {
   "cell_type": "code",
   "execution_count": 20,
   "metadata": {},
   "outputs": [
    {
     "data": {
      "text/plain": [
       "{'Nombre': 'Juan', 'edad': 14, 'color favorito': 'azul', 'año': 'décimo'}"
      ]
     },
     "execution_count": 20,
     "metadata": {},
     "output_type": "execute_result"
    }
   ],
   "source": [
    "del dicc['codigo estudiantil']\n",
    "dicc"
   ]
  },
  {
   "cell_type": "code",
   "execution_count": 23,
   "metadata": {},
   "outputs": [
    {
     "ename": "TypeError",
     "evalue": "'tuple' object does not support item assignment",
     "output_type": "error",
     "traceback": [
      "\u001b[0;31m---------------------------------------------------------------------------\u001b[0m",
      "\u001b[0;31mTypeError\u001b[0m                                 Traceback (most recent call last)",
      "Cell \u001b[0;32mIn[23], line 5\u001b[0m\n\u001b[1;32m      1\u001b[0m \u001b[39m# Tuple\u001b[39;00m\n\u001b[1;32m      2\u001b[0m \u001b[39m# Las tuple son listas que no permiten modificar sus elementos\u001b[39;00m\n\u001b[1;32m      3\u001b[0m a \u001b[39m=\u001b[39m (\u001b[39m1\u001b[39m,\u001b[39m2\u001b[39m,\u001b[39m3\u001b[39m,\u001b[39m'\u001b[39m\u001b[39ma\u001b[39m\u001b[39m'\u001b[39m)\n\u001b[0;32m----> 5\u001b[0m a[\u001b[39m0\u001b[39;49m] \u001b[39m=\u001b[39m \u001b[39m10\u001b[39m\n",
      "\u001b[0;31mTypeError\u001b[0m: 'tuple' object does not support item assignment"
     ]
    }
   ],
   "source": [
    "# Tuple\n",
    "# Las tuple son listas que no permiten modificar sus elementos\n",
    "a = (1,2,3,'a')\n",
    "\n",
    "a[0] = 10   # Nos saldrá un error por intentar modificar la componente cero de una tupla"
   ]
  },
  {
   "cell_type": "code",
   "execution_count": 30,
   "metadata": {},
   "outputs": [
    {
     "name": "stdout",
     "output_type": "stream",
     "text": [
      "a and b : False\n",
      "a or b  : True\n",
      "not a   : False\n",
      "a*b     : 0\n",
      "a+b     : 1\n"
     ]
    }
   ],
   "source": [
    "# Booleanos\n",
    "# Toman dos valores: True o False\n",
    "\n",
    "a = True\n",
    "b = False \n",
    "\n",
    "print('a and b :',a and b)     # Verifica si ambos son verdaderos\n",
    "print('a or b  :',a or b)      # Verifica si alguno de los dos es verdadero\n",
    "print('not a   :', not a)      # Niega el valor lógico de 'a'\n",
    "print('a*b     :',a*b)         # Multiplica dos booleanos\n",
    "print('a+b     :',a+b)         # Suma dos booleanos"
   ]
  },
  {
   "cell_type": "markdown",
   "metadata": {},
   "source": [
    "<img width=\"150px\"  src=\"https://raw.githubusercontent.com/AndresGuarin/Images/main/moncora_ejercicios_cartel.png\" align=\"center\">\n",
    "\n",
    "---"
   ]
  },
  {
   "cell_type": "markdown",
   "metadata": {},
   "source": [
    "**1**. Escribe un programa que pida una cantidad de horas y devuelva la cantidad de minutos y segundos que hay en esa hora. Agrega comentarios que hace lo que explique tu código"
   ]
  },
  {
   "cell_type": "code",
   "execution_count": null,
   "metadata": {},
   "outputs": [],
   "source": []
  },
  {
   "cell_type": "markdown",
   "metadata": {},
   "source": [
    "**1**. Mediante el uso de operadores aritméticos, calcule el área de un triángulo isósceles. Las entradas deben ser los lados `a` y `b`, siendo `a` el lado que es igual en el triángulo isósceles y siendo `b` la base del triángulo. La salida o respueste debe ser el valor del área. Debe imprimir la respuesta en pantalla. La ecuación es:\n",
    "\n",
    "$$A=\\cfrac{bh}{2}$$\n",
    "\n",
    "Recuerda que en un triángulo isósceles:\n",
    "\n",
    "<img width= 300pt src=\"https://www.neurochispas.com/wp-content/uploads/2021/03/formula-de-la-altura-de-un-triangulo-isosceles.png\">"
   ]
  },
  {
   "cell_type": "code",
   "execution_count": null,
   "metadata": {},
   "outputs": [],
   "source": []
  },
  {
   "cell_type": "markdown",
   "metadata": {},
   "source": [
    "## **1. Ciclo For**"
   ]
  },
  {
   "cell_type": "markdown",
   "metadata": {},
   "source": [
    "El ciclo for tiene la siguiente estructura:\n",
    "```\n",
    "    for n in range(0,10,1):\n",
    "        print(n)\n",
    "```\n",
    "\n",
    "Veamos con detalle:"
   ]
  },
  {
   "cell_type": "code",
   "execution_count": null,
   "metadata": {},
   "outputs": [
    {
     "data": {
      "text/plain": [
       "range(0, 10)"
      ]
     },
     "metadata": {},
     "output_type": "display_data"
    }
   ],
   "source": [
    "range(0,10,1)"
   ]
  },
  {
   "cell_type": "code",
   "execution_count": null,
   "metadata": {},
   "outputs": [
    {
     "data": {
      "text/plain": [
       "range"
      ]
     },
     "metadata": {},
     "output_type": "display_data"
    }
   ],
   "source": [
    "type(range(0,10,1))"
   ]
  },
  {
   "cell_type": "markdown",
   "metadata": {},
   "source": [
    "`range(0,10,1)` es lo que llamamos un iterador. Es una función predefinida en python con el propósito de crear ciclos `for` de manera sencilla.\n",
    "\n",
    "`for n in range(0,10,1)` significa que para cada n que pertenece al conjunto `range(0,10,1)` el ciclo se repetirá una vez. Si `range(0,10,1)` posee 10 elementos, entonces el ciclo se ejecutará 10 veces.\n",
    "\n",
    "A `n` se le llama variable de iteración."
   ]
  },
  {
   "cell_type": "code",
   "execution_count": null,
   "metadata": {},
   "outputs": [
    {
     "name": "stdout",
     "output_type": "stream",
     "text": [
      "Hola Hola Hola Hola Hola Hola Hola Hola Hola Hola "
     ]
    }
   ],
   "source": [
    "for n in range(0,10,1):\n",
    "    print('Hola', end=' ')"
   ]
  },
  {
   "cell_type": "markdown",
   "metadata": {},
   "source": [
    "La anterior celda muestre la palabra `Hola` 10 veces, que es el número puesto en la función `range()`"
   ]
  },
  {
   "cell_type": "markdown",
   "metadata": {},
   "source": [
    "Los ciclos en python tienen una ventaja y es que en cada ciclo de `for n in range(0,10,1)` tenemos acceso al valor de la variable `n`."
   ]
  },
  {
   "cell_type": "code",
   "execution_count": null,
   "metadata": {},
   "outputs": [
    {
     "name": "stdout",
     "output_type": "stream",
     "text": [
      "0 1 2 3 4 5 6 7 8 9 "
     ]
    }
   ],
   "source": [
    "for n in range(0,10,1):\n",
    "    print(n,end=' ')"
   ]
  },
  {
   "cell_type": "markdown",
   "metadata": {},
   "source": [
    "Ahora podemos entender el signifado de los números al interior de `range()`:\n",
    "\n",
    "```\n",
    "for n in range(a,b,k):\n",
    "    print(n)\n",
    "```\n",
    "\n",
    "* `a` es el primer número.\n",
    "* `b` es el límite superior. `n` siempre es estrictamente menor que `b` ($n<b$).\n",
    "* `k` es el salto entre cada número.\n",
    "\n",
    "La función `range(a,b,k)` siempre va acendentemente desde `a` hasta `b` dando saltos de tamaño `k`."
   ]
  },
  {
   "cell_type": "code",
   "execution_count": null,
   "metadata": {},
   "outputs": [
    {
     "name": "stdout",
     "output_type": "stream",
     "text": [
      "0 5 10 15 20 25 30 35 40 45 50 55 60 65 70 75 80 85 90 95 "
     ]
    }
   ],
   "source": [
    "for n in range(0,100,5):\n",
    "    print(n, end=' ')"
   ]
  },
  {
   "cell_type": "markdown",
   "metadata": {},
   "source": [
    "**Ejercicio**\n",
    "\n",
    "* Elabora un ciclo que valla desde 1 hasta 15 en pasos de 1 y muestre en pantalla la tabla del 13."
   ]
  },
  {
   "cell_type": "code",
   "execution_count": null,
   "metadata": {},
   "outputs": [],
   "source": []
  },
  {
   "cell_type": "markdown",
   "metadata": {},
   "source": [
    "*Simple is better*\n",
    "\n",
    "A menudo necesitamos un ciclo que valla desde 0 hasta un $N$ en pasos de 1. Por ejemplo si queremos que una tarea se ejecute 10 veces. En estos casos, podemos obviar al primer y tercer número de `range(a,b,k)` y sólo poner el valor de `b`. Esto simplifica la escritura del código:"
   ]
  },
  {
   "cell_type": "code",
   "execution_count": null,
   "metadata": {},
   "outputs": [
    {
     "name": "stdout",
     "output_type": "stream",
     "text": [
      "Juan Juan Juan Juan Juan Juan Juan Juan Juan Juan "
     ]
    }
   ],
   "source": [
    "for n in range(10):\n",
    "    print('Juan',end=' ')"
   ]
  },
  {
   "cell_type": "markdown",
   "metadata": {},
   "source": [
    "También podemos aprovechar la ventaja de acceder a la variable de iteración para hacer ciclos creativos"
   ]
  },
  {
   "cell_type": "code",
   "execution_count": null,
   "metadata": {},
   "outputs": [
    {
     "name": "stdout",
     "output_type": "stream",
     "text": [
      "Fundación Colegio UIS\n",
      "Colegio Santander\n",
      "Colegio Damaso Zapato\n"
     ]
    }
   ],
   "source": [
    "for colegio in ['Fundación Colegio UIS', 'Colegio Santander', 'Colegio Damaso Zapato']:\n",
    "    print(colegio)"
   ]
  },
  {
   "cell_type": "code",
   "execution_count": null,
   "metadata": {},
   "outputs": [
    {
     "name": "stdout",
     "output_type": "stream",
     "text": [
      "0 1 4 9 16 25 "
     ]
    }
   ],
   "source": [
    "for num in [0,1,2,3,4,5]:\n",
    "    print(num**2, end=' ')"
   ]
  },
  {
   "cell_type": "markdown",
   "metadata": {},
   "source": [
    "Note que en lugar de usar la función `range()` hemos definido explicitamente al conjunto de iteración usando una lista `[]`"
   ]
  },
  {
   "cell_type": "markdown",
   "metadata": {},
   "source": [
    "## **2. Ciclo while**"
   ]
  },
  {
   "cell_type": "markdown",
   "metadata": {},
   "source": [
    "El ciclo `while` tiene la siguiente estructura:\n",
    "```\n",
    "    a = 0\n",
    "    b = 10\n",
    "    while a < b:\n",
    "        print(a)\n",
    "        a = a+1\n",
    "```\n",
    "\n",
    "Veámos con detalle:\n",
    "\n",
    "* `a<b` es la condición del ciclo. En cada repetición el valor de `a` cambia. Al inicio de cada repetición el ciclo `while` evalua si la condición `a<b` sigue siendo `True`, de lo contrario si es `False` rompe el ciclo."
   ]
  },
  {
   "cell_type": "code",
   "execution_count": null,
   "metadata": {},
   "outputs": [
    {
     "name": "stdout",
     "output_type": "stream",
     "text": [
      "True True True True True False False False False False "
     ]
    }
   ],
   "source": [
    "b = 5\n",
    "for a in range(0,10,1):\n",
    "    print(a<b, end=' ')"
   ]
  },
  {
   "cell_type": "markdown",
   "metadata": {},
   "source": [
    "El anterior ciclo `for` es un ejemplo que nos ayuda a entender la función de la condición `a<b`. Al inicio es `True` por lo que si fuese un ciclo while se repetiría en cada ocasión, el ciclo se dentría en la primera vez que la condición sea `False`."
   ]
  },
  {
   "cell_type": "code",
   "execution_count": null,
   "metadata": {},
   "outputs": [
    {
     "name": "stdout",
     "output_type": "stream",
     "text": [
      "0 1 2 3 4 "
     ]
    }
   ],
   "source": [
    "a = 0\n",
    "b = 5\n",
    "while a<b:\n",
    "    print(a, end=' ')\n",
    "    a = a+1"
   ]
  },
  {
   "cell_type": "markdown",
   "metadata": {},
   "source": [
    "En el ejemplo anterior, el valor de `a` empieza en cero. A medida que el ciclo se repite, `a` va aumentando de 1 en 1 hasta 4. Al llegar a `a=5` el ciclo no se detiene."
   ]
  },
  {
   "cell_type": "markdown",
   "metadata": {},
   "source": [
    "* La línea `a = a+1` se denomina *increemento* de `a`, y es importante para que el ciclo se dentenga eventualmente."
   ]
  },
  {
   "cell_type": "markdown",
   "metadata": {},
   "source": [
    " En 1937, un matemático alemán llamado Lothar Collatz formuló una hipótesis intrigante (aún no se ha comprobado) que se puede describir de la siguiente manera:\n",
    "\n",
    "   1. Toma cualquier número natural distinto de cero y llámalo `n`.\n",
    "   2. Si `n` es par, cambia `n` por `n / 2`.\n",
    "   3. De lo contrario, si es impar, cambia `n` por `3 × n + 1`;\n",
    "   4. Si `n ≠ 1` vuelve al punto 2 y repite los pasos."
   ]
  },
  {
   "cell_type": "code",
   "execution_count": null,
   "metadata": {},
   "outputs": [
    {
     "name": "stdout",
     "output_type": "stream",
     "text": [
      "3 10 5 16 8 4 2 1 "
     ]
    }
   ],
   "source": [
    "n = 6\n",
    "while n != 1:\n",
    "    if n%2 == 0:      # Si n es par\n",
    "        n = n//2      # Divide entre dos el número\n",
    "    else:             # Si n es impar\n",
    "        n = 3*n + 1   # Múltiplica por tres el número y le suma 1\n",
    "    print(n, end=' ') \n",
    "\n",
    "# Conjetura de Collatz: sin importat cuál sea n, el algoritmo siempre llega hasta n = 1"
   ]
  },
  {
   "cell_type": "markdown",
   "metadata": {},
   "source": [
    "El ciclo `while` se usa cuando no sabemos el número de veces que debemos repetir una tarea. En contraste, el ciclo `for` cuando sabemos exactamente el número de veces."
   ]
  },
  {
   "cell_type": "markdown",
   "metadata": {},
   "source": [
    "**Ejercicios**"
   ]
  },
  {
   "cell_type": "markdown",
   "metadata": {},
   "source": [
    "<div class=\"alert alert-block alert-warning\">  \n",
    "<b>Serie de Fibonacci:</b> Se trata de una secuencia infinita de números naturales; a partir del 0 y el 1, se van sumando a pares, de manera que cada número es igual a la suma de sus dos anteriores, de manera que:\n",
    "\n",
    "` 0, 1, 1, 2, 3, 5, 8, 13, 21, 34, 55, ...`\n",
    "\n",
    "\n",
    "</div>\n",
    "\n",
    "\n",
    "\n",
    "**1.** Mostrar los primeros 10 terminos de la serie de fibonacci, recordar que la formula para la serie es:\n",
    "```\n",
    "f(n) = f(n-1) + f(n-2)\n",
    "```"
   ]
  },
  {
   "cell_type": "code",
   "execution_count": null,
   "metadata": {},
   "outputs": [],
   "source": []
  },
  {
   "cell_type": "markdown",
   "metadata": {},
   "source": [
    "**2.** ¿Cuántos números entre 1 y 100 son divisibles por 7? \n",
    "\n"
   ]
  },
  {
   "cell_type": "code",
   "execution_count": null,
   "metadata": {},
   "outputs": [],
   "source": []
  },
  {
   "cell_type": "markdown",
   "metadata": {},
   "source": [
    "**3.**  Escriba un prgrama que chequee si un número es primo o no. "
   ]
  },
  {
   "cell_type": "code",
   "execution_count": null,
   "metadata": {},
   "outputs": [],
   "source": []
  },
  {
   "cell_type": "markdown",
   "metadata": {},
   "source": [
    "Para hacer un repaso de los ciclos en Python también puede revisar [este vídeo](https://www.youtube.com/watch?v=chPhlsHoEPo&t=9387s)"
   ]
  }
 ],
 "metadata": {
  "kernelspec": {
   "display_name": "python-venv",
   "language": "python",
   "name": "python3"
  },
  "language_info": {
   "codemirror_mode": {
    "name": "ipython",
    "version": 3
   },
   "file_extension": ".py",
   "mimetype": "text/x-python",
   "name": "python",
   "nbconvert_exporter": "python",
   "pygments_lexer": "ipython3",
   "version": "3.11.3"
  },
  "orig_nbformat": 4
 },
 "nbformat": 4,
 "nbformat_minor": 2
}
