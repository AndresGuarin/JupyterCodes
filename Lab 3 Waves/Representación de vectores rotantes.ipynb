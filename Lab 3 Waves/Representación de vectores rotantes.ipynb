{
 "cells": [
  {
   "cell_type": "code",
   "execution_count": 1,
   "id": "47b946e9",
   "metadata": {},
   "outputs": [],
   "source": [
    "import numpy as np\n",
    "import matplotlib.pyplot as plt\n",
    "import pandas as pd\n",
    "import matplotlib.animation as animation"
   ]
  },
  {
   "cell_type": "code",
   "execution_count": 3,
   "id": "5f9f5ba0",
   "metadata": {
    "scrolled": true
   },
   "outputs": [
    {
     "name": "stdout",
     "output_type": "stream",
     "text": [
      "Using matplotlib backend: TkAgg\n"
     ]
    }
   ],
   "source": [
    "%matplotlib auto"
   ]
  },
  {
   "cell_type": "code",
   "execution_count": 4,
   "id": "e7bdd1ed",
   "metadata": {},
   "outputs": [],
   "source": [
    "#Data\n",
    "t=np.linspace(0,50,1000)\n",
    "x=10*np.cos(2*t)\n",
    "vx=20*np.sin(2*t)\n",
    "ax=40*np.cos(2*t)\n",
    "df=pd.DataFrame({'X':x,'Vx':vx,'Ax':ax})"
   ]
  },
  {
   "cell_type": "code",
   "execution_count": 5,
   "id": "055983e1",
   "metadata": {},
   "outputs": [],
   "source": [
    "#Plot\n",
    "d=0.2\n",
    "def plot_circles():\n",
    "    a=[1,0.8,0.6]\n",
    "    c=['red','blue','green']\n",
    "    theta=np.linspace(0,2*np.pi,200)\n",
    "    for i in range(3):\n",
    "        x=a[i]*np.cos(theta)-a[0]-2*d\n",
    "        y=a[i]*np.sin(theta)\n",
    "        plt.plot(x,y,'--',color=c[i],linewidth=1.5)\n",
    "    ax.plot([-2*a[0]-3*d,-d],[0,0],'-',color='black',linewidth=0.7)\n",
    "    ax.plot([-a[0]-2*d,-a[0]-2*d],[-a[0]-d,a[0]+d],'-',color='black',linewidth=0.7)\n",
    "\n",
    "def plot_curves(df):\n",
    "    maxs=[max(df[s].values) for s in ['X','Vx','Ax']]\n",
    "    x=df['X'].values*(0.6/maxs[0])\n",
    "    vx=df['Vx'].values*(0.8/maxs[1])\n",
    "    Ax=df['Ax'].values*(1/maxs[2])\n",
    "    T=3.14 #Put the value acording the data\n",
    "    h=5/100 #Put the value acording the data\n",
    "    n=int(1.5*T/h)\n",
    "    t=np.linspace(0,5,n)\n",
    "    ax.plot(t,x[0:n],'-g',linewidth=1.5)\n",
    "    ax.plot(t,vx[0:n],'-b',linewidth=1.5)\n",
    "    ax.plot(t,Ax[0:n],'-r',linewidth=1.5)\n",
    "    \n",
    "    ax.plot([0,5.1],[0,0],'-',color='black',linewidth=0.7)\n",
    "    ax.plot([0,0],[-1,1],'-',color='black',linewidth=0.7)"
   ]
  },
  {
   "cell_type": "code",
   "execution_count": 7,
   "id": "dee54f06",
   "metadata": {},
   "outputs": [],
   "source": [
    "fig,ax=plt.subplots()\n",
    "plot_circles()\n",
    "plot_curves(df)\n",
    "plt.xlim(-2.5,6)\n",
    "plt.ylim(-2,2)\n",
    "plt.rcParams['figure.figsize'] = [10, 4]\n",
    "plt.show()"
   ]
  },
  {
   "cell_type": "code",
   "execution_count": null,
   "id": "b0d35f38",
   "metadata": {},
   "outputs": [],
   "source": []
  }
 ],
 "metadata": {
  "kernelspec": {
   "display_name": "Python 3 (ipykernel)",
   "language": "python",
   "name": "python3"
  },
  "language_info": {
   "codemirror_mode": {
    "name": "ipython",
    "version": 3
   },
   "file_extension": ".py",
   "mimetype": "text/x-python",
   "name": "python",
   "nbconvert_exporter": "python",
   "pygments_lexer": "ipython3",
   "version": "3.10.4"
  }
 },
 "nbformat": 4,
 "nbformat_minor": 5
}
