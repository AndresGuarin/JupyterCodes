{
 "cells": [
  {
   "cell_type": "code",
   "execution_count": 1,
   "id": "47b946e9",
   "metadata": {},
   "outputs": [],
   "source": [
    "import numpy as np\n",
    "import matplotlib.pyplot as plt\n",
    "import pandas as pd\n",
    "import matplotlib.animation as animation"
   ]
  },
  {
   "cell_type": "code",
   "execution_count": 3,
   "id": "5f9f5ba0",
   "metadata": {
    "scrolled": true
   },
   "outputs": [
    {
     "name": "stdout",
     "output_type": "stream",
     "text": [
      "Using matplotlib backend: TkAgg\n"
     ]
    }
   ],
   "source": [
    "%matplotlib auto"
   ]
  },
  {
   "cell_type": "code",
   "execution_count": 4,
   "id": "e7bdd1ed",
   "metadata": {},
   "outputs": [],
   "source": [
    "#Data\n",
    "t=np.linspace(0,50,2000)\n",
    "x=10*np.cos(4*t)\n",
    "vx=-20*np.sin(4*t)\n",
    "ax=-40*np.cos(4*t)\n",
    "df=pd.DataFrame({'X':x,'Vx':vx,'Ax':ax})"
   ]
  },
  {
   "cell_type": "code",
   "execution_count": 5,
   "id": "055983e1",
   "metadata": {},
   "outputs": [
    {
     "name": "stdout",
     "output_type": "stream",
     "text": [
      "Done!\n"
     ]
    }
   ],
   "source": [
    "class vectors:    \n",
    "    def __init__(self):\n",
    "        self.d=0.2\n",
    "        self.a=[0.6,0.8,1]\n",
    "        self.c=['#2E9AFE','#01DF01','#FF4000']\n",
    "        self.h=5/200 #Time spacing Delat_t. Put the value acording the data\n",
    "        self.T=np.pi/2 #Period. Put the value acording the data\n",
    "        self.maxs=[max(abs(df[s].values)) for s in ['X','Vx','Ax']]\n",
    "        self.periodos=2 #número máximo de periodos a graficar\n",
    "        \n",
    "    def get_self(self):\n",
    "        return self\n",
    "    \n",
    "    def plot_circles(self,ax):\n",
    "        theta=np.linspace(0,2*np.pi,200)\n",
    "        for i in range(3):\n",
    "            x=self.a[i]*np.cos(theta)-self.a[2]-2*self.d\n",
    "            y=self.a[i]*np.sin(theta)\n",
    "            plt.plot(x,y,'--',color=self.c[i],linewidth=1.5)\n",
    "        ax.plot([-2*self.a[2]-3*self.d,-self.d],[0,0],'-',color='black',linewidth=1.5)\n",
    "        ax.plot([-self.a[2]-2*self.d,-self.a[2]-2*self.d],[-self.a[2]-self.d,self.a[2]+self.d],'-',color='black',linewidth=1.5)\n",
    "\n",
    "    \n",
    "    def plot_curves(self,ax,df,start,end):\n",
    "        x=df['X'].values*(self.a[0]/self.maxs[0])\n",
    "        vx=df['Vx'].values*(self.a[1]/self.maxs[1])\n",
    "        Ax=df['Ax'].values*(self.a[2]/self.maxs[2])\n",
    "        tmax=self.T*self.periodos\n",
    "        a1=int(start)\n",
    "        b=int(end)\n",
    "        t=np.linspace(0,(b-a1)*self.h,b-a1+1)*(5/tmax) #5 es el valor máximo en x de la grafica\n",
    "        left_lim=(b-a1)*self.h*(5/tmax)\n",
    "        ax.plot(-t+left_lim,x[a1:b+1],'-',color=self.c[0],linewidth=1.5,label='$x$')\n",
    "        ax.plot(-t+left_lim,vx[a1:b+1],'-',color=self.c[1],linewidth=1.5,label='$v_x$')\n",
    "        ax.plot(-t+left_lim,Ax[a1:b+1],'-',color=self.c[2],linewidth=1.5,label='$a_x$')\n",
    "        #ax.plot(t,x[a1:b+1],'--m',linewidth=1.5)\n",
    "        ax.plot([0,5.1],[0,0],'-',color='black',linewidth=1.5)\n",
    "        ax.plot([0,0],[-1,1],'-',color='black',linewidth=1.5)\n",
    "\n",
    "    def plot_vectors(self,ax,df,end):\n",
    "        dats=['X','Vx','Ax']\n",
    "        H=np.array([df[dats[i]][end]*(self.a[i]/self.maxs[i]) for i in range(3)])\n",
    "        theta0=np.array([np.arcsin(df[dats[i]][0]/self.maxs[i]) for i in range(3)])\n",
    "        theta=theta0+(2*np.pi/self.T)*self.h*end #theta = theta0 + (2pi/T)t, con t=h*end\n",
    "        x0=-self.a[2]-2*self.d\n",
    "        y0=0\n",
    "        for i in range(3):\n",
    "            ax.quiver(x0,y0,H[i]/np.tan(theta[i]),H[i],width=0.004,color=self.c[i],angles='xy', scale_units='xy', scale=1)\n",
    "            ax.plot([x0+H[i]/np.tan(theta[i]),0],[y0+H[i],y0+H[i]],'-',color=self.c[i],linewidth=1.5)\n",
    "            ax.plot(0,y0+H[i],'o',color=self.c[i],markersize=6)\n",
    "    def plot_time_moment(self,df,start=0,end=2):\n",
    "        fig,ax=plt.subplots()\n",
    "        self.plot_circles(ax)\n",
    "        self.plot_curves(ax,df,start,end)\n",
    "        self.plot_vectors(ax,df,end)\n",
    "        plt.xlim(-2.5,5.3)\n",
    "        plt.ylim(-2,2)\n",
    "        plt.rcParams['figure.figsize'] = [10, 4]\n",
    "        plt.legend()\n",
    "        plt.show()\n",
    "print('Done!')"
   ]
  },
  {
   "cell_type": "code",
   "execution_count": 6,
   "id": "9c3783c6",
   "metadata": {},
   "outputs": [
    {
     "name": "stdout",
     "output_type": "stream",
     "text": [
      "Done!\n"
     ]
    }
   ],
   "source": [
    "def animate_vect(vect, df):\n",
    "    fig = plt.figure(figsize=(10,4))\n",
    "    ax = fig.gca()\n",
    "    N=len(df['X'].values)\n",
    "    step=1 #pasos de la animación\n",
    "    self=vect.get_self()\n",
    "    width_N = int(self.T*self.periodos/self.h) #ancho de intervalos a mostrar en pantalla\n",
    "    def update(i):\n",
    "        ax.clear()\n",
    "        vect.plot_circles(ax)\n",
    "        if i<= width_N:\n",
    "            start=0\n",
    "        else:\n",
    "            start=i-width_N\n",
    "        vect.plot_curves(ax,df,start,i+step)\n",
    "        vect.plot_vectors(ax,df,i+step)\n",
    "        plt.xlim(-2.5,5.3)\n",
    "        plt.ylim(-2,2)\n",
    "        plt.legend()\n",
    "    ani=animation.FuncAnimation(fig, update, range(0,N-step,step),interval=30,repeat=False)\n",
    "    ani.save('vectores.mp4', writer='ffmpeg')\n",
    "    plt.show()\n",
    "print('Done!')"
   ]
  },
  {
   "cell_type": "code",
   "execution_count": 8,
   "id": "dee54f06",
   "metadata": {
    "scrolled": false
   },
   "outputs": [],
   "source": [
    "start=0\n",
    "end=80\n",
    "vect=vectors()\n",
    "#vect.plot_time_moment(df,start,end)\n",
    "animate_vect(vect, df)"
   ]
  },
  {
   "cell_type": "code",
   "execution_count": 149,
   "id": "f98aaccc",
   "metadata": {},
   "outputs": [],
   "source": [
    "animation.FuncAnimation.save?"
   ]
  },
  {
   "cell_type": "code",
   "execution_count": null,
   "id": "92220f7f",
   "metadata": {},
   "outputs": [],
   "source": []
  }
 ],
 "metadata": {
  "kernelspec": {
   "display_name": "Python 3 (ipykernel)",
   "language": "python",
   "name": "python3"
  },
  "language_info": {
   "codemirror_mode": {
    "name": "ipython",
    "version": 3
   },
   "file_extension": ".py",
   "mimetype": "text/x-python",
   "name": "python",
   "nbconvert_exporter": "python",
   "pygments_lexer": "ipython3",
   "version": "3.10.4"
  }
 },
 "nbformat": 4,
 "nbformat_minor": 5
}
