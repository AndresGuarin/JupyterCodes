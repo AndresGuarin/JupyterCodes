{
 "cells": [
  {
   "cell_type": "code",
   "execution_count": 2,
   "id": "0ce98c1a",
   "metadata": {},
   "outputs": [],
   "source": [
    "import numpy as np\n",
    "import matplotlib.pyplot as plt"
   ]
  },
  {
   "cell_type": "code",
   "execution_count": 4,
   "id": "f2248d1d",
   "metadata": {
    "scrolled": true
   },
   "outputs": [
    {
     "name": "stdout",
     "output_type": "stream",
     "text": [
      "Using matplotlib backend: TkAgg\n"
     ]
    }
   ],
   "source": [
    "%matplotlib auto"
   ]
  },
  {
   "cell_type": "code",
   "execution_count": 19,
   "id": "3f4c2896",
   "metadata": {},
   "outputs": [],
   "source": [
    "# Code Parameters\n",
    "x1=-0.18\n",
    "m1=1\n",
    "m2=1.4\n",
    "g=9.8\n",
    "T_corte=2.001059594\n",
    "M=m1+m2\n",
    "l=g*T_corte**2/(4*np.pi**2)\n",
    "\n",
    "# Data of the plot\n",
    "def data_plot(a=0.15,b=0.9):\n",
    "    x2=np.linspace(a,b,300)\n",
    "    xcm=(m1*x1+m2*x2)/M\n",
    "    l1=abs(xcm-x1)\n",
    "    l2=abs(xcm-x2)\n",
    "    \n",
    "    TT=4*np.pi**2/g*(abs(xcm) + (m1*l1**2+m2*l2**2)/(M*abs(xcm)))\n",
    "    UU=4*np.pi**2/g*(abs(l-xcm) + (m1*l1**2+m2*l2**2)/(M*abs(l-xcm)))\n",
    "    \n",
    "    return x2, TT, UU\n",
    "\n",
    "def plot_comparison():\n",
    "    plt.figure(figsize=(6,4.8))\n",
    "    x2,TT,UU=data_plot(0.2-0.90,3.1)\n",
    "    plt.plot(x2,TT,label='$H_1$')\n",
    "    plt.plot(x2,UU, label='$H_2$')\n",
    "    \n",
    "    #plt.plot(0.3398,4,'or',markersize=4) #para x1=-0.25\n",
    "    #plt.plot(0.6531,4,'or',markersize=4)\n",
    "    plt.plot(0.1871,4,'or',markersize=4) #para x1=-0.18\n",
    "    plt.plot(0.8069,4,'or',markersize=4)\n",
    "    \n",
    "    #plt.axvline(0.18,color='green',ls='--',lw=1.2,label='$x_2=0.18$') #para x1=-0.25\n",
    "    #plt.axvline(1.881,color='brown',ls='--',lw=1.2,label='$x_2=1.9$')\n",
    "    #plt.axvline(0.2143,color='green',ls='--',lw=1.2,label='$x_2=0.21$') #para x1=-0.3\n",
    "    #plt.axvline(1.9182,color='brown',ls='--',lw=1.2,label='$x_2=1.92$') \n",
    "    plt.axvline(0.1286,color='green',ls='--',lw=1.2,label='$x_2=0.13$') #para x1=-0.18\n",
    "    plt.axvline(1.8325,color='brown',ls='--',lw=1.2,label='$x_2=1.83$') \n",
    "    \n",
    "    plt.ylim(0.3,20)\n",
    "    plt.title('Periodo en función de $x_2$',fontsize=16)\n",
    "    plt.xlabel('$x_2$ [$m$]',fontsize=14)\n",
    "    plt.ylabel('$T^2$ [$s^2$]',fontsize=14)\n",
    "    plt.xticks(fontsize=12)\n",
    "    plt.yticks(fontsize=12)\n",
    "    plt.legend(fontsize=14,loc='upper left')\n",
    "    plt.grid()\n",
    "    plt.savefig('periodo_x2_x1_cruce.png',dpi=250)\n",
    "    plt.show()\n",
    "\n",
    "def plot_H1():\n",
    "    plt.figure(figsize=(6,4.8))\n",
    "    x2,TT,UU=data_plot(0.2-0.50,0.2+0.50)\n",
    "    plt.plot(x2,TT,label='$H_1$')\n",
    "    plt.plot(-0.09181,0.79,'og',markersize=4)\n",
    "    plt.plot(0.4552,3.668,'og',markersize=4)\n",
    "    plt.ylim(0,8.5)\n",
    "    plt.title('Periodo en función de $x_2$',fontsize=16)\n",
    "    plt.xlabel('$x_2$ [$m$]',fontsize=14)\n",
    "    plt.ylabel('$T^2$ [$s^2$]',fontsize=14)\n",
    "    plt.xticks(fontsize=12)\n",
    "    plt.yticks(fontsize=12)\n",
    "    plt.legend(fontsize=14)\n",
    "    plt.grid()\n",
    "    plt.savefig('periodo_x2_H1.png',dpi=250)\n",
    "    plt.show()"
   ]
  },
  {
   "cell_type": "code",
   "execution_count": 62,
   "id": "bfd505b4",
   "metadata": {},
   "outputs": [],
   "source": [
    "plot_H1()"
   ]
  },
  {
   "cell_type": "code",
   "execution_count": 20,
   "id": "065b4dc5",
   "metadata": {},
   "outputs": [],
   "source": [
    "plot_comparison()"
   ]
  }
 ],
 "metadata": {
  "kernelspec": {
   "display_name": "Python 3 (ipykernel)",
   "language": "python",
   "name": "python3"
  },
  "language_info": {
   "codemirror_mode": {
    "name": "ipython",
    "version": 3
   },
   "file_extension": ".py",
   "mimetype": "text/x-python",
   "name": "python",
   "nbconvert_exporter": "python",
   "pygments_lexer": "ipython3",
   "version": "3.10.5"
  }
 },
 "nbformat": 4,
 "nbformat_minor": 5
}
