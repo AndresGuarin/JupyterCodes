{
 "cells": [
  {
   "cell_type": "code",
   "execution_count": 1,
   "id": "47b946e9",
   "metadata": {},
   "outputs": [],
   "source": [
    "import numpy as np\n",
    "import matplotlib.pyplot as plt\n",
    "import pandas as pd\n",
    "import matplotlib.animation as animation"
   ]
  },
  {
   "cell_type": "code",
   "execution_count": 3,
   "id": "5f9f5ba0",
   "metadata": {
    "scrolled": true
   },
   "outputs": [
    {
     "name": "stdout",
     "output_type": "stream",
     "text": [
      "Using matplotlib backend: TkAgg\n"
     ]
    }
   ],
   "source": [
    "%matplotlib auto"
   ]
  },
  {
   "cell_type": "code",
   "execution_count": 107,
   "id": "e7bdd1ed",
   "metadata": {},
   "outputs": [],
   "source": [
    "#Data\n",
    "t=np.linspace(0,50,2000)\n",
    "x=10*np.cos(4*t)\n",
    "vx=-20*np.sin(4*t)\n",
    "ax=-40*np.cos(4*t)\n",
    "df=pd.DataFrame({'X':x,'Vx':vx,'Ax':ax})"
   ]
  },
  {
   "cell_type": "code",
   "execution_count": 131,
   "id": "055983e1",
   "metadata": {},
   "outputs": [
    {
     "name": "stdout",
     "output_type": "stream",
     "text": [
      "Done!\n"
     ]
    }
   ],
   "source": [
    "class vectors:    \n",
    "    def __init__(self):\n",
    "        self.d=0.2\n",
    "        self.a=[0.6,0.8,1]\n",
    "        self.c=['#2E9AFE','#01DF01','#FF4000']\n",
    "        self.h=5/200 #Time spacing Delat_t. Put the value acording the data\n",
    "        self.T=np.pi/2 #Period. Put the value acording the data\n",
    "        self.maxs=[max(abs(df[s].values)) for s in ['X','Vx','Ax']]\n",
    "        self.periodos=2 #número máximo de periodos a graficar\n",
    "        \n",
    "    def get_self(self):\n",
    "        return self\n",
    "    \n",
    "    def plot_circles(self,ax):\n",
    "        theta=np.linspace(0,2*np.pi,200)\n",
    "        for i in range(3):\n",
    "            x=self.a[i]*np.cos(theta)-self.a[2]-2*self.d\n",
    "            y=self.a[i]*np.sin(theta)\n",
    "            plt.plot(x,y,'--',color=self.c[i],linewidth=1.5)\n",
    "        ax.plot([-2*self.a[2]-3*self.d,-self.d],[0,0],'-',color='black',linewidth=1.5)\n",
    "        ax.plot([-self.a[2]-2*self.d,-self.a[2]-2*self.d],[-self.a[2]-self.d,self.a[2]+self.d],'-',color='black',linewidth=1.5)\n",
    "\n",
    "    \n",
    "    def plot_curves(self,ax,df,start,end):\n",
    "        x=df['X'].values*(self.a[0]/self.maxs[0])\n",
    "        vx=df['Vx'].values*(self.a[1]/self.maxs[1])\n",
    "        Ax=df['Ax'].values*(self.a[2]/self.maxs[2])\n",
    "        tmax=self.T*self.periodos\n",
    "        a1=int(start)\n",
    "        b=int(end)\n",
    "        t=np.linspace(0,(b-a1)*self.h,b-a1+1)*(5/tmax) #5 es el valor máximo en x de la grafica\n",
    "        left_lim=(b-a1)*self.h*(5/tmax)\n",
    "        ax.plot(-t+left_lim,x[a1:b+1],'-',color=self.c[0],linewidth=1.5,label='$x$')\n",
    "        ax.plot(-t+left_lim,vx[a1:b+1],'-',color=self.c[1],linewidth=1.5,label='$v_x$')\n",
    "        ax.plot(-t+left_lim,Ax[a1:b+1],'-',color=self.c[2],linewidth=1.5,label='$a_x$')\n",
    "        #ax.plot(t,x[a1:b+1],'--m',linewidth=1.5)\n",
    "        ax.plot([0,5.1],[0,0],'-',color='black',linewidth=1.5)\n",
    "        ax.plot([0,0],[-1,1],'-',color='black',linewidth=1.5)\n",
    "\n",
    "    def plot_vectors(self,ax,df,end):\n",
    "        dats=['X','Vx','Ax']\n",
    "        H=np.array([df[dats[i]][end]*(self.a[i]/self.maxs[i]) for i in range(3)])\n",
    "        theta0=np.array([np.arcsin(df[dats[i]][0]/self.maxs[i]) for i in range(3)])\n",
    "        theta=theta0+(2*np.pi/self.T)*self.h*end #theta = theta0 + (2pi/T)t, con t=h*end\n",
    "        x0=-self.a[2]-2*self.d\n",
    "        y0=0\n",
    "        for i in range(3):\n",
    "            ax.quiver(x0,y0,H[i]/np.tan(theta[i]),H[i],width=0.004,color=self.c[i],angles='xy', scale_units='xy', scale=1)\n",
    "            ax.plot([x0+H[i]/np.tan(theta[i]),0],[y0+H[i],y0+H[i]],'-',color=self.c[i],linewidth=1.5)\n",
    "            ax.plot(0,y0+H[i],'o',color=self.c[i],markersize=6)\n",
    "    def plot_time_moment(self,df,start=0,end=2):\n",
    "        fig,ax=plt.subplots()\n",
    "        self.plot_circles(ax)\n",
    "        self.plot_curves(ax,df,start,end)\n",
    "        self.plot_vectors(ax,df,end)\n",
    "        plt.xlim(-2.5,5.3)\n",
    "        plt.ylim(-2,2)\n",
    "        plt.rcParams['figure.figsize'] = [10, 4]\n",
    "        plt.legend()\n",
    "        plt.show()\n",
    "print('Done!')"
   ]
  },
  {
   "cell_type": "code",
   "execution_count": 147,
   "id": "8196cd40",
   "metadata": {},
   "outputs": [
    {
     "name": "stdout",
     "output_type": "stream",
     "text": [
      "Done!\n"
     ]
    }
   ],
   "source": [
    "def animate_vect(vect, df):\n",
    "    fig = plt.figure(figsize=(10,4))\n",
    "    ax = fig.gca()\n",
    "    N=len(df['X'].values)\n",
    "    step=1 #pasos de la animación\n",
    "    self=vect.get_self()\n",
    "    width_N = int(self.T*self.periodos/self.h) #ancho de intervalos a mostrar en pantalla\n",
    "    def update(i):\n",
    "        ax.clear()\n",
    "        vect.plot_circles(ax)\n",
    "        if i<= width_N:\n",
    "            start=0\n",
    "        else:\n",
    "            start=i-width_N\n",
    "        vect.plot_curves(ax,df,start,i+step)\n",
    "        vect.plot_vectors(ax,df,i+step)\n",
    "        plt.xlim(-2.5,5.3)\n",
    "        plt.ylim(-2,2)\n",
    "        plt.legend()\n",
    "    ani=animation.FuncAnimation(fig, update, range(0,N-step,step),interval=30,repeat=False)\n",
    "    ani.save('vectores.mp4', writer='ffmpeg')\n",
    "    plt.show()\n",
    "print('Done!')"
   ]
  },
  {
   "cell_type": "code",
   "execution_count": 148,
   "id": "dee54f06",
   "metadata": {
    "scrolled": false
   },
   "outputs": [
    {
     "name": "stderr",
     "output_type": "stream",
     "text": [
      "MovieWriter ffmpeg unavailable; using Pillow instead.\n"
     ]
    },
    {
     "ename": "ValueError",
     "evalue": "unknown file extension: .mp4",
     "output_type": "error",
     "traceback": [
      "\u001b[1;31m---------------------------------------------------------------------------\u001b[0m",
      "\u001b[1;31mKeyError\u001b[0m                                  Traceback (most recent call last)",
      "File \u001b[1;32m~\\AppData\\Local\\Packages\\PythonSoftwareFoundation.Python.3.10_qbz5n2kfra8p0\\LocalCache\\local-packages\\Python310\\site-packages\\PIL\\Image.py:2278\u001b[0m, in \u001b[0;36mImage.save\u001b[1;34m(self, fp, format, **params)\u001b[0m\n\u001b[0;32m   2277\u001b[0m \u001b[38;5;28;01mtry\u001b[39;00m:\n\u001b[1;32m-> 2278\u001b[0m     \u001b[38;5;28mformat\u001b[39m \u001b[38;5;241m=\u001b[39m \u001b[43mEXTENSION\u001b[49m\u001b[43m[\u001b[49m\u001b[43mext\u001b[49m\u001b[43m]\u001b[49m\n\u001b[0;32m   2279\u001b[0m \u001b[38;5;28;01mexcept\u001b[39;00m \u001b[38;5;167;01mKeyError\u001b[39;00m \u001b[38;5;28;01mas\u001b[39;00m e:\n",
      "\u001b[1;31mKeyError\u001b[0m: '.mp4'",
      "\nThe above exception was the direct cause of the following exception:\n",
      "\u001b[1;31mValueError\u001b[0m                                Traceback (most recent call last)",
      "Input \u001b[1;32mIn [148]\u001b[0m, in \u001b[0;36m<cell line: 5>\u001b[1;34m()\u001b[0m\n\u001b[0;32m      3\u001b[0m vect\u001b[38;5;241m=\u001b[39mvectors()\n\u001b[0;32m      4\u001b[0m \u001b[38;5;66;03m#vect.plot_time_moment(df,start,end)\u001b[39;00m\n\u001b[1;32m----> 5\u001b[0m \u001b[43manimate_vect\u001b[49m\u001b[43m(\u001b[49m\u001b[43mvect\u001b[49m\u001b[43m,\u001b[49m\u001b[43m \u001b[49m\u001b[43mdf\u001b[49m\u001b[43m)\u001b[49m\n",
      "Input \u001b[1;32mIn [147]\u001b[0m, in \u001b[0;36manimate_vect\u001b[1;34m(vect, df)\u001b[0m\n\u001b[0;32m     19\u001b[0m     plt\u001b[38;5;241m.\u001b[39mlegend()\n\u001b[0;32m     20\u001b[0m ani\u001b[38;5;241m=\u001b[39manimation\u001b[38;5;241m.\u001b[39mFuncAnimation(fig, update, \u001b[38;5;28mrange\u001b[39m(\u001b[38;5;241m0\u001b[39m,N\u001b[38;5;241m-\u001b[39mstep,step),interval\u001b[38;5;241m=\u001b[39m\u001b[38;5;241m30\u001b[39m)\n\u001b[1;32m---> 21\u001b[0m \u001b[43mani\u001b[49m\u001b[38;5;241;43m.\u001b[39;49m\u001b[43msave\u001b[49m\u001b[43m(\u001b[49m\u001b[38;5;124;43m'\u001b[39;49m\u001b[38;5;124;43mvetores.mp4\u001b[39;49m\u001b[38;5;124;43m'\u001b[39;49m\u001b[43m)\u001b[49m\n\u001b[0;32m     22\u001b[0m plt\u001b[38;5;241m.\u001b[39mshow()\n",
      "File \u001b[1;32m~\\AppData\\Local\\Packages\\PythonSoftwareFoundation.Python.3.10_qbz5n2kfra8p0\\LocalCache\\local-packages\\Python310\\site-packages\\matplotlib\\animation.py:1073\u001b[0m, in \u001b[0;36mAnimation.save\u001b[1;34m(self, filename, writer, fps, dpi, codec, bitrate, extra_args, metadata, extra_anim, savefig_kwargs, progress_callback)\u001b[0m\n\u001b[0;32m   1067\u001b[0m     _log\u001b[38;5;241m.\u001b[39minfo(\u001b[38;5;124m\"\u001b[39m\u001b[38;5;124mDisabling savefig.bbox = \u001b[39m\u001b[38;5;124m'\u001b[39m\u001b[38;5;124mtight\u001b[39m\u001b[38;5;124m'\u001b[39m\u001b[38;5;124m, as it may cause \u001b[39m\u001b[38;5;124m\"\u001b[39m\n\u001b[0;32m   1068\u001b[0m               \u001b[38;5;124m\"\u001b[39m\u001b[38;5;124mframe size to vary, which is inappropriate for \u001b[39m\u001b[38;5;124m\"\u001b[39m\n\u001b[0;32m   1069\u001b[0m               \u001b[38;5;124m\"\u001b[39m\u001b[38;5;124manimation.\u001b[39m\u001b[38;5;124m\"\u001b[39m)\n\u001b[0;32m   1070\u001b[0m \u001b[38;5;66;03m# canvas._is_saving = True makes the draw_event animation-starting\u001b[39;00m\n\u001b[0;32m   1071\u001b[0m \u001b[38;5;66;03m# callback a no-op; canvas.manager = None prevents resizing the GUI\u001b[39;00m\n\u001b[0;32m   1072\u001b[0m \u001b[38;5;66;03m# widget (both are likewise done in savefig()).\u001b[39;00m\n\u001b[1;32m-> 1073\u001b[0m \u001b[38;5;28;01mwith\u001b[39;00m mpl\u001b[38;5;241m.\u001b[39mrc_context({\u001b[38;5;124m'\u001b[39m\u001b[38;5;124msavefig.bbox\u001b[39m\u001b[38;5;124m'\u001b[39m: \u001b[38;5;28;01mNone\u001b[39;00m}), \\\n\u001b[0;32m   1074\u001b[0m      writer\u001b[38;5;241m.\u001b[39msaving(\u001b[38;5;28mself\u001b[39m\u001b[38;5;241m.\u001b[39m_fig, filename, dpi), \\\n\u001b[0;32m   1075\u001b[0m      cbook\u001b[38;5;241m.\u001b[39m_setattr_cm(\u001b[38;5;28mself\u001b[39m\u001b[38;5;241m.\u001b[39m_fig\u001b[38;5;241m.\u001b[39mcanvas,\n\u001b[0;32m   1076\u001b[0m                        _is_saving\u001b[38;5;241m=\u001b[39m\u001b[38;5;28;01mTrue\u001b[39;00m, manager\u001b[38;5;241m=\u001b[39m\u001b[38;5;28;01mNone\u001b[39;00m):\n\u001b[0;32m   1077\u001b[0m     \u001b[38;5;28;01mfor\u001b[39;00m anim \u001b[38;5;129;01min\u001b[39;00m all_anim:\n\u001b[0;32m   1078\u001b[0m         anim\u001b[38;5;241m.\u001b[39m_init_draw()  \u001b[38;5;66;03m# Clear the initial frame\u001b[39;00m\n",
      "File \u001b[1;32mC:\\Program Files\\WindowsApps\\PythonSoftwareFoundation.Python.3.10_3.10.1264.0_x64__qbz5n2kfra8p0\\lib\\contextlib.py:142\u001b[0m, in \u001b[0;36m_GeneratorContextManager.__exit__\u001b[1;34m(self, typ, value, traceback)\u001b[0m\n\u001b[0;32m    140\u001b[0m \u001b[38;5;28;01mif\u001b[39;00m typ \u001b[38;5;129;01mis\u001b[39;00m \u001b[38;5;28;01mNone\u001b[39;00m:\n\u001b[0;32m    141\u001b[0m     \u001b[38;5;28;01mtry\u001b[39;00m:\n\u001b[1;32m--> 142\u001b[0m         \u001b[38;5;28;43mnext\u001b[39;49m\u001b[43m(\u001b[49m\u001b[38;5;28;43mself\u001b[39;49m\u001b[38;5;241;43m.\u001b[39;49m\u001b[43mgen\u001b[49m\u001b[43m)\u001b[49m\n\u001b[0;32m    143\u001b[0m     \u001b[38;5;28;01mexcept\u001b[39;00m \u001b[38;5;167;01mStopIteration\u001b[39;00m:\n\u001b[0;32m    144\u001b[0m         \u001b[38;5;28;01mreturn\u001b[39;00m \u001b[38;5;28;01mFalse\u001b[39;00m\n",
      "File \u001b[1;32m~\\AppData\\Local\\Packages\\PythonSoftwareFoundation.Python.3.10_qbz5n2kfra8p0\\LocalCache\\local-packages\\Python310\\site-packages\\matplotlib\\animation.py:238\u001b[0m, in \u001b[0;36mAbstractMovieWriter.saving\u001b[1;34m(self, fig, outfile, dpi, *args, **kwargs)\u001b[0m\n\u001b[0;32m    236\u001b[0m     \u001b[38;5;28;01myield\u001b[39;00m \u001b[38;5;28mself\u001b[39m\n\u001b[0;32m    237\u001b[0m \u001b[38;5;28;01mfinally\u001b[39;00m:\n\u001b[1;32m--> 238\u001b[0m     \u001b[38;5;28;43mself\u001b[39;49m\u001b[38;5;241;43m.\u001b[39;49m\u001b[43mfinish\u001b[49m\u001b[43m(\u001b[49m\u001b[43m)\u001b[49m\n",
      "File \u001b[1;32m~\\AppData\\Local\\Packages\\PythonSoftwareFoundation.Python.3.10_qbz5n2kfra8p0\\LocalCache\\local-packages\\Python310\\site-packages\\matplotlib\\animation.py:514\u001b[0m, in \u001b[0;36mPillowWriter.finish\u001b[1;34m(self)\u001b[0m\n\u001b[0;32m    513\u001b[0m \u001b[38;5;28;01mdef\u001b[39;00m \u001b[38;5;21mfinish\u001b[39m(\u001b[38;5;28mself\u001b[39m):\n\u001b[1;32m--> 514\u001b[0m     \u001b[38;5;28;43mself\u001b[39;49m\u001b[38;5;241;43m.\u001b[39;49m\u001b[43m_frames\u001b[49m\u001b[43m[\u001b[49m\u001b[38;5;241;43m0\u001b[39;49m\u001b[43m]\u001b[49m\u001b[38;5;241;43m.\u001b[39;49m\u001b[43msave\u001b[49m\u001b[43m(\u001b[49m\n\u001b[0;32m    515\u001b[0m \u001b[43m        \u001b[49m\u001b[38;5;28;43mself\u001b[39;49m\u001b[38;5;241;43m.\u001b[39;49m\u001b[43moutfile\u001b[49m\u001b[43m,\u001b[49m\u001b[43m \u001b[49m\u001b[43msave_all\u001b[49m\u001b[38;5;241;43m=\u001b[39;49m\u001b[38;5;28;43;01mTrue\u001b[39;49;00m\u001b[43m,\u001b[49m\u001b[43m \u001b[49m\u001b[43mappend_images\u001b[49m\u001b[38;5;241;43m=\u001b[39;49m\u001b[38;5;28;43mself\u001b[39;49m\u001b[38;5;241;43m.\u001b[39;49m\u001b[43m_frames\u001b[49m\u001b[43m[\u001b[49m\u001b[38;5;241;43m1\u001b[39;49m\u001b[43m:\u001b[49m\u001b[43m]\u001b[49m\u001b[43m,\u001b[49m\n\u001b[0;32m    516\u001b[0m \u001b[43m        \u001b[49m\u001b[43mduration\u001b[49m\u001b[38;5;241;43m=\u001b[39;49m\u001b[38;5;28;43mint\u001b[39;49m\u001b[43m(\u001b[49m\u001b[38;5;241;43m1000\u001b[39;49m\u001b[43m \u001b[49m\u001b[38;5;241;43m/\u001b[39;49m\u001b[43m \u001b[49m\u001b[38;5;28;43mself\u001b[39;49m\u001b[38;5;241;43m.\u001b[39;49m\u001b[43mfps\u001b[49m\u001b[43m)\u001b[49m\u001b[43m,\u001b[49m\u001b[43m \u001b[49m\u001b[43mloop\u001b[49m\u001b[38;5;241;43m=\u001b[39;49m\u001b[38;5;241;43m0\u001b[39;49m\u001b[43m)\u001b[49m\n",
      "File \u001b[1;32m~\\AppData\\Local\\Packages\\PythonSoftwareFoundation.Python.3.10_qbz5n2kfra8p0\\LocalCache\\local-packages\\Python310\\site-packages\\PIL\\Image.py:2280\u001b[0m, in \u001b[0;36mImage.save\u001b[1;34m(self, fp, format, **params)\u001b[0m\n\u001b[0;32m   2278\u001b[0m         \u001b[38;5;28mformat\u001b[39m \u001b[38;5;241m=\u001b[39m EXTENSION[ext]\n\u001b[0;32m   2279\u001b[0m     \u001b[38;5;28;01mexcept\u001b[39;00m \u001b[38;5;167;01mKeyError\u001b[39;00m \u001b[38;5;28;01mas\u001b[39;00m e:\n\u001b[1;32m-> 2280\u001b[0m         \u001b[38;5;28;01mraise\u001b[39;00m \u001b[38;5;167;01mValueError\u001b[39;00m(\u001b[38;5;124mf\u001b[39m\u001b[38;5;124m\"\u001b[39m\u001b[38;5;124munknown file extension: \u001b[39m\u001b[38;5;132;01m{\u001b[39;00mext\u001b[38;5;132;01m}\u001b[39;00m\u001b[38;5;124m\"\u001b[39m) \u001b[38;5;28;01mfrom\u001b[39;00m \u001b[38;5;21;01me\u001b[39;00m\n\u001b[0;32m   2282\u001b[0m \u001b[38;5;28;01mif\u001b[39;00m \u001b[38;5;28mformat\u001b[39m\u001b[38;5;241m.\u001b[39mupper() \u001b[38;5;129;01mnot\u001b[39;00m \u001b[38;5;129;01min\u001b[39;00m SAVE:\n\u001b[0;32m   2283\u001b[0m     init()\n",
      "\u001b[1;31mValueError\u001b[0m: unknown file extension: .mp4"
     ]
    },
    {
     "name": "stderr",
     "output_type": "stream",
     "text": [
      "No artists with labels found to put in legend.  Note that artists whose label start with an underscore are ignored when legend() is called with no argument.\n"
     ]
    }
   ],
   "source": [
    "start=0\n",
    "end=80\n",
    "vect=vectors()\n",
    "#vect.plot_time_moment(df,start,end)\n",
    "animate_vect(vect, df)"
   ]
  },
  {
   "cell_type": "code",
   "execution_count": 149,
   "id": "ea906028",
   "metadata": {},
   "outputs": [],
   "source": [
    "animation.FuncAnimation.save?"
   ]
  },
  {
   "cell_type": "code",
   "execution_count": null,
   "id": "72960d47",
   "metadata": {},
   "outputs": [],
   "source": []
  }
 ],
 "metadata": {
  "kernelspec": {
   "display_name": "Python 3 (ipykernel)",
   "language": "python",
   "name": "python3"
  },
  "language_info": {
   "codemirror_mode": {
    "name": "ipython",
    "version": 3
   },
   "file_extension": ".py",
   "mimetype": "text/x-python",
   "name": "python",
   "nbconvert_exporter": "python",
   "pygments_lexer": "ipython3",
   "version": "3.10.4"
  }
 },
 "nbformat": 4,
 "nbformat_minor": 5
}
