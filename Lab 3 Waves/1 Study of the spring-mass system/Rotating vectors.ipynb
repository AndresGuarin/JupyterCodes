{
 "cells": [
  {
   "cell_type": "markdown",
   "id": "9e95c756",
   "metadata": {},
   "source": [
    "# Study of the spring-mass sysyem "
   ]
  },
  {
   "cell_type": "markdown",
   "id": "2fcac866",
   "metadata": {},
   "source": [
    "This code plots the rotating vectors associated with the position, velocity, and acceleration, showing that the acceleration is in phase opposition to the amplitude of the movement (position). This code was elaborated by:\n",
    "\n",
    "* Juan Andrés Guarín Rojas [AndresGuarin](https://github.com/AndresGuarin).\n",
    "* Carlos Santiago Rodríguez Sarmiento[]().\n",
    "* Tihamer Torres Jaimes[]().\n",
    "\n",
    "This code is part of the course \"Physic Lab 3\" directed by professor Jaime Enrique Meneses."
   ]
  },
  {
   "cell_type": "code",
   "execution_count": 1,
   "id": "47b946e9",
   "metadata": {},
   "outputs": [],
   "source": [
    "import numpy as np\n",
    "import pandas as pd\n",
    "import matplotlib.pyplot as plt\n",
    "import matplotlib.animation as animation\n",
    "from matplotlib.axis import Tick"
   ]
  },
  {
   "cell_type": "code",
   "execution_count": 3,
   "id": "5f9f5ba0",
   "metadata": {
    "scrolled": false
   },
   "outputs": [
    {
     "name": "stdout",
     "output_type": "stream",
     "text": [
      "Using matplotlib backend: TkAgg\n"
     ]
    }
   ],
   "source": [
    "%matplotlib auto"
   ]
  },
  {
   "cell_type": "markdown",
   "id": "ab1868a3",
   "metadata": {},
   "source": [
    "## 1. Declare class and animation function"
   ]
  },
  {
   "cell_type": "code",
   "execution_count": 4,
   "id": "055983e1",
   "metadata": {},
   "outputs": [
    {
     "name": "stdout",
     "output_type": "stream",
     "text": [
      "Done!\n"
     ]
    }
   ],
   "source": [
    "class vectors:    \n",
    "    def __init__(self):\n",
    "        self.d=0.2\n",
    "        self.a=[0.6,0.8,1]\n",
    "        self.c=['#2E9AFE','#01DF01','#FF4000']\n",
    "        self.maxs=[max(abs(df[s].values)) for s in ['X','Vx','Ax']]\n",
    "        self.h=5/200 #Time spacing Delat_t. Put the value acording the data\n",
    "        self.T=np.pi/2 #Period. Put the value acording the data\n",
    "        self.periods=2 #Maximum number of periods (for the plot)\n",
    "        self.dats=['X','Vx','Ax']\n",
    "        Hx=df['X'][0]*(self.a[0]/self.maxs[0])\n",
    "        base=np.sqrt(self.a[0]**2-Hx**2)\n",
    "        theta0x=np.arctan2(Hx,base)\n",
    "        self.theta0=np.array([theta0x, theta0x-np.pi/2, theta0x+np.pi])\n",
    "        \n",
    "    def set_conditions(self,h,T=np.pi/2,periods=2):\n",
    "        self.h=h\n",
    "        self.T=T\n",
    "        self.periods=periods\n",
    "    \n",
    "    def get_self(self):\n",
    "        return self\n",
    "    \n",
    "    def plot_circles(self,ax):\n",
    "        theta=np.linspace(0,2*np.pi,200)\n",
    "        for i in range(3):\n",
    "            x=self.a[i]*np.cos(theta)-self.a[2]-2*self.d\n",
    "            y=self.a[i]*np.sin(theta)\n",
    "            plt.plot(x,y,'--',color=self.c[i],linewidth=1.5)\n",
    "        ax.plot([-2*self.a[2]-3*self.d,-self.d],[0,0],'-',color='black',linewidth=1.5)\n",
    "        ax.plot([-self.a[2]-2*self.d,-self.a[2]-2*self.d],[-self.a[2]-self.d,self.a[2]+self.d],'-',color='black',linewidth=1.5)\n",
    "    \n",
    "    def plot_curves(self,ax,df,start,end):\n",
    "        x=df['X'].values*(self.a[0]/self.maxs[0])\n",
    "        vx=df['Vx'].values*(self.a[1]/self.maxs[1])\n",
    "        Ax=df['Ax'].values*(self.a[2]/self.maxs[2])\n",
    "        tmax=self.T*self.periods\n",
    "        a1=int(start)\n",
    "        b=int(end)\n",
    "        t=np.linspace(0,(b-a1)*self.h,b-a1+1)*(5/tmax) #5 is the maximum x-value of the plot\n",
    "        left_lim=(b-a1)*self.h*(5/tmax)\n",
    "        ax.plot(-t+left_lim,x[a1:b+1],'-',color=self.c[0],linewidth=1.5,label='$x$')\n",
    "        ax.plot(-t+left_lim,vx[a1:b+1],'-',color=self.c[1],linewidth=1.5,label='$v_x$')\n",
    "        ax.plot(-t+left_lim,Ax[a1:b+1],'-',color=self.c[2],linewidth=1.5,label='$a_x$')\n",
    "        #ax.plot(t,x[a1:b+1],'--m',linewidth=1.5)\n",
    "        ax.plot([0,5.1],[0,0],'-',color='black',linewidth=1.5)\n",
    "        ax.plot([0,0],[-1,1],'-',color='black',linewidth=1.5)\n",
    "\n",
    "    def plot_vectors(self,ax,df,end):\n",
    "        H=np.array([df[self.dats[i]][end]*(self.a[i]/self.maxs[i]) for i in range(3)])\n",
    "        theta=self.theta0+(2*np.pi/self.T)*self.h*end #theta = theta0 + (2pi/T)t, with t=h*end\n",
    "        x0=-self.a[2]-2*self.d\n",
    "        y0=0\n",
    "        for i in range(3):\n",
    "            ax.quiver(x0,y0,H[i]/(np.tan(theta[i])+1e-8),H[i],width=0.004,color=self.c[i],angles='xy', scale_units='xy', scale=1)\n",
    "            ax.plot([x0+H[i]/(np.tan(theta[i])+1e-8),0],[y0+H[i],y0+H[i]],'-',color=self.c[i],linewidth=1.5)\n",
    "            ax.plot(0,y0+H[i],'o',color=self.c[i],markersize=6)\n",
    "    def plot_time_moment(self,df,start=0,end=2):\n",
    "        fig,ax=plt.subplots()\n",
    "        self.plot_circles(ax)\n",
    "        self.plot_curves(ax,df,start,end)\n",
    "        self.plot_vectors(ax,df,end)\n",
    "        plt.xlim(-2.5,5.3)\n",
    "        plt.ylim(-2,2)\n",
    "        plt.rcParams['figure.figsize'] = [10, 4]\n",
    "        plt.legend()\n",
    "        plt.show()\n",
    "print('Done!')"
   ]
  },
  {
   "cell_type": "code",
   "execution_count": 14,
   "id": "9c3783c6",
   "metadata": {},
   "outputs": [
    {
     "name": "stdout",
     "output_type": "stream",
     "text": [
      "Done!\n"
     ]
    }
   ],
   "source": [
    "def animate_vect(vect, df, interval=30):\n",
    "    fig = plt.figure(figsize=(10,4))\n",
    "    ax = fig.gca()\n",
    "    N=len(df['X'].values)\n",
    "    step=1 #pasos de la animación\n",
    "    self=vect.get_self()\n",
    "    width_N = int(self.T*self.periods/self.h) #ancho de intervalos a mostrar en pantalla\n",
    "    def update(i):\n",
    "        ax.clear()\n",
    "        vect.plot_circles(ax)\n",
    "        if i<= width_N:\n",
    "            start=0\n",
    "        else:\n",
    "            start=i-width_N\n",
    "        vect.plot_curves(ax,df,start,i+step)\n",
    "        vect.plot_vectors(ax,df,i+step)\n",
    "        plt.xlim(-2.5,5.3)\n",
    "        plt.ylim(-2,2)\n",
    "        plt.legend()\n",
    "        plt.title('Rotating vectors diagram')\n",
    "        plt.text(2.4,-1.2,'Time [$s$]')\n",
    "    ani=animation.FuncAnimation(fig, update, range(0,N-step,step),interval=interval,repeat=False)\n",
    "    ani.save('vectors.mp4', writer='ffmpeg')\n",
    "    plt.show(ani)\n",
    "print('Done!')"
   ]
  },
  {
   "cell_type": "markdown",
   "id": "fc002710",
   "metadata": {},
   "source": [
    "## 2. Run code"
   ]
  },
  {
   "cell_type": "markdown",
   "id": "d1197f31",
   "metadata": {},
   "source": [
    "### a) Example 1 "
   ]
  },
  {
   "cell_type": "code",
   "execution_count": 5,
   "id": "e7bdd1ed",
   "metadata": {},
   "outputs": [],
   "source": [
    "#Expample data\n",
    "t=np.linspace(0,50,2000)\n",
    "x=10*np.cos(4*t)\n",
    "vx=-20*np.sin(4*t)\n",
    "ax=-40*np.cos(4*t)\n",
    "df=pd.DataFrame({'X':x,'Vx':vx,'Ax':ax})"
   ]
  },
  {
   "cell_type": "code",
   "execution_count": 13,
   "id": "4a94d75c",
   "metadata": {},
   "outputs": [],
   "source": [
    "start=0\n",
    "end=200\n",
    "vect=vectors()\n",
    "vect.set_conditions(h=5/200,T=np.pi/2,periods=2)\n",
    "vect.plot_time_moment(df,start,end)\n",
    "animate_vect(vect, df)"
   ]
  },
  {
   "cell_type": "markdown",
   "id": "a978b779",
   "metadata": {},
   "source": [
    "### b) Example 2"
   ]
  },
  {
   "cell_type": "markdown",
   "id": "7a66f9f0",
   "metadata": {},
   "source": [
    "Notes: \n",
    "\n",
    "**1)** Put the header of the position, velocity and acceleration as ```['X', 'Vx', 'Ax']```\n",
    "\n",
    "**2)** Make sure that the index col of your dataframe start at 0 and continues a with step of 1"
   ]
  },
  {
   "cell_type": "code",
   "execution_count": 6,
   "id": "2c5784cd",
   "metadata": {
    "scrolled": true
   },
   "outputs": [
    {
     "data": {
      "text/html": [
       "<div>\n",
       "<style scoped>\n",
       "    .dataframe tbody tr th:only-of-type {\n",
       "        vertical-align: middle;\n",
       "    }\n",
       "\n",
       "    .dataframe tbody tr th {\n",
       "        vertical-align: top;\n",
       "    }\n",
       "\n",
       "    .dataframe thead th {\n",
       "        text-align: right;\n",
       "    }\n",
       "</style>\n",
       "<table border=\"1\" class=\"dataframe\">\n",
       "  <thead>\n",
       "    <tr style=\"text-align: right;\">\n",
       "      <th></th>\n",
       "      <th>time</th>\n",
       "      <th>X</th>\n",
       "      <th>Vx</th>\n",
       "      <th>Ax</th>\n",
       "    </tr>\n",
       "  </thead>\n",
       "  <tbody>\n",
       "    <tr>\n",
       "      <th>0</th>\n",
       "      <td>0.101967</td>\n",
       "      <td>-0.085</td>\n",
       "      <td>0.292215</td>\n",
       "      <td>2.546914</td>\n",
       "    </tr>\n",
       "    <tr>\n",
       "      <th>1</th>\n",
       "      <td>0.150979</td>\n",
       "      <td>-0.068</td>\n",
       "      <td>0.402944</td>\n",
       "      <td>2.102588</td>\n",
       "    </tr>\n",
       "    <tr>\n",
       "      <th>2</th>\n",
       "      <td>0.200963</td>\n",
       "      <td>-0.045</td>\n",
       "      <td>0.500056</td>\n",
       "      <td>1.371549</td>\n",
       "    </tr>\n",
       "    <tr>\n",
       "      <th>3</th>\n",
       "      <td>0.250965</td>\n",
       "      <td>-0.018</td>\n",
       "      <td>0.540059</td>\n",
       "      <td>0.299481</td>\n",
       "    </tr>\n",
       "    <tr>\n",
       "      <th>4</th>\n",
       "      <td>0.300952</td>\n",
       "      <td>0.009</td>\n",
       "      <td>0.530015</td>\n",
       "      <td>-0.455776</td>\n",
       "    </tr>\n",
       "  </tbody>\n",
       "</table>\n",
       "</div>"
      ],
      "text/plain": [
       "       time      X        Vx        Ax\n",
       "0  0.101967 -0.085  0.292215  2.546914\n",
       "1  0.150979 -0.068  0.402944  2.102588\n",
       "2  0.200963 -0.045  0.500056  1.371549\n",
       "3  0.250965 -0.018  0.540059  0.299481\n",
       "4  0.300952  0.009  0.530015 -0.455776"
      ]
     },
     "execution_count": 6,
     "metadata": {},
     "output_type": "execute_result"
    }
   ],
   "source": [
    "df=pd.read_csv('data.txt',delimiter=',',comment='#')\n",
    "df.columns=['time','X','path','Vx','Ax']\n",
    "del df['path']\n",
    "df.head()"
   ]
  },
  {
   "cell_type": "code",
   "execution_count": 17,
   "id": "6d434c23",
   "metadata": {},
   "outputs": [],
   "source": [
    "start=0\n",
    "end=80\n",
    "vect=vectors()\n",
    "vect.set_conditions(h=0.0499965,T=1.0478880,periods=2.5)\n",
    "vect.plot_time_moment(df,start,end)\n",
    "animate_vect(vect, df,interval=110)"
   ]
  },
  {
   "cell_type": "code",
   "execution_count": null,
   "id": "8afacd4e",
   "metadata": {},
   "outputs": [],
   "source": []
  }
 ],
 "metadata": {
  "kernelspec": {
   "display_name": "Python 3 (ipykernel)",
   "language": "python",
   "name": "python3"
  },
  "language_info": {
   "codemirror_mode": {
    "name": "ipython",
    "version": 3
   },
   "file_extension": ".py",
   "mimetype": "text/x-python",
   "name": "python",
   "nbconvert_exporter": "python",
   "pygments_lexer": "ipython3",
   "version": "3.10.5"
  }
 },
 "nbformat": 4,
 "nbformat_minor": 5
}
