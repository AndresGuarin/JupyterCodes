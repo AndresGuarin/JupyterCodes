{
 "cells": [
  {
   "cell_type": "code",
   "execution_count": 1,
   "metadata": {},
   "outputs": [],
   "source": [
    "import numpy as np\n",
    "import matplotlib.pyplot as plt"
   ]
  },
  {
   "cell_type": "markdown",
   "metadata": {},
   "source": [
    "**Reflexión Interna total**"
   ]
  },
  {
   "cell_type": "code",
   "execution_count": 16,
   "metadata": {},
   "outputs": [
    {
     "name": "stdout",
     "output_type": "stream",
     "text": [
      "1.528572130520588\n",
      "0.07419107506219497\n"
     ]
    }
   ],
   "source": [
    "beta = np.deg2rad(np.array([228-176,130-80,130-78]))\n",
    "theta0 = beta-np.pi/4\n",
    "n = np.sqrt(np.sin(theta0)**2+(np.sqrt(2)+np.sin(theta0))**2)\n",
    "\n",
    "dtheta0 = 4*np.pi/180\n",
    "dn = dtheta0/n*np.abs(np.sin(2*theta0)+np.sqrt(2)*np.cos(theta0))\n",
    "\n",
    "n_exp = np.mean(n)\n",
    "dn_exp = np.max([np.std(n),np.mean(dn)])\n",
    "print(n_exp)\n",
    "print(dn_exp)"
   ]
  },
  {
   "cell_type": "code",
   "execution_count": 17,
   "metadata": {},
   "outputs": [
    {
     "data": {
      "text/plain": [
       "(array([1.54090974, 1.50389691, 1.54090974]),\n",
       " array([0.07455605, 0.07346113, 0.07455605]),\n",
       " 0.01744801624046577)"
      ]
     },
     "execution_count": 17,
     "metadata": {},
     "output_type": "execute_result"
    }
   ],
   "source": [
    "n,dn,np.std(n)"
   ]
  },
  {
   "cell_type": "code",
   "execution_count": 18,
   "metadata": {},
   "outputs": [
    {
     "data": {
      "text/plain": [
       "(0.08329277290563955, 4.8576622184374365)"
      ]
     },
     "execution_count": 18,
     "metadata": {},
     "output_type": "execute_result"
    }
   ],
   "source": [
    "n_real = 1.5273\n",
    "ERROR = np.abs(n_exp-n_real)/n_real*100\n",
    "dERROR = dn_exp/n_real*100\n",
    "\n",
    "ERROR, dERROR"
   ]
  },
  {
   "cell_type": "code",
   "execution_count": 19,
   "metadata": {},
   "outputs": [
    {
     "data": {
      "text/plain": [
       "(4.7743694455318, 4.940954991343079)"
      ]
     },
     "execution_count": 19,
     "metadata": {},
     "output_type": "execute_result"
    }
   ],
   "source": [
    "np.abs(n_exp-dn_exp-n_real)/n_real*100, np.abs(n_exp+dn_exp-n_real)/n_real*100"
   ]
  },
  {
   "cell_type": "code",
   "execution_count": 5,
   "metadata": {},
   "outputs": [
    {
     "data": {
      "text/plain": [
       "(4.12781440617053, 5.6534743297813455)"
      ]
     },
     "execution_count": 5,
     "metadata": {},
     "output_type": "execute_result"
    }
   ],
   "source": [
    "dERROR-ERROR, dERROR+ERROR"
   ]
  },
  {
   "cell_type": "code",
   "execution_count": 8,
   "metadata": {},
   "outputs": [
    {
     "data": {
      "text/plain": [
       "(1.5402152444379427, 0.06871081337158833)"
      ]
     },
     "execution_count": 8,
     "metadata": {},
     "output_type": "execute_result"
    }
   ],
   "source": [
    "m_beta = np.mean(beta)\n",
    "m_theta0 = m_beta-np.pi/4\n",
    "n_ = np.sqrt(np.sin(2*m_theta0)**2+(np.sqrt(2)+np.sin(m_theta0))**2)\n",
    "dn_ = dtheta0/n_ * np.abs(np.sin(m_theta0)+np.sqrt(2)*np.cos(m_theta0))\n",
    "\n",
    "n_,dn_"
   ]
  },
  {
   "cell_type": "code",
   "execution_count": 9,
   "metadata": {},
   "outputs": [
    {
     "data": {
      "text/plain": [
       "(1.530339119178824, 4.529387829372995)"
      ]
     },
     "execution_count": 9,
     "metadata": {},
     "output_type": "execute_result"
    }
   ],
   "source": [
    "ERROR_ = np.abs(n_-n_real)/n_real*100\n",
    "dERROR_ = dn_/n_real*100\n",
    "\n",
    "ERROR_, dERROR_"
   ]
  },
  {
   "cell_type": "markdown",
   "metadata": {},
   "source": [
    "**Índice de gradiente**"
   ]
  },
  {
   "cell_type": "markdown",
   "metadata": {},
   "source": []
  }
 ],
 "metadata": {
  "kernelspec": {
   "display_name": "Python 3",
   "language": "python",
   "name": "python3"
  },
  "language_info": {
   "codemirror_mode": {
    "name": "ipython",
    "version": 3
   },
   "file_extension": ".py",
   "mimetype": "text/x-python",
   "name": "python",
   "nbconvert_exporter": "python",
   "pygments_lexer": "ipython3",
   "version": "3.12.1"
  }
 },
 "nbformat": 4,
 "nbformat_minor": 2
}
