{
 "cells": [
  {
   "cell_type": "code",
   "execution_count": 47,
   "metadata": {},
   "outputs": [],
   "source": [
    "import numpy as np\n",
    "import pandas as pd\n",
    "import matplotlib.pyplot as plt\n",
    "from scipy.optimize import curve_fit"
   ]
  },
  {
   "cell_type": "markdown",
   "metadata": {},
   "source": [
    "## Transformador sin carga"
   ]
  },
  {
   "cell_type": "markdown",
   "metadata": {},
   "source": [
    "Importación y recolección de datos "
   ]
  },
  {
   "cell_type": "code",
   "execution_count": 48,
   "metadata": {},
   "outputs": [],
   "source": [
    "data=pd.read_excel('Transformador_sin_carga_datos.xlsx')"
   ]
  },
  {
   "cell_type": "code",
   "execution_count": 49,
   "metadata": {},
   "outputs": [
    {
     "data": {
      "text/html": [
       "<div>\n",
       "<style scoped>\n",
       "    .dataframe tbody tr th:only-of-type {\n",
       "        vertical-align: middle;\n",
       "    }\n",
       "\n",
       "    .dataframe tbody tr th {\n",
       "        vertical-align: top;\n",
       "    }\n",
       "\n",
       "    .dataframe thead th {\n",
       "        text-align: right;\n",
       "    }\n",
       "</style>\n",
       "<table border=\"1\" class=\"dataframe\">\n",
       "  <thead>\n",
       "    <tr style=\"text-align: right;\">\n",
       "      <th></th>\n",
       "      <th>Vs</th>\n",
       "      <th>Vp</th>\n",
       "      <th>Vs.1</th>\n",
       "      <th>Vp.1</th>\n",
       "      <th>VsT</th>\n",
       "      <th>Vs.1T</th>\n",
       "      <th>Incertidumbre Vp</th>\n",
       "      <th>Incertidumbre Vs</th>\n",
       "      <th>Incertidumbre Vs.1</th>\n",
       "      <th>Incertidumbre Vp.1</th>\n",
       "    </tr>\n",
       "  </thead>\n",
       "  <tbody>\n",
       "    <tr>\n",
       "      <th>0</th>\n",
       "      <td>139.3</td>\n",
       "      <td>74.9</td>\n",
       "      <td>35.1</td>\n",
       "      <td>94.4</td>\n",
       "      <td>149.8</td>\n",
       "      <td>47.20</td>\n",
       "      <td>1.498</td>\n",
       "      <td>2.786</td>\n",
       "      <td>0.702</td>\n",
       "      <td>1.888</td>\n",
       "    </tr>\n",
       "    <tr>\n",
       "      <th>1</th>\n",
       "      <td>126.8</td>\n",
       "      <td>68.3</td>\n",
       "      <td>31.9</td>\n",
       "      <td>86.1</td>\n",
       "      <td>136.6</td>\n",
       "      <td>43.05</td>\n",
       "      <td>1.366</td>\n",
       "      <td>2.536</td>\n",
       "      <td>0.638</td>\n",
       "      <td>1.722</td>\n",
       "    </tr>\n",
       "    <tr>\n",
       "      <th>2</th>\n",
       "      <td>117.6</td>\n",
       "      <td>63.4</td>\n",
       "      <td>28.6</td>\n",
       "      <td>77.7</td>\n",
       "      <td>126.8</td>\n",
       "      <td>38.85</td>\n",
       "      <td>1.268</td>\n",
       "      <td>2.352</td>\n",
       "      <td>0.572</td>\n",
       "      <td>1.554</td>\n",
       "    </tr>\n",
       "    <tr>\n",
       "      <th>3</th>\n",
       "      <td>105.2</td>\n",
       "      <td>56.9</td>\n",
       "      <td>25.9</td>\n",
       "      <td>70.7</td>\n",
       "      <td>113.8</td>\n",
       "      <td>35.35</td>\n",
       "      <td>1.138</td>\n",
       "      <td>2.104</td>\n",
       "      <td>0.518</td>\n",
       "      <td>1.414</td>\n",
       "    </tr>\n",
       "    <tr>\n",
       "      <th>4</th>\n",
       "      <td>94.1</td>\n",
       "      <td>60.1</td>\n",
       "      <td>23.2</td>\n",
       "      <td>63.6</td>\n",
       "      <td>120.2</td>\n",
       "      <td>31.80</td>\n",
       "      <td>1.202</td>\n",
       "      <td>1.882</td>\n",
       "      <td>0.464</td>\n",
       "      <td>1.272</td>\n",
       "    </tr>\n",
       "    <tr>\n",
       "      <th>5</th>\n",
       "      <td>85.2</td>\n",
       "      <td>54.5</td>\n",
       "      <td>20.1</td>\n",
       "      <td>55.5</td>\n",
       "      <td>109.0</td>\n",
       "      <td>27.75</td>\n",
       "      <td>1.090</td>\n",
       "      <td>1.704</td>\n",
       "      <td>0.402</td>\n",
       "      <td>1.110</td>\n",
       "    </tr>\n",
       "    <tr>\n",
       "      <th>6</th>\n",
       "      <td>72.4</td>\n",
       "      <td>46.5</td>\n",
       "      <td>17.6</td>\n",
       "      <td>40.6</td>\n",
       "      <td>93.0</td>\n",
       "      <td>20.30</td>\n",
       "      <td>0.930</td>\n",
       "      <td>1.448</td>\n",
       "      <td>0.352</td>\n",
       "      <td>0.812</td>\n",
       "    </tr>\n",
       "    <tr>\n",
       "      <th>7</th>\n",
       "      <td>61.1</td>\n",
       "      <td>39.3</td>\n",
       "      <td>14.8</td>\n",
       "      <td>34.7</td>\n",
       "      <td>78.6</td>\n",
       "      <td>17.35</td>\n",
       "      <td>0.786</td>\n",
       "      <td>1.222</td>\n",
       "      <td>0.296</td>\n",
       "      <td>0.694</td>\n",
       "    </tr>\n",
       "    <tr>\n",
       "      <th>8</th>\n",
       "      <td>50.5</td>\n",
       "      <td>32.8</td>\n",
       "      <td>12.1</td>\n",
       "      <td>31.5</td>\n",
       "      <td>65.6</td>\n",
       "      <td>15.75</td>\n",
       "      <td>0.656</td>\n",
       "      <td>1.010</td>\n",
       "      <td>0.242</td>\n",
       "      <td>0.630</td>\n",
       "    </tr>\n",
       "    <tr>\n",
       "      <th>9</th>\n",
       "      <td>39.7</td>\n",
       "      <td>25.9</td>\n",
       "      <td>8.4</td>\n",
       "      <td>22.5</td>\n",
       "      <td>51.8</td>\n",
       "      <td>11.25</td>\n",
       "      <td>0.518</td>\n",
       "      <td>0.794</td>\n",
       "      <td>0.168</td>\n",
       "      <td>0.450</td>\n",
       "    </tr>\n",
       "  </tbody>\n",
       "</table>\n",
       "</div>"
      ],
      "text/plain": [
       "      Vs    Vp  Vs.1  Vp.1    VsT  Vs.1T  Incertidumbre Vp  Incertidumbre Vs  \\\n",
       "0  139.3  74.9  35.1  94.4  149.8  47.20             1.498             2.786   \n",
       "1  126.8  68.3  31.9  86.1  136.6  43.05             1.366             2.536   \n",
       "2  117.6  63.4  28.6  77.7  126.8  38.85             1.268             2.352   \n",
       "3  105.2  56.9  25.9  70.7  113.8  35.35             1.138             2.104   \n",
       "4   94.1  60.1  23.2  63.6  120.2  31.80             1.202             1.882   \n",
       "5   85.2  54.5  20.1  55.5  109.0  27.75             1.090             1.704   \n",
       "6   72.4  46.5  17.6  40.6   93.0  20.30             0.930             1.448   \n",
       "7   61.1  39.3  14.8  34.7   78.6  17.35             0.786             1.222   \n",
       "8   50.5  32.8  12.1  31.5   65.6  15.75             0.656             1.010   \n",
       "9   39.7  25.9   8.4  22.5   51.8  11.25             0.518             0.794   \n",
       "\n",
       "   Incertidumbre Vs.1  Incertidumbre Vp.1  \n",
       "0               0.702               1.888  \n",
       "1               0.638               1.722  \n",
       "2               0.572               1.554  \n",
       "3               0.518               1.414  \n",
       "4               0.464               1.272  \n",
       "5               0.402               1.110  \n",
       "6               0.352               0.812  \n",
       "7               0.296               0.694  \n",
       "8               0.242               0.630  \n",
       "9               0.168               0.450  "
      ]
     },
     "execution_count": 49,
     "metadata": {},
     "output_type": "execute_result"
    }
   ],
   "source": [
    "data"
   ]
  },
  {
   "cell_type": "code",
   "execution_count": 50,
   "metadata": {},
   "outputs": [],
   "source": [
    "voltaje_primario=data['Vp'][0:9]\n",
    "voltaje_secundario=data['Vs'][0:9]\n",
    "incertidumbreVp=data['Incertidumbre Vp'][0:9]\n",
    "incertidumbreVs=data['Incertidumbre Vs'][0:9]"
   ]
  },
  {
   "cell_type": "code",
   "execution_count": 51,
   "metadata": {},
   "outputs": [
    {
     "data": {
      "text/plain": [
       "<matplotlib.collections.PathCollection at 0x2c5dcec5f40>"
      ]
     },
     "execution_count": 51,
     "metadata": {},
     "output_type": "execute_result"
    },
    {
     "data": {
      "image/png": "[encoded data removed]",
      "text/plain": [
       "<Figure size 1152x432 with 1 Axes>"
      ]
     },
     "metadata": {
      "needs_background": "light"
     },
     "output_type": "display_data"
    }
   ],
   "source": [
    "plt.figure(figsize=(16,6))\n",
    "plt.scatter(voltaje_primario,voltaje_secundario,label='Transformador eléctrico elevador')"
   ]
  },
  {
   "cell_type": "markdown",
   "metadata": {},
   "source": [
    "Ajuste de una función"
   ]
  },
  {
   "cell_type": "code",
   "execution_count": 52,
   "metadata": {},
   "outputs": [
    {
     "name": "stdout",
     "output_type": "stream",
     "text": [
      "[  2.07753215 -20.12681416]\n",
      "[0.02539659 1.26925662]\n"
     ]
    }
   ],
   "source": [
    "def func(x, a, b):\n",
    "    return a*x+b\n",
    "\n",
    "param, cov = curve_fit(func, voltaje_primario, voltaje_secundario, sigma=incertidumbreVp, absolute_sigma=True)\n",
    "print(param)                   #Parametros de ajuste\n",
    "print(np.sqrt(np.diag(cov))) "
   ]
  },
  {
   "cell_type": "code",
   "execution_count": 53,
   "metadata": {},
   "outputs": [
    {
     "name": "stdout",
     "output_type": "stream",
     "text": [
      "[[1.         0.97852746]\n",
      " [0.97852746 1.        ]]\n"
     ]
    }
   ],
   "source": [
    "print(np.corrcoef(voltaje_primario,voltaje_secundario))        \n",
    "R = np.diag(np.corrcoef(voltaje_primario,voltaje_secundario),-1)"
   ]
  },
  {
   "cell_type": "code",
   "execution_count": 54,
   "metadata": {},
   "outputs": [
    {
     "data": {
      "image/png": "[encoded data removed]",
      "text/plain": [
       "<Figure size 576x360 with 1 Axes>"
      ]
     },
     "metadata": {
      "needs_background": "light"
     },
     "output_type": "display_data"
    }
   ],
   "source": [
    "plt.figure(figsize=(8, 5)) \n",
    "\n",
    "#Graficamos las barras de error junto con los marcadores de los datos\n",
    "(_, caps, _) = plt.errorbar(voltaje_primario, voltaje_secundario, xerr=incertidumbreVp , yerr= incertidumbreVs, fmt='o', color='red', markersize=5, capsize=4, ecolor = '#FF8000', label='$Voltaje$')\n",
    "\n",
    "#Graficamos la función de ajustr\n",
    "plt.plot(voltaje_primario, func(voltaje_primario, *param), color ='blue', linestyle='--', label='')\n",
    "plt.legend() #mostrar leyendes de los datos y ajuste\n",
    "\n",
    "#Ponemos una anotación en la gráfica. Se puede cambiar su pocisión con el patametro xy.\n",
    "plt.annotate('$R^2 = %.5f$'%R[0], xy=(32, 120),  xycoords='data', xytext=(+5, +5), textcoords='offset points', \n",
    "             color= 'black',fontsize=15)\n",
    "\n",
    "#---------------------------------------------------\n",
    "##Definimos titulos, tamaño de fuente y de etiquetas\n",
    "#---------------------------------------------------\n",
    "\n",
    "#Ponemos un título y ajustamos el tamaño y pocisión de la leyenda\n",
    "plt.title('Transformador elevador', fontsize = 18)\n",
    "plt.legend(fontsize = 15, loc='upper left')\n",
    "\n",
    "#Agregamos un nombre y tamño de letra a las etiquetas de los ejes\n",
    "plt.ylabel('Voltaje secundario [$V$]', fontsize = 16)\n",
    "plt.xlabel('Voltaje primario [$V$]', fontsize = 16)\n",
    "\n",
    "#Modificamos el tamaño de los valores en los ejes\n",
    "plt.xticks(size = 16)\n",
    "plt.yticks(size = 16)\n",
    "\n",
    "\n",
    "plt.grid(True) #mostramos la rejilla de fondo\n",
    "plt.show() #mostramos todo lo que graficamos\n"
   ]
  },
  {
   "cell_type": "code",
   "execution_count": 55,
   "metadata": {},
   "outputs": [],
   "source": [
    "voltaje_primario1=data['Vp.1'][0:9]\n",
    "voltaje_secundario1=data['Vs.1'][0:9]\n",
    "incertidumbreVp1=data['Incertidumbre Vp.1'][0:9]\n",
    "incertidumbreVs1=data['Incertidumbre Vs.1'][0:9]"
   ]
  },
  {
   "cell_type": "code",
   "execution_count": 56,
   "metadata": {},
   "outputs": [
    {
     "data": {
      "text/plain": [
       "<matplotlib.collections.PathCollection at 0x2c5dd6580a0>"
      ]
     },
     "execution_count": 56,
     "metadata": {},
     "output_type": "execute_result"
    },
    {
     "data": {
      "image/png": "[encoded data removed]",
      "text/plain": [
       "<Figure size 1152x432 with 1 Axes>"
      ]
     },
     "metadata": {
      "needs_background": "light"
     },
     "output_type": "display_data"
    }
   ],
   "source": [
    "plt.figure(figsize=(16,6))\n",
    "plt.scatter(voltaje_primario1,voltaje_secundario1,label='Transformador eléctrico reductor')"
   ]
  },
  {
   "cell_type": "code",
   "execution_count": 57,
   "metadata": {
    "scrolled": false
   },
   "outputs": [
    {
     "name": "stdout",
     "output_type": "stream",
     "text": [
      "[0.3384631 2.3885366]\n",
      "[[0.01818631        nan]\n",
      " [       nan 0.90559319]]\n"
     ]
    },
    {
     "name": "stderr",
     "output_type": "stream",
     "text": [
      "C:\\Users\\DELL\\AppData\\Local\\Temp/ipykernel_7044/3531810658.py:6: RuntimeWarning: invalid value encountered in sqrt\n",
      "  print(np.sqrt(cov1))\n"
     ]
    }
   ],
   "source": [
    "def func1(x, a, b):\n",
    "    return a*x +b\n",
    "\n",
    "param1, cov1 = curve_fit(func1, voltaje_primario1, voltaje_secundario1, sigma=incertidumbreVp1, absolute_sigma=True)\n",
    "print(param1)                   #Parametros de ajuste\n",
    "print(np.sqrt(cov1)) "
   ]
  },
  {
   "cell_type": "code",
   "execution_count": 58,
   "metadata": {},
   "outputs": [
    {
     "name": "stdout",
     "output_type": "stream",
     "text": [
      "[[1.         0.99381622]\n",
      " [0.99381622 1.        ]]\n"
     ]
    }
   ],
   "source": [
    "print(np.corrcoef(voltaje_primario1,voltaje_secundario1))        \n",
    "R1 = np.diag(np.corrcoef(voltaje_primario1,voltaje_secundario1),-1)"
   ]
  },
  {
   "cell_type": "code",
   "execution_count": 59,
   "metadata": {},
   "outputs": [
    {
     "data": {
      "image/png": "[encoded data removed]",
      "text/plain": [
       "<Figure size 576x360 with 1 Axes>"
      ]
     },
     "metadata": {
      "needs_background": "light"
     },
     "output_type": "display_data"
    }
   ],
   "source": [
    "plt.figure(figsize=(8, 5)) \n",
    "\n",
    "#Graficamos las barras de error junto con los marcadores de los datos\n",
    "(_, caps, _) = plt.errorbar(voltaje_primario1, voltaje_secundario1, xerr=incertidumbreVp1 , yerr= incertidumbreVs1, fmt='o', color='red', markersize=5, capsize=4, ecolor = '#FF8000', label='$Voltaje$')\n",
    "\n",
    "#Graficamos la función de ajustr\n",
    "plt.plot(voltaje_primario1, func1(voltaje_primario1, *param1), color ='blue', linestyle='--', label='')\n",
    "plt.legend() #mostrar leyendes de los datos y ajuste\n",
    "\n",
    "#Ponemos una anotación en la gráfica. Se puede cambiar su pocisión con el patametro xy.\n",
    "plt.annotate('$R^2 = %.5f$'%R1[0], xy=(32, 25),  xycoords='data', xytext=(+5, +5), textcoords='offset points', \n",
    "             color= 'black',fontsize=15)\n",
    "\n",
    "#---------------------------------------------------\n",
    "##Definimos titulos, tamaño de fuente y de etiquetas\n",
    "#---------------------------------------------------\n",
    "\n",
    "#Ponemos un título y ajustamos el tamaño y pocisión de la leyenda\n",
    "plt.title('Transformador reductor', fontsize = 18)\n",
    "plt.legend(fontsize = 15, loc='upper left')\n",
    "\n",
    "#Agregamos un nombre y tamño de letra a las etiquetas de los ejes\n",
    "plt.ylabel('Voltaje secundario [$V$]', fontsize = 16)\n",
    "plt.xlabel('Voltaje primario [$V$]', fontsize = 16)\n",
    "\n",
    "#Modificamos el tamaño de los valores en los ejes\n",
    "plt.xticks(size = 16)\n",
    "plt.yticks(size = 16)\n",
    "\n",
    "\n",
    "plt.grid(True) #mostramos la rejilla de fondo\n",
    "plt.show() #mostramos todo lo que graficamos\n"
   ]
  }
 ],
 "metadata": {
  "kernelspec": {
   "display_name": "Python 3 (ipykernel)",
   "language": "python",
   "name": "python3"
  },
  "language_info": {
   "codemirror_mode": {
    "name": "ipython",
    "version": 3
   },
   "file_extension": ".py",
   "mimetype": "text/x-python",
   "name": "python",
   "nbconvert_exporter": "python",
   "pygments_lexer": "ipython3",
   "version": "3.9.7"
  }
 },
 "nbformat": 4,
 "nbformat_minor": 4
}
