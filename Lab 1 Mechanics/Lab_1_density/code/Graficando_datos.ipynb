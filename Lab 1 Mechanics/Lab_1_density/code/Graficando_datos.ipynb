{
 "cells": [
  {
   "cell_type": "code",
   "execution_count": 20,
   "metadata": {},
   "outputs": [],
   "source": [
    "import numpy as np\n",
    "import matplotlib.pyplot as plt\n",
    "from scipy.optimize import curve_fit"
   ]
  },
  {
   "cell_type": "markdown",
   "metadata": {},
   "source": [
    "## Importación y recolección de datos"
   ]
  },
  {
   "cell_type": "code",
   "execution_count": 21,
   "metadata": {},
   "outputs": [],
   "source": [
    "# Importación de datos\n",
    "data = np.loadtxt('Averages.txt')\n",
    "\n",
    "# Recolección de datos. Almacenamos los datos de masa, área y sus incertidumbres en vectores\n",
    "M = data[:,0]   #masa\n",
    "A = data[:,1]   #área\n",
    "dM = data[:,2]  #incertidumbres de las masas\n",
    "dA = data[:,3]  #incertidumbres de las áreas"
   ]
  },
  {
   "cell_type": "markdown",
   "metadata": {},
   "source": [
    "## Ajuste de una función"
   ]
  },
  {
   "cell_type": "code",
   "execution_count": 22,
   "metadata": {},
   "outputs": [
    {
     "name": "stdout",
     "output_type": "stream",
     "text": [
      "[ 0.45573497 -0.0412141 ]\n",
      "[0.00038692 0.00305648]\n"
     ]
    }
   ],
   "source": [
    "\"\"\"\n",
    "Se define la función que se desea ajustar. La entrada corresponde a la variable o variables independientes (x)\n",
    "y a los parametros de ajuste.\n",
    "\"\"\"\n",
    "\n",
    "def func(x, a, b):\n",
    "    return a*x+b\n",
    "\n",
    "\"\"\"\n",
    "Se realiza el ajuste del conjunto de datos. Las entradas son: la función de ajuste, los datos de la variable independiente \n",
    "(xdata), los datos de la variable dependiente (ydata), los errores de ydata, y absolute_sigma=True para tomar a los errores\n",
    "de ydata como desviaciones estándar.   \n",
    "\"\"\"\n",
    "\n",
    "param, cov = curve_fit(func, A, M, sigma=dM, absolute_sigma=True)\n",
    "print(param)                   #Parametros de ajuste\n",
    "print(np.sqrt(np.diag(cov)))   #Diagonal de la matriz de covarianza --> Errores en desviación estándar de los parametros"
   ]
  },
  {
   "cell_type": "code",
   "execution_count": 23,
   "metadata": {
    "scrolled": true
   },
   "outputs": [
    {
     "name": "stdout",
     "output_type": "stream",
     "text": [
      "[[1.         0.99964189]\n",
      " [0.99964189 1.        ]]\n"
     ]
    }
   ],
   "source": [
    "#Coeficiente de correlación de pearson\n",
    "\n",
    "print(np.corrcoef(A,M))        \n",
    "R = np.diag(np.corrcoef(A,M),-1)"
   ]
  },
  {
   "cell_type": "markdown",
   "metadata": {},
   "source": [
    "## Graficas"
   ]
  },
  {
   "cell_type": "code",
   "execution_count": 25,
   "metadata": {},
   "outputs": [
    {
     "data": {
      "image/png": "[encoded data removed]",
      "text/plain": [
       "<Figure size 576x360 with 1 Axes>"
      ]
     },
     "metadata": {
      "needs_background": "light"
     },
     "output_type": "display_data"
    }
   ],
   "source": [
    "#Creamos una figura de tamaño 8x5\n",
    "plt.figure(figsize=(8, 5)) \n",
    "\n",
    "#Graficamos las barras de error junto con los marcadores de los datos\n",
    "(_, caps, _) = plt.errorbar(A, M, xerr= dA, yerr= dM, fmt='o', color='#FF8000', markersize=5, capsize=4, ecolor = '#FF8000', label='$Datos$')\n",
    "\n",
    "#Graficamos la función de ajuste\n",
    "plt.plot(A, func(A, *param), color ='blue', linestyle='--', label='$m = %.3fA %.3f$'%(param[0],param[1]))\n",
    "plt.legend() #mostrar leyendes de los datos y ajuste\n",
    "\n",
    "#Ponemos una anotación en la gráfica. Se puede cambiar su pocisión con el patametro xy.\n",
    "plt.annotate('$R^2 = %.5f$'%R[0], xy=(6.1, 4.2),  xycoords='data', xytext=(+5, +5), textcoords='offset points', \n",
    "             color= 'black',fontsize=15)\n",
    "\n",
    "#---------------------------------------------------\n",
    "##Definimos titulos, tamaño de fuente y de etiquetas\n",
    "#---------------------------------------------------\n",
    "\n",
    "#Ponemos un título y ajustamos el tamaño y pocisión de la leyenda\n",
    "plt.title('Masa vs área', fontsize = 18)\n",
    "plt.legend(fontsize = 15, loc='upper left')\n",
    "\n",
    "#Agregamos un nombre y tamño de letra a las etiquetas de los ejes\n",
    "plt.ylabel('$m $ [$g$]', fontsize = 16)\n",
    "plt.xlabel('$A $ [$cm^2$]', fontsize = 16)\n",
    "\n",
    "#Modificamos el tamaño de los valores en los ejes\n",
    "plt.xticks(size = 16)\n",
    "plt.yticks(size = 16)\n",
    "\n",
    "plt.grid(True) #mostramos la rejilla de fondo\n",
    "plt.savefig('Figura_ajuste_lineal.png', format='png') #Se guarda la figura en el computador\n",
    "plt.show() #mostramos todo lo que graficamos\n",
    "\n"
   ]
  },
  {
   "cell_type": "code",
   "execution_count": null,
   "metadata": {},
   "outputs": [],
   "source": []
  }
 ],
 "metadata": {
  "kernelspec": {
   "display_name": "Python 3 (ipykernel)",
   "language": "python",
   "name": "python3"
  },
  "language_info": {
   "codemirror_mode": {
    "name": "ipython",
    "version": 3
   },
   "file_extension": ".py",
   "mimetype": "text/x-python",
   "name": "python",
   "nbconvert_exporter": "python",
   "pygments_lexer": "ipython3",
   "version": "3.9.6"
  }
 },
 "nbformat": 4,
 "nbformat_minor": 4
}
