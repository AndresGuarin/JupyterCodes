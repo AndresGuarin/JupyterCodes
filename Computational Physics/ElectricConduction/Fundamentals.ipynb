{
 "cells": [
  {
   "cell_type": "markdown",
   "id": "54f93aaa",
   "metadata": {},
   "source": [
    "# **Lennard-Jones gas**\n",
    "\n",
    "In this code we simulate ...\n",
    "\n",
    "**Credits**\n",
    "* Juan Andrés Guarín Rojas\n",
    "* [GitHub](https://github.com/AndresGuarin)\n",
    "\n",
    "\n",
    "This notebook follows the next order\n",
    "* [1. Computational scheme](#sec_1)"
   ]
  },
  {
   "cell_type": "markdown",
   "id": "c81366ce",
   "metadata": {},
   "source": [
    "# **Import libraries**"
   ]
  },
  {
   "cell_type": "code",
   "execution_count": 1,
   "id": "f7c95d42",
   "metadata": {},
   "outputs": [],
   "source": [
    "import numpy as np\n",
    "import matplotlib.pyplot as plt\n",
    "import ECond.simulation.solver as solver\n",
    "\n",
    "import matplotlib.animation as animation\n",
    "from datetime import datetime"
   ]
  },
  {
   "cell_type": "markdown",
   "id": "f7e3936f",
   "metadata": {},
   "source": [
    "## **Some ideas**"
   ]
  },
  {
   "cell_type": "markdown",
   "id": "41e74201",
   "metadata": {},
   "source": [
    "* Only calculate forces for the moving particles (electrons)"
   ]
  },
  {
   "cell_type": "markdown",
   "id": "8ba438ff",
   "metadata": {},
   "source": [
    "# **1. Computational scheme** <a class=\"anchor\" id=\"sec_1\"></a>"
   ]
  },
  {
   "cell_type": "markdown",
   "id": "0915d690",
   "metadata": {},
   "source": [
    "The Coulomb's force of a ith particle due to the presence of a jth particle is given by\n",
    "$$\\vec{F}_i^{\\,(Coulomb)} = \\frac{1}{4\\pi\\epsilon_0}\\frac{q_i q_j}{r_{ij}^3}\\vec{r}_{ij}$$\n",
    "where $\\vec{r}_{ij}=\\vec{r}_i-\\vec{r}_j$ Now, the Lorentz force of a ith particle due to the presence of the external fields $\\vec{E}$ and $\\vec{B}$ is\n",
    "$$\\vec{F}_i^{\\,(Lorentz)} = q_i\\left(\\vec{E} + \\vec{v}_i\\times\\vec{B} \\right)\\,,$$\n",
    "where $\\vec{v}_i$ is the velocity of the ith particle.\n",
    "\n",
    "\n",
    "For implementing this equations into the code we define the next dimensionless quantities:\n",
    "$$\\bar{t}=\\sqrt{\\frac{e^2}{4\\pi\\epsilon_0 m_e\\sigma^3}}t\\,,$$\n",
    "$$ \\vec{r}' = \\frac{\\vec{r}}{\\sigma}\\,,$$\n",
    "$$ \\vec{v}' = \\frac{d\\vec{r}'}{d\\bar{t}}$$\n",
    "$$ \\bar{r}_{ij} =\\frac{r_{ij}}{\\sigma}\\,, $$\n",
    "$$\\bar{q}_i = \\frac{q_i}{e}$$\n",
    "where $\\sigma=361.5\\times 10^{-12}[\\text{m}]$ is the lattice constant cristal structure of copper, $e$ is the elemental charge and $m_e$ is the electron rest mass. We also define the next dimensionless fields\n",
    "\n",
    "$$\\vec{E}' = \\frac{4\\pi\\epsilon_0 \\sigma^2}{e}\\vec{E}$$\n",
    "$$\\vec{B}' = \\sqrt{\\frac{4\\pi\\epsilon_0\\sigma^3}{m_e}} \\vec{B}$$\n",
    "\n",
    "With this definitions the Newton's Law of motion for the electrons is left as\n",
    "$$ \\frac{d^2\\vec{r}'_{i}}{d \\bar{t}^2}=\\sum\\limits_{j=1}^{N} \\frac{\\bar{q}_i \\bar{q}_j}{\\bar{r}_{ij}^2}\\hat{r}'_{ij} + \\bar{q}\\left(\\vec{E}'+\\vec{v}'_i\\times\\vec{B}' \\right) \\,.$$ "
   ]
  },
  {
   "cell_type": "markdown",
   "id": "de46aac3",
   "metadata": {},
   "source": [
    "# **2. Test**"
   ]
  },
  {
   "cell_type": "code",
   "execution_count": 2,
   "id": "fb880190",
   "metadata": {},
   "outputs": [],
   "source": [
    "# Choose parameters \n",
    "h = 0.01; N = 2000; NL = 1; NF=1\n",
    "\n",
    "# Set intial conditions\n",
    "X0 = np.array([1,0])\n",
    "Y0 = np.array([0,0])\n",
    "Vx0 = np.array([0,0])\n",
    "Vy0 = np.array([1,0])\n",
    "Q = np.array([-1,1])\n",
    "\n",
    "# Set external fields\n",
    "def B1(X,Y,t):\n",
    "    return X*0 #In order: [Bz]\n",
    "\n",
    "def E1(X,Y,t):\n",
    "     return [X*0, X*0] #In order: [Ex, Ey]\n",
    "\n",
    "def B2(X,Y,t):\n",
    "     return X*0 - 10\n",
    "\n",
    "sim = solver.ECond(h,N,NL,NF,E1,B1)\n",
    "s = sim.simulate([X0,Y0,Vx0,Vy0,Q])\n",
    "\n",
    "self1 = sim.get_self()"
   ]
  },
  {
   "cell_type": "code",
   "execution_count": 3,
   "id": "7addf5da",
   "metadata": {},
   "outputs": [
    {
     "name": "stdout",
     "output_type": "stream",
     "text": [
      "Using matplotlib backend: <object object at 0x000001630976B4F0>\n",
      "Using matplotlib backend: QtAgg\n"
     ]
    }
   ],
   "source": [
    "%matplotlib auto\n",
    "%matplotlib auto"
   ]
  },
  {
   "cell_type": "code",
   "execution_count": 4,
   "id": "c52278b4",
   "metadata": {},
   "outputs": [],
   "source": [
    "%matplotlib inline"
   ]
  },
  {
   "cell_type": "code",
   "execution_count": 5,
   "id": "4e46fbf4",
   "metadata": {},
   "outputs": [
    {
     "data": {
      "image/png": "[encoded data removed]",
      "text/plain": [
       "<Figure size 640x480 with 1 Axes>"
      ]
     },
     "metadata": {},
     "output_type": "display_data"
    }
   ],
   "source": [
    "X1 = s[0][:,0]\n",
    "Y1 = s[1][:,0]\n",
    "X2 = s[0][:,1]\n",
    "Y2 = s[1][:,1]\n",
    "plt.plot(X1,Y1,'-b',lw=1.5)\n",
    "plt.plot(X1,Y1,'or',ms=2)\n",
    "plt.plot(X2,Y2,'-',color='orange',lw=1.5)\n",
    "plt.plot(X2[0],Y2[0],'or')\n",
    "plt.plot(X1[0],Y1[0],'og')\n",
    "D=1.7\n",
    "plt.xlim(-D,D)\n",
    "plt.ylim(-D,D)\n",
    "plt.show()"
   ]
  },
  {
   "cell_type": "code",
   "execution_count": null,
   "id": "b29f4fc5",
   "metadata": {},
   "outputs": [],
   "source": []
  }
 ],
 "metadata": {
  "kernelspec": {
   "display_name": "Python 3",
   "language": "python",
   "name": "python3"
  },
  "language_info": {
   "codemirror_mode": {
    "name": "ipython",
    "version": 3
   },
   "file_extension": ".py",
   "mimetype": "text/x-python",
   "name": "python",
   "nbconvert_exporter": "python",
   "pygments_lexer": "ipython3",
   "version": "3.12.1"
  }
 },
 "nbformat": 4,
 "nbformat_minor": 5
}
