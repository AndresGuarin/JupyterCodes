{
 "cells": [
  {
   "cell_type": "code",
   "execution_count": 27,
   "metadata": {},
   "outputs": [],
   "source": [
    "import numpy as np\n",
    "import matplotlib.pyplot as plt"
   ]
  },
  {
   "cell_type": "code",
   "execution_count": 8,
   "metadata": {},
   "outputs": [],
   "source": [
    "from astropy import units as un"
   ]
  },
  {
   "cell_type": "code",
   "execution_count": 9,
   "metadata": {},
   "outputs": [
    {
     "data": {
      "text/latex": [
       "$\\mathrm{s^{2}\\,m}$"
      ],
      "text/plain": [
       "Unit(\"s2 m\")"
      ]
     },
     "execution_count": 9,
     "metadata": {},
     "output_type": "execute_result"
    }
   ],
   "source": [
    "un.s**2*un.m # metros"
   ]
  },
  {
   "cell_type": "code",
   "execution_count": 10,
   "metadata": {},
   "outputs": [
    {
     "data": {
      "text/latex": [
       "$\\mathrm{J}$"
      ],
      "text/plain": [
       "Unit(\"J\")"
      ]
     },
     "execution_count": 10,
     "metadata": {},
     "output_type": "execute_result"
    }
   ],
   "source": [
    "un.J"
   ]
  },
  {
   "cell_type": "code",
   "execution_count": 11,
   "metadata": {},
   "outputs": [],
   "source": [
    "# Parametros\n",
    "t = np.linspace(0,10,300)*un.s\n",
    "v0x = 10*un.m / (un.s)          \n",
    "v0y = 40*un.m / (un.s)\n",
    "h0 = 20*un.m\n",
    "g = 9.8 * un.m / (un.s**2)\n",
    "\n",
    "# Datos\n",
    "x = v0x * t\n",
    "y = h0 + v0y*t -0.5*g*t**2"
   ]
  },
  {
   "cell_type": "code",
   "execution_count": 35,
   "metadata": {},
   "outputs": [
    {
     "data": {
      "text/latex": [
       "$[20,~21.332312,~22.653662,~\\dots,~-66.142325,~-68.065682,~-70] \\; \\mathrm{m}$"
      ],
      "text/plain": [
       "<Quantity [ 20.        ,  21.33231172,  22.65366159,  23.96404962,\n",
       "            25.2634758 ,  26.55194013,  27.82944262,  29.09598327,\n",
       "            30.35156206,  31.59617901,  32.82983412,  34.05252738,\n",
       "            35.26425879,  36.46502836,  37.65483608,  38.83368195,\n",
       "            40.00156598,  41.15848816,  42.3044485 ,  43.43944699,\n",
       "            44.56348363,  45.67655843,  46.77867138,  47.86982249,\n",
       "            48.95001174,  50.01923916,  51.07750473,  52.12480845,\n",
       "            53.16115032,  54.18653035,  55.20094854,  56.20440487,\n",
       "            57.19689936,  58.17843201,  59.14900281,  60.10861176,\n",
       "            61.05725887,  61.99494413,  62.92166754,  63.83742911,\n",
       "            64.74222883,  65.63606671,  66.51894274,  67.39085693,\n",
       "            68.25180926,  69.10179976,  69.9408284 ,  70.7688952 ,\n",
       "            71.58600016,  72.39214326,  73.18732453,  73.97154394,\n",
       "            74.74480151,  75.50709724,  76.25843111,  76.99880315,\n",
       "            77.72821333,  78.44666167,  79.15414816,  79.85067281,\n",
       "            80.53623561,  81.21083657,  81.87447568,  82.52715294,\n",
       "            83.16886836,  83.79962193,  84.41941365,  85.02824353,\n",
       "            85.62611156,  86.21301775,  86.78896209,  87.35394459,\n",
       "            87.90796524,  88.45102404,  88.98312099,  89.5042561 ,\n",
       "            90.01442937,  90.51364079,  91.00189036,  91.47917809,\n",
       "            91.94550397,  92.400868  ,  92.84527019,  93.27871053,\n",
       "            93.70118902,  94.11270567,  94.51326048,  94.90285344,\n",
       "            95.28148455,  95.64915381,  96.00586123,  96.35160681,\n",
       "            96.68639053,  97.01021241,  97.32307245,  97.62497064,\n",
       "            97.91590698,  98.19588148,  98.46489413,  98.72294493,\n",
       "            98.97003389,  99.206161  ,  99.43132627,  99.64552969,\n",
       "            99.84877127, 100.04105099, 100.22236888, 100.39272491,\n",
       "           100.5521191 , 100.70055145, 100.83802195, 100.9645306 ,\n",
       "           101.0800774 , 101.18466236, 101.27828548, 101.36094675,\n",
       "           101.43264617, 101.49338374, 101.54315947, 101.58197336,\n",
       "           101.60982539, 101.62671558, 101.63264393, 101.62761043,\n",
       "           101.61161508, 101.58465789, 101.54673885, 101.49785797,\n",
       "           101.43801523, 101.36721066, 101.28544423, 101.19271597,\n",
       "           101.08902585, 100.97437389, 100.84876008, 100.71218443,\n",
       "           100.56464693, 100.40614758, 100.23668639, 100.05626335,\n",
       "            99.86487847,  99.66253174,  99.44922316,  99.22495274,\n",
       "            98.98972047,  98.74352636,  98.4863704 ,  98.21825259,\n",
       "            97.93917294,  97.64913144,  97.3481281 ,  97.03616291,\n",
       "            96.71323587,  96.37934699,  96.03449626,  95.67868368,\n",
       "            95.31190926,  94.934173  ,  94.54547488,  94.14581492,\n",
       "            93.73519312,  93.31360947,  92.88106397,  92.43755663,\n",
       "            91.98308744,  91.5176564 ,  91.04126352,  90.55390879,\n",
       "            90.05559222,  89.5463138 ,  89.02607353,  88.49487142,\n",
       "            87.95270746,  87.39958166,  86.83549401,  86.26044451,\n",
       "            85.67443317,  85.07745998,  84.46952495,  83.85062807,\n",
       "            83.22076934,  82.57994877,  81.92816635,  81.26542209,\n",
       "            80.59171598,  79.90704802,  79.21141822,  78.50482657,\n",
       "            77.78727307,  77.05875773,  76.31928054,  75.56884151,\n",
       "            74.80744063,  74.03507791,  73.25175334,  72.45746692,\n",
       "            71.65221866,  70.83600855,  70.00883659,  69.17070279,\n",
       "            68.32160714,  67.46154965,  66.59053031,  65.70854912,\n",
       "            64.81560609,  63.91170121,  62.99683449,  62.07100592,\n",
       "            61.1342155 ,  60.18646324,  59.22774913,  58.25807318,\n",
       "            57.27743538,  56.28583573,  55.28327424,  54.2697509 ,\n",
       "            53.24526571,  52.20981868,  51.16340981,  50.10603908,\n",
       "            49.03770651,  47.9584121 ,  46.86815584,  45.76693773,\n",
       "            44.65475778,  43.53161598,  42.39751233,  41.25244684,\n",
       "            40.0964195 ,  38.92943032,  37.75147929,  36.56256641,\n",
       "            35.36269169,  34.15185512,  32.93005671,  31.69729645,\n",
       "            30.45357434,  29.19889039,  27.93324459,  26.65663695,\n",
       "            25.36906746,  24.07053612,  22.76104294,  21.44058791,\n",
       "            20.10917104,  18.76679232,  17.41345175,  16.04914934,\n",
       "            14.67388508,  13.28765897,  11.89047102,  10.48232123,\n",
       "             9.06320958,   7.63313609,   6.19210076,   4.74010358,\n",
       "             3.27714455,   1.80322368,   0.31834096,  -1.17750361,\n",
       "            -2.68431002,  -4.20207828,  -5.73080838,  -7.27050033,\n",
       "            -8.82115413, -10.38276977, -11.95534726, -13.53888659,\n",
       "           -15.13338777, -16.7388508 , -18.35527567, -19.98266239,\n",
       "           -21.62101095, -23.27032136, -24.93059362, -26.60182772,\n",
       "           -28.28402367, -29.97718146, -31.6813011 , -33.39638259,\n",
       "           -35.12242592, -36.8594311 , -38.60739813, -40.366327  ,\n",
       "           -42.13621772, -43.91707028, -45.70888469, -47.51166094,\n",
       "           -49.32539904, -51.15009899, -52.98576079, -54.83238443,\n",
       "           -56.68996991, -58.55851724, -60.43802642, -62.32849744,\n",
       "           -64.22993031, -66.14232503, -68.06568159, -70.        ] m>"
      ]
     },
     "execution_count": 35,
     "metadata": {},
     "output_type": "execute_result"
    }
   ],
   "source": [
    "y"
   ]
  },
  {
   "cell_type": "code",
   "execution_count": 36,
   "metadata": {},
   "outputs": [
    {
     "data": {
      "text/latex": [
       "$[0,~0.33444816,~0.66889632,~\\dots,~99.331104,~99.665552,~100] \\; \\mathrm{m}$"
      ],
      "text/plain": [
       "<Quantity [  0.        ,   0.33444816,   0.66889632,   1.00334448,\n",
       "             1.33779264,   1.6722408 ,   2.00668896,   2.34113712,\n",
       "             2.67558528,   3.01003344,   3.34448161,   3.67892977,\n",
       "             4.01337793,   4.34782609,   4.68227425,   5.01672241,\n",
       "             5.35117057,   5.68561873,   6.02006689,   6.35451505,\n",
       "             6.68896321,   7.02341137,   7.35785953,   7.69230769,\n",
       "             8.02675585,   8.36120401,   8.69565217,   9.03010033,\n",
       "             9.36454849,   9.69899666,  10.03344482,  10.36789298,\n",
       "            10.70234114,  11.0367893 ,  11.37123746,  11.70568562,\n",
       "            12.04013378,  12.37458194,  12.7090301 ,  13.04347826,\n",
       "            13.37792642,  13.71237458,  14.04682274,  14.3812709 ,\n",
       "            14.71571906,  15.05016722,  15.38461538,  15.71906355,\n",
       "            16.05351171,  16.38795987,  16.72240803,  17.05685619,\n",
       "            17.39130435,  17.72575251,  18.06020067,  18.39464883,\n",
       "            18.72909699,  19.06354515,  19.39799331,  19.73244147,\n",
       "            20.06688963,  20.40133779,  20.73578595,  21.07023411,\n",
       "            21.40468227,  21.73913043,  22.0735786 ,  22.40802676,\n",
       "            22.74247492,  23.07692308,  23.41137124,  23.7458194 ,\n",
       "            24.08026756,  24.41471572,  24.74916388,  25.08361204,\n",
       "            25.4180602 ,  25.75250836,  26.08695652,  26.42140468,\n",
       "            26.75585284,  27.090301  ,  27.42474916,  27.75919732,\n",
       "            28.09364548,  28.42809365,  28.76254181,  29.09698997,\n",
       "            29.43143813,  29.76588629,  30.10033445,  30.43478261,\n",
       "            30.76923077,  31.10367893,  31.43812709,  31.77257525,\n",
       "            32.10702341,  32.44147157,  32.77591973,  33.11036789,\n",
       "            33.44481605,  33.77926421,  34.11371237,  34.44816054,\n",
       "            34.7826087 ,  35.11705686,  35.45150502,  35.78595318,\n",
       "            36.12040134,  36.4548495 ,  36.78929766,  37.12374582,\n",
       "            37.45819398,  37.79264214,  38.1270903 ,  38.46153846,\n",
       "            38.79598662,  39.13043478,  39.46488294,  39.7993311 ,\n",
       "            40.13377926,  40.46822742,  40.80267559,  41.13712375,\n",
       "            41.47157191,  41.80602007,  42.14046823,  42.47491639,\n",
       "            42.80936455,  43.14381271,  43.47826087,  43.81270903,\n",
       "            44.14715719,  44.48160535,  44.81605351,  45.15050167,\n",
       "            45.48494983,  45.81939799,  46.15384615,  46.48829431,\n",
       "            46.82274247,  47.15719064,  47.4916388 ,  47.82608696,\n",
       "            48.16053512,  48.49498328,  48.82943144,  49.1638796 ,\n",
       "            49.49832776,  49.83277592,  50.16722408,  50.50167224,\n",
       "            50.8361204 ,  51.17056856,  51.50501672,  51.83946488,\n",
       "            52.17391304,  52.5083612 ,  52.84280936,  53.17725753,\n",
       "            53.51170569,  53.84615385,  54.18060201,  54.51505017,\n",
       "            54.84949833,  55.18394649,  55.51839465,  55.85284281,\n",
       "            56.18729097,  56.52173913,  56.85618729,  57.19063545,\n",
       "            57.52508361,  57.85953177,  58.19397993,  58.52842809,\n",
       "            58.86287625,  59.19732441,  59.53177258,  59.86622074,\n",
       "            60.2006689 ,  60.53511706,  60.86956522,  61.20401338,\n",
       "            61.53846154,  61.8729097 ,  62.20735786,  62.54180602,\n",
       "            62.87625418,  63.21070234,  63.5451505 ,  63.87959866,\n",
       "            64.21404682,  64.54849498,  64.88294314,  65.2173913 ,\n",
       "            65.55183946,  65.88628763,  66.22073579,  66.55518395,\n",
       "            66.88963211,  67.22408027,  67.55852843,  67.89297659,\n",
       "            68.22742475,  68.56187291,  68.89632107,  69.23076923,\n",
       "            69.56521739,  69.89966555,  70.23411371,  70.56856187,\n",
       "            70.90301003,  71.23745819,  71.57190635,  71.90635452,\n",
       "            72.24080268,  72.57525084,  72.909699  ,  73.24414716,\n",
       "            73.57859532,  73.91304348,  74.24749164,  74.5819398 ,\n",
       "            74.91638796,  75.25083612,  75.58528428,  75.91973244,\n",
       "            76.2541806 ,  76.58862876,  76.92307692,  77.25752508,\n",
       "            77.59197324,  77.9264214 ,  78.26086957,  78.59531773,\n",
       "            78.92976589,  79.26421405,  79.59866221,  79.93311037,\n",
       "            80.26755853,  80.60200669,  80.93645485,  81.27090301,\n",
       "            81.60535117,  81.93979933,  82.27424749,  82.60869565,\n",
       "            82.94314381,  83.27759197,  83.61204013,  83.94648829,\n",
       "            84.28093645,  84.61538462,  84.94983278,  85.28428094,\n",
       "            85.6187291 ,  85.95317726,  86.28762542,  86.62207358,\n",
       "            86.95652174,  87.2909699 ,  87.62541806,  87.95986622,\n",
       "            88.29431438,  88.62876254,  88.9632107 ,  89.29765886,\n",
       "            89.63210702,  89.96655518,  90.30100334,  90.63545151,\n",
       "            90.96989967,  91.30434783,  91.63879599,  91.97324415,\n",
       "            92.30769231,  92.64214047,  92.97658863,  93.31103679,\n",
       "            93.64548495,  93.97993311,  94.31438127,  94.64882943,\n",
       "            94.98327759,  95.31772575,  95.65217391,  95.98662207,\n",
       "            96.32107023,  96.65551839,  96.98996656,  97.32441472,\n",
       "            97.65886288,  97.99331104,  98.3277592 ,  98.66220736,\n",
       "            98.99665552,  99.33110368,  99.66555184, 100.        ] m>"
      ]
     },
     "execution_count": 36,
     "metadata": {},
     "output_type": "execute_result"
    }
   ],
   "source": [
    "x"
   ]
  },
  {
   "cell_type": "code",
   "execution_count": 12,
   "metadata": {},
   "outputs": [],
   "source": [
    "import matplotlib.pyplot as plt"
   ]
  },
  {
   "cell_type": "code",
   "execution_count": 16,
   "metadata": {},
   "outputs": [],
   "source": [
    "plt.plot(x,y)\n",
    "plt.hlines(0,0,100,colors='red')\n",
    "plt.show()"
   ]
  },
  {
   "cell_type": "code",
   "execution_count": 19,
   "metadata": {},
   "outputs": [],
   "source": [
    "import matplotlib.animation as ani"
   ]
  },
  {
   "cell_type": "code",
   "execution_count": 20,
   "metadata": {},
   "outputs": [
    {
     "name": "stdout",
     "output_type": "stream",
     "text": [
      "Using matplotlib backend: TkAgg\n"
     ]
    }
   ],
   "source": [
    "%matplotlib auto"
   ]
  },
  {
   "cell_type": "code",
   "execution_count": 40,
   "metadata": {},
   "outputs": [],
   "source": [
    "fig = plt.figure()\n",
    "ax = fig.gca()\n",
    "\n",
    "N = 200\n",
    "def update(j):\n",
    "    # Parametros\n",
    "    v0x = 10*un.m / (un.s)          \n",
    "    v0y = 40*un.m / (un.s)\n",
    "    h0 = 20*un.m\n",
    "    g = 9.8 * un.m / (un.s**2)\n",
    "\n",
    "    t_vuelo = (-v0y-np.sqrt(v0y**2-4*(-0.5*g)*h0)) / (-g)\n",
    "\n",
    "    tt = np.linspace(0,t_vuelo,N)\n",
    "\n",
    "    # Datos\n",
    "    t = tt[0:j]\n",
    "    x = v0x * t\n",
    "    y = h0 + v0y*t -0.5*g*t**2\n",
    "    ax.clear()\n",
    "    ax.plot(x,y,'-',color='blue')\n",
    "    ax.plot(x[-1],y[-1],'or',label='Proyectil')\n",
    "    plt.legend()\n",
    "    \n",
    "anim = ani.FuncAnimation(fig,update,range(1,N,1),repeat=False,interval=10)\n",
    "plt.show()"
   ]
  },
  {
   "cell_type": "code",
   "execution_count": 2,
   "metadata": {},
   "outputs": [],
   "source": [
    "import pandas as pd"
   ]
  },
  {
   "cell_type": "code",
   "execution_count": 5,
   "metadata": {},
   "outputs": [],
   "source": [
    "data = pd.DataFrame({'Nombre':['Andres','Camila','Carlos','Manuela', 'Pedro', 'Miguel'],\n",
    "            'Edades':[15,16,14,15,16,14],\n",
    "            'Ciencias':[8,9,8,10,9,9],\n",
    "            'Matemáticas':[8,7,7,8,9,6],\n",
    "            'Español':[8,9,7,9,6,7],\n",
    "            'Inglés':[7,9,9,8,8,6]})"
   ]
  },
  {
   "cell_type": "code",
   "execution_count": 7,
   "metadata": {},
   "outputs": [
    {
     "data": {
      "text/html": [
       "<div>\n",
       "<style scoped>\n",
       "    .dataframe tbody tr th:only-of-type {\n",
       "        vertical-align: middle;\n",
       "    }\n",
       "\n",
       "    .dataframe tbody tr th {\n",
       "        vertical-align: top;\n",
       "    }\n",
       "\n",
       "    .dataframe thead th {\n",
       "        text-align: right;\n",
       "    }\n",
       "</style>\n",
       "<table border=\"1\" class=\"dataframe\">\n",
       "  <thead>\n",
       "    <tr style=\"text-align: right;\">\n",
       "      <th></th>\n",
       "      <th>Nombre</th>\n",
       "      <th>Edades</th>\n",
       "      <th>Ciencias</th>\n",
       "      <th>Matemáticas</th>\n",
       "      <th>Español</th>\n",
       "      <th>Inglés</th>\n",
       "    </tr>\n",
       "  </thead>\n",
       "  <tbody>\n",
       "    <tr>\n",
       "      <th>0</th>\n",
       "      <td>Andres</td>\n",
       "      <td>15</td>\n",
       "      <td>8</td>\n",
       "      <td>8</td>\n",
       "      <td>8</td>\n",
       "      <td>7</td>\n",
       "    </tr>\n",
       "    <tr>\n",
       "      <th>1</th>\n",
       "      <td>Camila</td>\n",
       "      <td>16</td>\n",
       "      <td>9</td>\n",
       "      <td>7</td>\n",
       "      <td>9</td>\n",
       "      <td>9</td>\n",
       "    </tr>\n",
       "    <tr>\n",
       "      <th>2</th>\n",
       "      <td>Carlos</td>\n",
       "      <td>14</td>\n",
       "      <td>8</td>\n",
       "      <td>7</td>\n",
       "      <td>7</td>\n",
       "      <td>9</td>\n",
       "    </tr>\n",
       "    <tr>\n",
       "      <th>3</th>\n",
       "      <td>Manuela</td>\n",
       "      <td>15</td>\n",
       "      <td>10</td>\n",
       "      <td>8</td>\n",
       "      <td>9</td>\n",
       "      <td>8</td>\n",
       "    </tr>\n",
       "    <tr>\n",
       "      <th>4</th>\n",
       "      <td>Pedro</td>\n",
       "      <td>16</td>\n",
       "      <td>9</td>\n",
       "      <td>9</td>\n",
       "      <td>6</td>\n",
       "      <td>8</td>\n",
       "    </tr>\n",
       "    <tr>\n",
       "      <th>5</th>\n",
       "      <td>Miguel</td>\n",
       "      <td>14</td>\n",
       "      <td>9</td>\n",
       "      <td>6</td>\n",
       "      <td>7</td>\n",
       "      <td>6</td>\n",
       "    </tr>\n",
       "  </tbody>\n",
       "</table>\n",
       "</div>"
      ],
      "text/plain": [
       "    Nombre  Edades  Ciencias  Matemáticas  Español  Inglés\n",
       "0   Andres      15         8            8        8       7\n",
       "1   Camila      16         9            7        9       9\n",
       "2   Carlos      14         8            7        7       9\n",
       "3  Manuela      15        10            8        9       8\n",
       "4    Pedro      16         9            9        6       8\n",
       "5   Miguel      14         9            6        7       6"
      ]
     },
     "execution_count": 7,
     "metadata": {},
     "output_type": "execute_result"
    }
   ],
   "source": [
    "data"
   ]
  },
  {
   "cell_type": "code",
   "execution_count": 8,
   "metadata": {},
   "outputs": [
    {
     "data": {
      "text/html": [
       "<div>\n",
       "<style scoped>\n",
       "    .dataframe tbody tr th:only-of-type {\n",
       "        vertical-align: middle;\n",
       "    }\n",
       "\n",
       "    .dataframe tbody tr th {\n",
       "        vertical-align: top;\n",
       "    }\n",
       "\n",
       "    .dataframe thead th {\n",
       "        text-align: right;\n",
       "    }\n",
       "</style>\n",
       "<table border=\"1\" class=\"dataframe\">\n",
       "  <thead>\n",
       "    <tr style=\"text-align: right;\">\n",
       "      <th></th>\n",
       "      <th>Edades</th>\n",
       "      <th>Ciencias</th>\n",
       "      <th>Matemáticas</th>\n",
       "      <th>Español</th>\n",
       "      <th>Inglés</th>\n",
       "    </tr>\n",
       "    <tr>\n",
       "      <th>Nombre</th>\n",
       "      <th></th>\n",
       "      <th></th>\n",
       "      <th></th>\n",
       "      <th></th>\n",
       "      <th></th>\n",
       "    </tr>\n",
       "  </thead>\n",
       "  <tbody>\n",
       "    <tr>\n",
       "      <th>Andres</th>\n",
       "      <td>15</td>\n",
       "      <td>8</td>\n",
       "      <td>8</td>\n",
       "      <td>8</td>\n",
       "      <td>7</td>\n",
       "    </tr>\n",
       "    <tr>\n",
       "      <th>Camila</th>\n",
       "      <td>16</td>\n",
       "      <td>9</td>\n",
       "      <td>7</td>\n",
       "      <td>9</td>\n",
       "      <td>9</td>\n",
       "    </tr>\n",
       "    <tr>\n",
       "      <th>Carlos</th>\n",
       "      <td>14</td>\n",
       "      <td>8</td>\n",
       "      <td>7</td>\n",
       "      <td>7</td>\n",
       "      <td>9</td>\n",
       "    </tr>\n",
       "    <tr>\n",
       "      <th>Manuela</th>\n",
       "      <td>15</td>\n",
       "      <td>10</td>\n",
       "      <td>8</td>\n",
       "      <td>9</td>\n",
       "      <td>8</td>\n",
       "    </tr>\n",
       "    <tr>\n",
       "      <th>Pedro</th>\n",
       "      <td>16</td>\n",
       "      <td>9</td>\n",
       "      <td>9</td>\n",
       "      <td>6</td>\n",
       "      <td>8</td>\n",
       "    </tr>\n",
       "    <tr>\n",
       "      <th>Miguel</th>\n",
       "      <td>14</td>\n",
       "      <td>9</td>\n",
       "      <td>6</td>\n",
       "      <td>7</td>\n",
       "      <td>6</td>\n",
       "    </tr>\n",
       "  </tbody>\n",
       "</table>\n",
       "</div>"
      ],
      "text/plain": [
       "         Edades  Ciencias  Matemáticas  Español  Inglés\n",
       "Nombre                                                 \n",
       "Andres       15         8            8        8       7\n",
       "Camila       16         9            7        9       9\n",
       "Carlos       14         8            7        7       9\n",
       "Manuela      15        10            8        9       8\n",
       "Pedro        16         9            9        6       8\n",
       "Miguel       14         9            6        7       6"
      ]
     },
     "execution_count": 8,
     "metadata": {},
     "output_type": "execute_result"
    }
   ],
   "source": [
    "data = data.set_index('Nombre')\n",
    "data"
   ]
  },
  {
   "cell_type": "code",
   "execution_count": 13,
   "metadata": {},
   "outputs": [],
   "source": [
    "data['Nota final'] = (data['Ciencias'] + data['Matemáticas']+ data['Español']+data['Inglés'])/4"
   ]
  },
  {
   "cell_type": "code",
   "execution_count": 14,
   "metadata": {},
   "outputs": [
    {
     "data": {
      "text/html": [
       "<div>\n",
       "<style scoped>\n",
       "    .dataframe tbody tr th:only-of-type {\n",
       "        vertical-align: middle;\n",
       "    }\n",
       "\n",
       "    .dataframe tbody tr th {\n",
       "        vertical-align: top;\n",
       "    }\n",
       "\n",
       "    .dataframe thead th {\n",
       "        text-align: right;\n",
       "    }\n",
       "</style>\n",
       "<table border=\"1\" class=\"dataframe\">\n",
       "  <thead>\n",
       "    <tr style=\"text-align: right;\">\n",
       "      <th></th>\n",
       "      <th>Edades</th>\n",
       "      <th>Ciencias</th>\n",
       "      <th>Matemáticas</th>\n",
       "      <th>Español</th>\n",
       "      <th>Inglés</th>\n",
       "      <th>Nota final</th>\n",
       "    </tr>\n",
       "    <tr>\n",
       "      <th>Nombre</th>\n",
       "      <th></th>\n",
       "      <th></th>\n",
       "      <th></th>\n",
       "      <th></th>\n",
       "      <th></th>\n",
       "      <th></th>\n",
       "    </tr>\n",
       "  </thead>\n",
       "  <tbody>\n",
       "    <tr>\n",
       "      <th>Andres</th>\n",
       "      <td>15</td>\n",
       "      <td>8</td>\n",
       "      <td>8</td>\n",
       "      <td>8</td>\n",
       "      <td>7</td>\n",
       "      <td>7.75</td>\n",
       "    </tr>\n",
       "    <tr>\n",
       "      <th>Camila</th>\n",
       "      <td>16</td>\n",
       "      <td>9</td>\n",
       "      <td>7</td>\n",
       "      <td>9</td>\n",
       "      <td>9</td>\n",
       "      <td>8.50</td>\n",
       "    </tr>\n",
       "    <tr>\n",
       "      <th>Carlos</th>\n",
       "      <td>14</td>\n",
       "      <td>8</td>\n",
       "      <td>7</td>\n",
       "      <td>7</td>\n",
       "      <td>9</td>\n",
       "      <td>7.75</td>\n",
       "    </tr>\n",
       "    <tr>\n",
       "      <th>Manuela</th>\n",
       "      <td>15</td>\n",
       "      <td>10</td>\n",
       "      <td>8</td>\n",
       "      <td>9</td>\n",
       "      <td>8</td>\n",
       "      <td>8.75</td>\n",
       "    </tr>\n",
       "    <tr>\n",
       "      <th>Pedro</th>\n",
       "      <td>16</td>\n",
       "      <td>9</td>\n",
       "      <td>9</td>\n",
       "      <td>6</td>\n",
       "      <td>8</td>\n",
       "      <td>8.00</td>\n",
       "    </tr>\n",
       "    <tr>\n",
       "      <th>Miguel</th>\n",
       "      <td>14</td>\n",
       "      <td>9</td>\n",
       "      <td>6</td>\n",
       "      <td>7</td>\n",
       "      <td>6</td>\n",
       "      <td>7.00</td>\n",
       "    </tr>\n",
       "  </tbody>\n",
       "</table>\n",
       "</div>"
      ],
      "text/plain": [
       "         Edades  Ciencias  Matemáticas  Español  Inglés  Nota final\n",
       "Nombre                                                             \n",
       "Andres       15         8            8        8       7        7.75\n",
       "Camila       16         9            7        9       9        8.50\n",
       "Carlos       14         8            7        7       9        7.75\n",
       "Manuela      15        10            8        9       8        8.75\n",
       "Pedro        16         9            9        6       8        8.00\n",
       "Miguel       14         9            6        7       6        7.00"
      ]
     },
     "execution_count": 14,
     "metadata": {},
     "output_type": "execute_result"
    }
   ],
   "source": [
    "data"
   ]
  },
  {
   "cell_type": "code",
   "execution_count": 15,
   "metadata": {},
   "outputs": [
    {
     "data": {
      "text/html": [
       "<div>\n",
       "<style scoped>\n",
       "    .dataframe tbody tr th:only-of-type {\n",
       "        vertical-align: middle;\n",
       "    }\n",
       "\n",
       "    .dataframe tbody tr th {\n",
       "        vertical-align: top;\n",
       "    }\n",
       "\n",
       "    .dataframe thead th {\n",
       "        text-align: right;\n",
       "    }\n",
       "</style>\n",
       "<table border=\"1\" class=\"dataframe\">\n",
       "  <thead>\n",
       "    <tr style=\"text-align: right;\">\n",
       "      <th></th>\n",
       "      <th>Edades</th>\n",
       "      <th>Ciencias</th>\n",
       "      <th>Matemáticas</th>\n",
       "      <th>Español</th>\n",
       "      <th>Inglés</th>\n",
       "      <th>Nota final</th>\n",
       "    </tr>\n",
       "  </thead>\n",
       "  <tbody>\n",
       "    <tr>\n",
       "      <th>count</th>\n",
       "      <td>6.000000</td>\n",
       "      <td>6.000000</td>\n",
       "      <td>6.000000</td>\n",
       "      <td>6.000000</td>\n",
       "      <td>6.000000</td>\n",
       "      <td>6.000000</td>\n",
       "    </tr>\n",
       "    <tr>\n",
       "      <th>mean</th>\n",
       "      <td>15.000000</td>\n",
       "      <td>8.833333</td>\n",
       "      <td>7.500000</td>\n",
       "      <td>7.666667</td>\n",
       "      <td>7.833333</td>\n",
       "      <td>7.958333</td>\n",
       "    </tr>\n",
       "    <tr>\n",
       "      <th>std</th>\n",
       "      <td>0.894427</td>\n",
       "      <td>0.752773</td>\n",
       "      <td>1.048809</td>\n",
       "      <td>1.211060</td>\n",
       "      <td>1.169045</td>\n",
       "      <td>0.620819</td>\n",
       "    </tr>\n",
       "    <tr>\n",
       "      <th>min</th>\n",
       "      <td>14.000000</td>\n",
       "      <td>8.000000</td>\n",
       "      <td>6.000000</td>\n",
       "      <td>6.000000</td>\n",
       "      <td>6.000000</td>\n",
       "      <td>7.000000</td>\n",
       "    </tr>\n",
       "    <tr>\n",
       "      <th>25%</th>\n",
       "      <td>14.250000</td>\n",
       "      <td>8.250000</td>\n",
       "      <td>7.000000</td>\n",
       "      <td>7.000000</td>\n",
       "      <td>7.250000</td>\n",
       "      <td>7.750000</td>\n",
       "    </tr>\n",
       "    <tr>\n",
       "      <th>50%</th>\n",
       "      <td>15.000000</td>\n",
       "      <td>9.000000</td>\n",
       "      <td>7.500000</td>\n",
       "      <td>7.500000</td>\n",
       "      <td>8.000000</td>\n",
       "      <td>7.875000</td>\n",
       "    </tr>\n",
       "    <tr>\n",
       "      <th>75%</th>\n",
       "      <td>15.750000</td>\n",
       "      <td>9.000000</td>\n",
       "      <td>8.000000</td>\n",
       "      <td>8.750000</td>\n",
       "      <td>8.750000</td>\n",
       "      <td>8.375000</td>\n",
       "    </tr>\n",
       "    <tr>\n",
       "      <th>max</th>\n",
       "      <td>16.000000</td>\n",
       "      <td>10.000000</td>\n",
       "      <td>9.000000</td>\n",
       "      <td>9.000000</td>\n",
       "      <td>9.000000</td>\n",
       "      <td>8.750000</td>\n",
       "    </tr>\n",
       "  </tbody>\n",
       "</table>\n",
       "</div>"
      ],
      "text/plain": [
       "          Edades   Ciencias  Matemáticas   Español    Inglés  Nota final\n",
       "count   6.000000   6.000000     6.000000  6.000000  6.000000    6.000000\n",
       "mean   15.000000   8.833333     7.500000  7.666667  7.833333    7.958333\n",
       "std     0.894427   0.752773     1.048809  1.211060  1.169045    0.620819\n",
       "min    14.000000   8.000000     6.000000  6.000000  6.000000    7.000000\n",
       "25%    14.250000   8.250000     7.000000  7.000000  7.250000    7.750000\n",
       "50%    15.000000   9.000000     7.500000  7.500000  8.000000    7.875000\n",
       "75%    15.750000   9.000000     8.000000  8.750000  8.750000    8.375000\n",
       "max    16.000000  10.000000     9.000000  9.000000  9.000000    8.750000"
      ]
     },
     "execution_count": 15,
     "metadata": {},
     "output_type": "execute_result"
    }
   ],
   "source": [
    "data.describe()"
   ]
  },
  {
   "cell_type": "code",
   "execution_count": 25,
   "metadata": {},
   "outputs": [],
   "source": [
    "data['Nombres'] = data.index"
   ]
  },
  {
   "cell_type": "code",
   "execution_count": 22,
   "metadata": {},
   "outputs": [],
   "source": [
    "import matplotlib.pyplot as plt #Libreria más usada para visualización en Python."
   ]
  },
  {
   "cell_type": "code",
   "execution_count": 26,
   "metadata": {},
   "outputs": [
    {
     "data": {
      "text/plain": [
       "<Axes: xlabel='Nombres'>"
      ]
     },
     "execution_count": 26,
     "metadata": {},
     "output_type": "execute_result"
    },
    {
     "data": {
      "image/png": "[encoded data removed]",
      "text/plain": [
       "<Figure size 640x480 with 1 Axes>"
      ]
     },
     "metadata": {},
     "output_type": "display_data"
    }
   ],
   "source": [
    "data.plot(x='Nombres',y='Ciencias',kind='bar')"
   ]
  }
 ],
 "metadata": {
  "kernelspec": {
   "display_name": "python-venv",
   "language": "python",
   "name": "python3"
  },
  "language_info": {
   "codemirror_mode": {
    "name": "ipython",
    "version": 3
   },
   "file_extension": ".py",
   "mimetype": "text/x-python",
   "name": "python",
   "nbconvert_exporter": "python",
   "pygments_lexer": "ipython3",
   "version": "3.11.5"
  },
  "orig_nbformat": 4
 },
 "nbformat": 4,
 "nbformat_minor": 2
}
