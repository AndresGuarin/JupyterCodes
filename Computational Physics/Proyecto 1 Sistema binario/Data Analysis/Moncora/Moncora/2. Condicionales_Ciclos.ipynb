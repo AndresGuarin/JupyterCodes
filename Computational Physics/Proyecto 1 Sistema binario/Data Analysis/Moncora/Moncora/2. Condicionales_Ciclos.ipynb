{
 "cells": [
  {
   "cell_type": "markdown",
   "metadata": {
    "id": "erT19_2Er36k"
   },
   "source": [
    "<table>\n",
    "<table border = 5  align = center bgcolor=\"white\" cellspacing=\"10px\">\n",
    "\n",
    "<tr>\n",
    "<td> <a href=\"https://drive.google.com/file/d/14zqiX7WcBYhtfrQNdHZuGgzHxeBBi4Rb/view?usp=sharing\"> <img alt=\"Colaboratory logo\" width=\"150px\"  src=\"https://miro.medium.com/max/986/1*S2AyJcdw8EPcn7gwDVSBCA.png\" align=\"left\" hspace=\"10px\" vspace=\"0px\" /> </a>  </td>\n",
    "   \n",
    "<td></td>\n",
    "    \n",
    "<td><a href=\"https://mybinder.org/v2/git/https%3A%2F%2Fgitmilab.redclara.net%2FhalleyUIS%2Fmoncora.git/0936d792b8e87847f8624bb906f74cd24badf030?urlpath=lab%2Ftree%2FBook%2FJupyter_Notebooks%2FCondicionales_Ciclos.ipynb\"><img src=\"https://mybinder.org/static/images/logo_social.png\" alt=\"Alternative text\" width=\"150px\"  /></a>\n",
    "</td>\n",
    "\n",
    "</tr>\n",
    "\n",
    "</table>\n",
    "    \n",
    "<br>\n",
    "\n",
    "# <strong>Condicionales y ciclos</strong>\n",
    "\n",
    "## Programando sin barreras II\n",
    "\n"
   ]
  },
  {
   "cell_type": "markdown",
   "metadata": {
    "id": "iq2jBH1P75ht"
   },
   "source": [
    "## Condicionales\n",
    "\n",
    "<blockquote>\n",
    "No te pierdas el vídeo de <a href=\"https://www.youtube.com/watch?v=inN8seMm7UI\">Condicionales & Ciclos</a>.</blockquote>\n",
    "\n",
    "Los condicionales sirven para especualar lo que pueda ocurrir, es decir, para representar una idea si algo llegase a pasar. En programación son muy útiles para poner condiciones de acuerdo al programa que nos gustaría realizar, es decir si algo llegase a pasar que se realice esto otro.\n",
    "\n",
    "Para establecer una condición inicial se necesita de operadores lógicos, estos operadores permiten realizar diferentes comparaciones según la sentancia que deseemos ejecutar, las sentancias condicionales más comunes en python son:\n",
    "\n",
    "- **If** &rarr; significa **si**. Se usa para generar la condición principal.\n",
    "- **Elif**  &rarr;  significa **si no**. Se usa para generar otra condición en caso de que la condición principal o anterior no se cumpla.\n",
    "- **Else**  &rarr; significa (sino). Se usa para generar un resultado emergente en caso de que las condiciones anteriores no se cumplan, la cual se ejecuta como alternativa sin condicional.\n",
    "\n",
    "### <strong>Operadores lógicos</strong>\n",
    "\n",
    "Operador | Descripción | Ejemplo\n",
    "--- | --- | ---\n",
    "`==` | Comparación de igualdad | `a==b`\n",
    "`>`| Comparación de mayor que | `a>b`\n",
    "`<` | Comparación de menor que | `a<b`\n",
    "`!=` | Comparación de diferencia | `a!=b`\n",
    "`&&` | Conjunción copulativa (Y)| `(a==b) .and. (c>d)`\n",
    "`ww` | Conjunción adversativa (O) | `(a==b) .or. (c>d)`\n",
    "\n",
    "<div class=\"alert alert-block alert-info\">\n",
    "<b>Resumen :</b> Los condicionales son decisiones que se establecen de acuerdo a los parámetros que indiquemos para obtener un tipo de resultado deseado.\n",
    "</div>\n"
   ]
  },
  {
   "cell_type": "code",
   "execution_count": 1,
   "metadata": {},
   "outputs": [
    {
     "data": {
      "text/plain": [
       "False"
      ]
     },
     "execution_count": 1,
     "metadata": {},
     "output_type": "execute_result"
    }
   ],
   "source": [
    "# Operador Lógico Igual\n",
    "#El Resultado será False, ya que 5 no es igual a 6\n",
    "\n",
    "a = 5\n",
    "a == 6"
   ]
  },
  {
   "cell_type": "markdown",
   "metadata": {
    "id": "0lsFMpZ-8rTB"
   },
   "source": [
    "\n",
    "---\n",
    "### <strong>If</strong>\n",
    "\n",
    "Para hacer una condición en python se usa el comando <strong>if</strong> acompañado de un operador lógico.\n",
    "\n",
    "```\n",
    "if condición:\n",
    "  #acción si la condición se cumple\n",
    "```\n",
    "\n",
    "<p><img alt=\"Colaboratory logo\" width=\"250px\"  src=\"https://media.geeksforgeeks.org/wp-content/uploads/if-1.jpg\" align=\"center\" hspace=\"10px\" vspace=\"0px\"></p> <br>\n",
    "\n",
    "\n",
    "La condición se evalúa siempre.\n",
    "- Si el resultado es True se ejecuta el bloque de sentencias\n",
    "- Si el resultado es False no se ejecuta el bloque de sentencias.\n",
    "\n",
    "La primera línea contiene la condición a evaluar y es una expresión lógica. Esta línea debe terminar siempre por dos puntos (:).\n",
    "\n",
    "\n",
    "<blockquote>\n",
    "    El espacio o <strong>la indexación</strong> que tiene es necesaria para que al ejecutar el programa se reconozca que esa línea pertenece a la condición if. Para terminar un bloque, basta con volver al principio de la línea. </blockquote>"
   ]
  },
  {
   "cell_type": "code",
   "execution_count": 1,
   "metadata": {
    "colab": {
     "base_uri": "https://localhost:8080/"
    },
    "executionInfo": {
     "elapsed": 6,
     "status": "ok",
     "timestamp": 1624504084108,
     "user": {
      "displayName": "Programando Barreras",
      "photoUrl": "",
      "userId": "14434479729996923763"
     },
     "user_tz": 300
    },
    "id": "fm1ajQvCuzJv",
    "outputId": "212a74f8-6855-4a24-8e89-7458e57ea360"
   },
   "outputs": [
    {
     "name": "stdout",
     "output_type": "stream",
     "text": [
      "5>4\n"
     ]
    }
   ],
   "source": [
    "#ejemplo\n",
    "if 5>4:\n",
    "  print(\"5>4\")"
   ]
  },
  {
   "cell_type": "code",
   "execution_count": 6,
   "metadata": {
    "colab": {
     "base_uri": "https://localhost:8080/"
    },
    "executionInfo": {
     "elapsed": 4322,
     "status": "ok",
     "timestamp": 1624504690094,
     "user": {
      "displayName": "Programando Barreras",
      "photoUrl": "",
      "userId": "14434479729996923763"
     },
     "user_tz": 300
    },
    "id": "emgD1_Sa_RIK",
    "outputId": "72052a10-85b5-41c9-d547-e50ac9f48f24"
   },
   "outputs": [],
   "source": [
    "# ¿Qué pasa si cambias los valores de a y b?\n",
    "a=5\n",
    "b=8\n",
    "\n",
    "#Vamos no seas timido intenta modificar el operador lógico por cualquiera de la tabla\n",
    "# y la acción que deseas que realice\n",
    "if a>b:\n",
    "  print(a,\" es mayor que \",b)"
   ]
  },
  {
   "cell_type": "code",
   "execution_count": null,
   "metadata": {},
   "outputs": [],
   "source": []
  },
  {
   "cell_type": "code",
   "execution_count": null,
   "metadata": {},
   "outputs": [],
   "source": []
  },
  {
   "cell_type": "markdown",
   "metadata": {
    "id": "nnkhO4jJBp7P"
   },
   "source": [
    "### <strong>Elif</strong>\n",
    "\n",
    "El comando <strong>elif</strong> en python también va acompañado de un operador lógico pero a diferencia de comando <strong>if</strong> no puede existir solo, es decir el <strong>elif</strong> se usa como una segunda, tercera, cuartar, ...condición pero nunca se podrá poner como primera condición, por ende siempre habrá un <strong>if</strong> antes de él.\n",
    "\n",
    "```\n",
    "if condicion 1:\n",
    "  #acción si la condición se cumple\n",
    "elif condicion 2:\n",
    "  #acción si la condición se cumple\n",
    "```\n",
    "\n",
    "- Si se cumple la condición 1, se ejecuta el bloque 1\n",
    "- Si no se cumple la condición 1 pero sí que se cumple la condición 2, se ejecuta el bloque 2 \n",
    "\n",
    "<p><img alt=\"Colaboratory logo\" width=\"350px\"  src=\"https://media.geeksforgeeks.org/wp-content/uploads/if-else-if-ladder-4.jpg\" align=\"center\" hspace=\"10px\" vspace=\"0px\"></p> <br>\n",
    "\n",
    "<blockquote>\n",
    "El <strong>elif</strong> se usa para controlar si la condición del <strong>if</strong> no se llega a cumplir pase por una condición más. Se pueden escribir tantos bloques <strong>elif</strong> como sean necesarios. </blockquote>"
   ]
  },
  {
   "cell_type": "code",
   "execution_count": 4,
   "metadata": {
    "colab": {
     "base_uri": "https://localhost:8080/"
    },
    "executionInfo": {
     "elapsed": 265,
     "status": "ok",
     "timestamp": 1624505096194,
     "user": {
      "displayName": "Programando Barreras",
      "photoUrl": "",
      "userId": "14434479729996923763"
     },
     "user_tz": 300
    },
    "id": "2GsnLvJVBtCk",
    "outputId": "ea2c5b47-80c1-4f48-cafc-cce14bb6138e"
   },
   "outputs": [
    {
     "name": "stdout",
     "output_type": "stream",
     "text": [
      "5 > 4\n"
     ]
    }
   ],
   "source": [
    "#Ejemplo\n",
    "\n",
    "if 4>5:\n",
    "  print(\"4 > 5\")\n",
    "elif 5>4:\n",
    "  print(\"5 > 4\")\n",
    "  "
   ]
  },
  {
   "cell_type": "code",
   "execution_count": null,
   "metadata": {
    "colab": {
     "base_uri": "https://localhost:8080/"
    },
    "executionInfo": {
     "elapsed": 5107,
     "status": "ok",
     "timestamp": 1624505200265,
     "user": {
      "displayName": "Programando Barreras",
      "photoUrl": "",
      "userId": "14434479729996923763"
     },
     "user_tz": 300
    },
    "id": "Ka6VBjdcBw7j",
    "outputId": "c6e7084c-0490-4701-e6c9-9e27a445dcc8"
   },
   "outputs": [
    {
     "name": "stdout",
     "output_type": "stream",
     "text": [
      "Ingresa un numero 4\n",
      "Ingresa un numero 5\n",
      "Entonces  5.0  es mayor que  4.0\n"
     ]
    }
   ],
   "source": [
    "# Este es un ejemplo practico\n",
    "a=5\n",
    "b=8\n",
    "\n",
    "if a>b:\n",
    "  print(a,\" es mayor que \",b)\n",
    "elif b>a:\n",
    "  print(\"Entonces \",b,\" es mayor que \",a)"
   ]
  },
  {
   "cell_type": "code",
   "execution_count": null,
   "metadata": {},
   "outputs": [],
   "source": []
  },
  {
   "cell_type": "code",
   "execution_count": null,
   "metadata": {},
   "outputs": [],
   "source": []
  },
  {
   "cell_type": "markdown",
   "metadata": {
    "id": "BqdoUbOKDezj"
   },
   "source": [
    "### <strong>Else</strong>\n",
    "\n",
    "A diferencia de los otros comandos, el comando <strong>else</strong> no necesita operador lógico ni una comparación para funcionar, solo es necesario que antes de el se haya ejecutado una sentencia <strong>if</strong>.\n",
    "\n",
    "```\n",
    "if condición:\n",
    "  #acción si la condición se cumple\n",
    "else:\n",
    "  #la acción si no se cumple el if\n",
    "```\n",
    "\n",
    "<p><img alt=\"Colaboratory logo\" width=\"250px\"  src=\"https://media.geeksforgeeks.org/wp-content/uploads/if-else-2-1.jpg\" align=\"center\" hspace=\"10px\" vspace=\"0px\"></p> <br>\n",
    "\n",
    "\n",
    "\n",
    "\n",
    "El <strong>else</strong> también se puede ejecutar existiendo un <strong>elif</strong> solo ser cuidadosos de poner <strong>else</strong> de último.\n",
    "```\n",
    "if condicion 1:\n",
    "  #acción si la condición se cumple\n",
    "elif condicion 2:\n",
    "  #la acción si no se cumple el if\n",
    "else:\n",
    "  #la acción si no se cumple el if y elif\n",
    "```\n",
    "\n",
    "El <strong>else</strong> se usa para controlar si la condición del <strong>if</strong> o <strong>elif</strong> no se llega a cumplir."
   ]
  },
  {
   "cell_type": "code",
   "execution_count": 5,
   "metadata": {
    "colab": {
     "base_uri": "https://localhost:8080/"
    },
    "executionInfo": {
     "elapsed": 240,
     "status": "ok",
     "timestamp": 1624507098606,
     "user": {
      "displayName": "Programando Barreras",
      "photoUrl": "",
      "userId": "14434479729996923763"
     },
     "user_tz": 300
    },
    "id": "UrYXA5AUKqvi",
    "outputId": "8cbc4e3e-f370-47de-dec0-1c0167c8c31b"
   },
   "outputs": [
    {
     "name": "stdout",
     "output_type": "stream",
     "text": [
      "4 no es mayor que 5\n"
     ]
    }
   ],
   "source": [
    "#Ejemplo\n",
    "if 4>5:\n",
    "  print(\"4 > 5\")\n",
    "else:\n",
    "  print(\"4 no es mayor que 5\")\n",
    "  "
   ]
  },
  {
   "cell_type": "code",
   "execution_count": null,
   "metadata": {
    "colab": {
     "base_uri": "https://localhost:8080/"
    },
    "executionInfo": {
     "elapsed": 4023,
     "status": "ok",
     "timestamp": 1624507173412,
     "user": {
      "displayName": "Programando Barreras",
      "photoUrl": "",
      "userId": "14434479729996923763"
     },
     "user_tz": 300
    },
    "id": "FasZl6QuKyJM",
    "outputId": "d37227b5-08c1-47a9-a7e7-e354de66466f"
   },
   "outputs": [
    {
     "name": "stdout",
     "output_type": "stream",
     "text": [
      "Ingresa un numero 4\n",
      "Ingresa un numero 5\n",
      "4.0  no es mayor que  5.0\n"
     ]
    }
   ],
   "source": [
    "# Este es un ejemplo practico. Inteta cambiar los valores de a y b\n",
    "a=10\n",
    "b=5\n",
    "\n",
    "if a>b:\n",
    "  print(a,\" es mayor que \",b)\n",
    "else:\n",
    "  print(a,\" no es mayor que \",b)"
   ]
  },
  {
   "cell_type": "code",
   "execution_count": 7,
   "metadata": {},
   "outputs": [
    {
     "name": "stdout",
     "output_type": "stream",
     "text": [
      " Usted es mayor de edad\n"
     ]
    }
   ],
   "source": [
    "# Ejemplo: Edades.\n",
    "\n",
    "edad = 18 # Pon aqui tu edad\n",
    "\n",
    "if edad < 17:\n",
    "    print(\"Usted es menor de edad\")\n",
    "elif edad > 17:\n",
    "    print(\" Usted es mayor de edad\")\n",
    "else:\n",
    "    print(\"Error\")\n"
   ]
  },
  {
   "cell_type": "markdown",
   "metadata": {},
   "source": [
    "\n",
    "<div class=\"alert alert-block alert-danger\">\n",
    "<b>Nota :</b> El orden de las sentencias importa. Mira el siguiente ejemplo. ¿Por qué no se ejecuta la tercera condición?\n",
    "</div>\n",
    "\n"
   ]
  },
  {
   "cell_type": "code",
   "execution_count": null,
   "metadata": {},
   "outputs": [],
   "source": [
    "x = 15\n",
    "\n",
    "if x > 10:\n",
    "    print(\" x es mayor que 10!\")\n",
    "elif x < 10:\n",
    "      print(\"x es menor que 10!\")\n",
    "elif x < 20 :\n",
    "      print(\"x es menor que 20!\")\n",
    "else:\n",
    "     print(\"x es igual a 10\")"
   ]
  },
  {
   "cell_type": "markdown",
   "metadata": {},
   "source": [
    "<img width=\"150px\"  src=\"https://raw.githubusercontent.com/AndresGuarin/Images/main/moncora_ejercicios_cartel.png\" align=\"center\">\n",
    "\n",
    "---"
   ]
  },
  {
   "cell_type": "markdown",
   "metadata": {},
   "source": [
    "**1.** Escriba un programa que acepte un número y si es par escriba el cuadrado del número pero si es impar escriba el cubo de número. "
   ]
  },
  {
   "cell_type": "code",
   "execution_count": null,
   "metadata": {},
   "outputs": [],
   "source": []
  },
  {
   "cell_type": "markdown",
   "metadata": {},
   "source": [
    "**2.** Escriba un programa acepte la opción de dos jugadoras en Piedra-Papel-Tijera y decida el resultado.\n",
    "```\n",
    "Entrada: person1=piedra; person2=papel\n",
    "Salida: Gana persona2: El papel envuelve a la piedra\n",
    "```\n"
   ]
  },
  {
   "cell_type": "code",
   "execution_count": null,
   "metadata": {},
   "outputs": [],
   "source": []
  },
  {
   "cell_type": "markdown",
   "metadata": {},
   "source": [
    "**3.** Escriba un programa que acepte 3 números y calcule el mínimo.\n",
    "```\n",
    "Entrada: 7, 4, 9\n",
    "Salida: 4\n",
    "```\n",
    "\n",
    "\n"
   ]
  },
  {
   "cell_type": "code",
   "execution_count": null,
   "metadata": {},
   "outputs": [],
   "source": []
  },
  {
   "cell_type": "markdown",
   "metadata": {},
   "source": [
    "**4.** Escriba un programa que acepte 3 números y los imprima en orden ascendente. "
   ]
  },
  {
   "cell_type": "code",
   "execution_count": null,
   "metadata": {},
   "outputs": [],
   "source": []
  },
  {
   "cell_type": "markdown",
   "metadata": {
    "id": "hv47PkxGLRae"
   },
   "source": [
    "---\n",
    "\n",
    "## <strong>Ciclos</strong>\n",
    "\n",
    "Los ciclos en programación son de suma importancia ya que nos ayudan a realizar tareas repetitivas o tareas que no sepamos cuando terminarán.  Hay dos tipos de ciclos <strong>for</strong> y <strong>while</strong>.\n",
    "\n"
   ]
  },
  {
   "cell_type": "markdown",
   "metadata": {
    "id": "zQJgk53rWL1J"
   },
   "source": [
    "### <strong>For</strong>\n",
    "\n",
    "El ciclo <strong>for</strong> tiene un criterio de inicio, de incremento y uno de parada. Si no se especifica el criterio incremento este aumentara unidad por unidad.\n",
    "<blockquote>\n",
    "    Con <b> for </b> es necesario inicializar una variable, lo común en programación es llamar a esta variable siempre  <strong>i</strong>.\n",
    "  </blockquote>\n",
    "   \n",
    "La estructura del <strong>for</strong> en python es la siguiente:\n",
    "```\n",
    "for i in range(10):\n",
    "  print(i)\n",
    "```\n",
    "La variable <strong>i</strong> se inicializa, seguido de este se pone la palabra <strong>in</strong> la cual indicará donde queremos que nuestra variable <strong>i</strong> recorrá, es decir podemos recorrer una lista o lo que se nos ocurra, la palabra <strong>range</strong> nos crea un rango hasta el número anterior que se ponga en parantesis, en este caso hasta el 9, por ende la variable <strong>i</strong> va a recorrer todo el rango desde 0 hasta el 9."
   ]
  },
  {
   "cell_type": "code",
   "execution_count": null,
   "metadata": {
    "colab": {
     "base_uri": "https://localhost:8080/"
    },
    "executionInfo": {
     "elapsed": 234,
     "status": "ok",
     "timestamp": 1624511455823,
     "user": {
      "displayName": "Programando Barreras",
      "photoUrl": "",
      "userId": "14434479729996923763"
     },
     "user_tz": 300
    },
    "id": "br0jykUEbXP8",
    "outputId": "af2ef7a4-4f6c-4cf0-c33a-60ca601cc8b7"
   },
   "outputs": [
    {
     "name": "stdout",
     "output_type": "stream",
     "text": [
      "0\n",
      "1\n",
      "2\n",
      "3\n",
      "4\n",
      "5\n",
      "6\n",
      "7\n",
      "8\n",
      "9\n"
     ]
    }
   ],
   "source": [
    "#El ciclo parte desde el #0 hasta el #9\n",
    "for i in range(10):\n",
    "  print(i)"
   ]
  },
  {
   "cell_type": "code",
   "execution_count": null,
   "metadata": {
    "colab": {
     "base_uri": "https://localhost:8080/"
    },
    "executionInfo": {
     "elapsed": 15,
     "status": "ok",
     "timestamp": 1624544394943,
     "user": {
      "displayName": "Programando Barreras",
      "photoUrl": "",
      "userId": "14434479729996923763"
     },
     "user_tz": 300
    },
    "id": "bcag5955WHZK",
    "outputId": "2406fd28-8135-4f69-cdbc-c1347688a71f"
   },
   "outputs": [
    {
     "name": "stdout",
     "output_type": "stream",
     "text": [
      "1\n",
      "3\n",
      "5\n",
      "7\n",
      "9\n"
     ]
    }
   ],
   "source": [
    "#Este ciclo for va desde el #1 hasta el #9 pero aumenta de dos en dos\n",
    "for i in range(1,10,2):\n",
    "  print(i)"
   ]
  },
  {
   "cell_type": "code",
   "execution_count": null,
   "metadata": {
    "colab": {
     "base_uri": "https://localhost:8080/"
    },
    "executionInfo": {
     "elapsed": 234,
     "status": "ok",
     "timestamp": 1624545411930,
     "user": {
      "displayName": "Programando Barreras",
      "photoUrl": "",
      "userId": "14434479729996923763"
     },
     "user_tz": 300
    },
    "id": "5GTxPzLyaUPL",
    "outputId": "3ae6e988-a97f-4e19-b51c-8e1eea48ca1a"
   },
   "outputs": [
    {
     "name": "stdout",
     "output_type": "stream",
     "text": [
      "Python\n",
      "SQL\n",
      "Javascript\n",
      "Matlab\n"
     ]
    }
   ],
   "source": [
    "#Este ciclo for recorre una lista\n",
    "lenguajes=[\"Python\",\"SQL\",\"Javascript\",\"Matlab\"]\n",
    "for i in lenguajes:\n",
    "  print(i)"
   ]
  },
  {
   "cell_type": "code",
   "execution_count": null,
   "metadata": {},
   "outputs": [],
   "source": []
  },
  {
   "cell_type": "code",
   "execution_count": null,
   "metadata": {},
   "outputs": [],
   "source": []
  },
  {
   "cell_type": "markdown",
   "metadata": {
    "id": "kmphwLCYdB0e"
   },
   "source": [
    "### <strong>While</strong>\n",
    "\n",
    "El ciclo <strong>while</strong> se ejecuta por medio de una condición, es decir podemos hacer uso de operadores lógicos para evaluar la condición, el ciclo <strong>while</strong> cumple con la siguiente estructura:\n",
    "```\n",
    "while x>y:\n",
    "  print(x,\" es mayor que \",y)\n",
    "  x=x-1\n",
    "```\n",
    "Supongamos que x y y son nuestras variables a comparar, en el caso que x sea myor que y este entrará en el bucle e imprimirá la siguiente línea, y le restará una unidad a x, y volverá hacer la comparación entre x y y, cuando x alcance un valor menor que y, la condición no se cumplirá saldrá de nuestro ciclo <strong>while</strong>."
   ]
  },
  {
   "cell_type": "code",
   "execution_count": 6,
   "metadata": {
    "colab": {
     "base_uri": "https://localhost:8080/"
    },
    "executionInfo": {
     "elapsed": 220,
     "status": "ok",
     "timestamp": 1624547999312,
     "user": {
      "displayName": "Programando Barreras",
      "photoUrl": "",
      "userId": "14434479729996923763"
     },
     "user_tz": 300
    },
    "id": "c1WbyFcQmkcf",
    "outputId": "8e09732e-e933-44fd-c2c0-d54bd85b197d"
   },
   "outputs": [
    {
     "name": "stdout",
     "output_type": "stream",
     "text": [
      "10  es mayor que  5\n",
      "9  es mayor que  5\n",
      "8  es mayor que  5\n",
      "7  es mayor que  5\n",
      "6  es mayor que  5\n",
      "Sale del ciclo\n"
     ]
    }
   ],
   "source": [
    "x=10\n",
    "y=5\n",
    "while x>y:\n",
    "  print(x,\" es mayor que \",y)\n",
    "  x=x-1\n",
    "print(\"Sale del ciclo\")"
   ]
  },
  {
   "cell_type": "code",
   "execution_count": null,
   "metadata": {},
   "outputs": [],
   "source": []
  },
  {
   "cell_type": "markdown",
   "metadata": {
    "id": "AnpAWY5dnUxx"
   },
   "source": [
    "\n",
    "\n",
    "<div class=\"alert alert-block alert-warning\">  \n",
    "<b>Nota:</b> El comando <strong>break</strong> nos ayuda a parar un ciclo si una condición se cumple, es decir no tendrá obligatoriamente que recorrer todo el ciclo si no hasta que nosotros deseemos según la condición que le impongamos.\n",
    "\n",
    "</div>\n",
    "\n"
   ]
  },
  {
   "cell_type": "code",
   "execution_count": 8,
   "metadata": {
    "colab": {
     "base_uri": "https://localhost:8080/"
    },
    "executionInfo": {
     "elapsed": 333,
     "status": "ok",
     "timestamp": 1624549043604,
     "user": {
      "displayName": "Programando Barreras",
      "photoUrl": "",
      "userId": "14434479729996923763"
     },
     "user_tz": 300
    },
    "id": "c3XHtPsVnTTI",
    "outputId": "7529ecaf-d8c6-4836-9683-e04f38a2800a"
   },
   "outputs": [
    {
     "name": "stdout",
     "output_type": "stream",
     "text": [
      "0\n",
      "9\n",
      "18\n",
      "27\n",
      "36\n",
      "45\n"
     ]
    }
   ],
   "source": [
    "#Es ciclo hace la tabla del 9 hasta el valor 45\n",
    "for i in range(10):\n",
    "  print(9*i)\n",
    "  if 9*i==45:\n",
    "    break"
   ]
  },
  {
   "cell_type": "code",
   "execution_count": 9,
   "metadata": {
    "colab": {
     "base_uri": "https://localhost:8080/"
    },
    "executionInfo": {
     "elapsed": 231,
     "status": "ok",
     "timestamp": 1624549090644,
     "user": {
      "displayName": "Programando Barreras",
      "photoUrl": "",
      "userId": "14434479729996923763"
     },
     "user_tz": 300
    },
    "id": "KyXabJwonI_X",
    "outputId": "f1de626e-f39e-45ec-d9f0-8a8d4ffdf65f"
   },
   "outputs": [
    {
     "name": "stdout",
     "output_type": "stream",
     "text": [
      "10  es mayor que  5\n",
      "9  es mayor que  5\n",
      "8  es mayor que  5\n",
      "Sale del ciclo\n"
     ]
    }
   ],
   "source": [
    "#Este ciclo se realiza hasta que x se convierte en 7\n",
    "x=10\n",
    "y=5\n",
    "while x>y:\n",
    "  print(x,\" es mayor que \",y)\n",
    "  x=x-1\n",
    "  if x==7:\n",
    "    break\n",
    "print(\"Sale del ciclo\")"
   ]
  },
  {
   "cell_type": "code",
   "execution_count": null,
   "metadata": {},
   "outputs": [],
   "source": []
  },
  {
   "cell_type": "markdown",
   "metadata": {
    "id": "2roJ1M5xrEUf"
   },
   "source": [
    "<img width=\"150px\"  src=\"https://raw.githubusercontent.com/AndresGuarin/Images/main/moncora_ejercicios_cartel.png\" align=\"center\">\n",
    "\n",
    "---\n"
   ]
  },
  {
   "cell_type": "markdown",
   "metadata": {},
   "source": [
    "<div class=\"alert alert-block alert-warning\">  \n",
    "<b>Serie de Fibonacci:</b> Se trata de una secuencia infinita de números naturales; a partir del 0 y el 1, se van sumando a pares, de manera que cada número es igual a la suma de sus dos anteriores, de manera que:\n",
    "\n",
    "> 0, 1, 1, 2, 3, 5, 8, 13, 21, 34, 55…\n",
    "\n",
    "\n",
    "</div>\n",
    "\n",
    "\n",
    "\n",
    "**1.** Mostrar los primeros 10 terminos de la serie de fibonacci, recordar que la formula para la serie es:\n",
    "```\n",
    "f(n)=f(n-1)+f(n-2)\n",
    "```"
   ]
  },
  {
   "cell_type": "code",
   "execution_count": null,
   "metadata": {},
   "outputs": [],
   "source": []
  },
  {
   "cell_type": "markdown",
   "metadata": {},
   "source": [
    "**2.** ¿Cuántos números entre 1 y 100 son divisibles por 7? \n",
    "\n"
   ]
  },
  {
   "cell_type": "code",
   "execution_count": null,
   "metadata": {},
   "outputs": [],
   "source": []
  },
  {
   "cell_type": "markdown",
   "metadata": {},
   "source": [
    "**3.**  Escriba un prgrama que chequee si un número es primo o no. "
   ]
  },
  {
   "cell_type": "code",
   "execution_count": null,
   "metadata": {},
   "outputs": [],
   "source": []
  },
  {
   "cell_type": "markdown",
   "metadata": {},
   "source": [
    "**4.** Usa Python para verificar la siguiente afirmación para algunos números individuales.\n",
    "\n",
    "<div class=\"alert alert-block alert-warning\">  \n",
    " En 1937, un matemático alemán llamado Lothar Collatz formuló una hipótesis intrigante (aún no se ha comprobado) que se puede describir de la siguiente manera:\n",
    "\n",
    "   1. toma cualquier número entero que no sea negativo y que no sea cero y asígnale el nombre ```c0```;\n",
    "   2. si es par, evalúa un nuevo ```c0``` como ```c0 ÷ 2```;\n",
    "   3. de lo contrario, si es impar, evalúe un nuevo  ```c0``` como  ```3 × c0 + 1 ```;\n",
    "   4. si  ```c0 ≠ 1 ```, salta al punto 2.\n",
    "    \n",
    "La hipótesis dice que, independientemente del valor inicial de  ```c0 ```, el valor siempre tiende a 1.\n",
    "    \n",
    "</div>\n",
    "\n",
    "\n",
    "\n",
    "\n"
   ]
  },
  {
   "cell_type": "code",
   "execution_count": null,
   "metadata": {},
   "outputs": [],
   "source": []
  }
 ],
 "metadata": {
  "colab": {
   "authorship_tag": "ABX9TyOSPQKT3NYSBpoXbSQDugzP",
   "name": "Condicionales&Ciclos.ipynb",
   "provenance": []
  },
  "kernelspec": {
   "display_name": "Python 3",
   "language": "python",
   "name": "python3"
  },
  "language_info": {
   "codemirror_mode": {
    "name": "ipython",
    "version": 3
   },
   "file_extension": ".py",
   "mimetype": "text/x-python",
   "name": "python",
   "nbconvert_exporter": "python",
   "pygments_lexer": "ipython3",
   "version": "3.8.2"
  }
 },
 "nbformat": 4,
 "nbformat_minor": 4
}
