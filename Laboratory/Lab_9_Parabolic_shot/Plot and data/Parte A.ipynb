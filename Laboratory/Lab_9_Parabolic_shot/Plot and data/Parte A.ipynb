{
 "cells": [
  {
   "cell_type": "markdown",
   "id": "959db9d7",
   "metadata": {},
   "source": [
    "# Movimiento de un proyectil"
   ]
  },
  {
   "cell_type": "markdown",
   "id": "24338352",
   "metadata": {},
   "source": [
    "Autores: Juan Andrés Guarín, Angelica Angarita, Andrés Giovani Ferreira. \\\n",
    "Códigos: 2201870, 2200801, 2201764."
   ]
  },
  {
   "cell_type": "markdown",
   "id": "28f09d76",
   "metadata": {},
   "source": [
    "Este código se estructura de la siguiente manera:\n",
    "    \n",
    "1. Importación de librerias.\n",
    "2. Guardando datos.\n",
    "3. Determinación velocidad inicial.\n",
    "4. Definiendo la función de ajuste.\n",
    "5. Creando datos teóricos.\n",
    "6. Grafica de datos."
   ]
  },
  {
   "cell_type": "markdown",
   "id": "77078d1a",
   "metadata": {},
   "source": [
    "## 1. Importación de librerias"
   ]
  },
  {
   "cell_type": "code",
   "execution_count": 1,
   "id": "4d9b81c4",
   "metadata": {},
   "outputs": [],
   "source": [
    "import numpy as np\n",
    "import pandas as pd\n",
    "import matplotlib.pyplot as plt\n",
    "from scipy.optimize import curve_fit"
   ]
  },
  {
   "cell_type": "markdown",
   "id": "66e05dec",
   "metadata": {},
   "source": [
    "## 2. Guardando datos"
   ]
  },
  {
   "cell_type": "code",
   "execution_count": 2,
   "id": "91960abf",
   "metadata": {
    "scrolled": true
   },
   "outputs": [],
   "source": [
    "data = pd.read_csv('Data_Movement_averages.csv', delimiter=',')\n",
    "\n",
    "# Datos de la tabla\n",
    "\n",
    "x = data['x [m]']\n",
    "y = data['y [m]']\n",
    "sigmay = data['sigmay [m]']\n",
    "\n",
    "# Incertidumbres\n",
    "\n",
    "dx = 0.001*np.ones(len(x))\n",
    "\n",
    "# Seleccionamos el mayor valor entre la incertidumbre del instrumento\n",
    "# y la desviación estándar de las 5 mediciones\n",
    "dy = [max(sigmay[i], 0.001) for i in range(len(y))]"
   ]
  },
  {
   "cell_type": "code",
   "execution_count": 3,
   "id": "7b2535f3",
   "metadata": {},
   "outputs": [
    {
     "data": {
      "text/html": [
       "<div>\n",
       "<style scoped>\n",
       "    .dataframe tbody tr th:only-of-type {\n",
       "        vertical-align: middle;\n",
       "    }\n",
       "\n",
       "    .dataframe tbody tr th {\n",
       "        vertical-align: top;\n",
       "    }\n",
       "\n",
       "    .dataframe thead th {\n",
       "        text-align: right;\n",
       "    }\n",
       "</style>\n",
       "<table border=\"1\" class=\"dataframe\">\n",
       "  <thead>\n",
       "    <tr style=\"text-align: right;\">\n",
       "      <th></th>\n",
       "      <th>x [m]</th>\n",
       "      <th>y [m]</th>\n",
       "      <th>sigmay [m]</th>\n",
       "    </tr>\n",
       "  </thead>\n",
       "  <tbody>\n",
       "    <tr>\n",
       "      <th>0</th>\n",
       "      <td>0.24</td>\n",
       "      <td>0.5020</td>\n",
       "      <td>0.000894</td>\n",
       "    </tr>\n",
       "    <tr>\n",
       "      <th>1</th>\n",
       "      <td>0.34</td>\n",
       "      <td>0.4762</td>\n",
       "      <td>0.000748</td>\n",
       "    </tr>\n",
       "    <tr>\n",
       "      <th>2</th>\n",
       "      <td>0.44</td>\n",
       "      <td>0.4418</td>\n",
       "      <td>0.001170</td>\n",
       "    </tr>\n",
       "    <tr>\n",
       "      <th>3</th>\n",
       "      <td>0.54</td>\n",
       "      <td>0.3874</td>\n",
       "      <td>0.001020</td>\n",
       "    </tr>\n",
       "    <tr>\n",
       "      <th>4</th>\n",
       "      <td>0.64</td>\n",
       "      <td>0.3328</td>\n",
       "      <td>0.000748</td>\n",
       "    </tr>\n",
       "  </tbody>\n",
       "</table>\n",
       "</div>"
      ],
      "text/plain": [
       "   x [m]   y [m]  sigmay [m]\n",
       "0   0.24  0.5020    0.000894\n",
       "1   0.34  0.4762    0.000748\n",
       "2   0.44  0.4418    0.001170\n",
       "3   0.54  0.3874    0.001020\n",
       "4   0.64  0.3328    0.000748"
      ]
     },
     "execution_count": 3,
     "metadata": {},
     "output_type": "execute_result"
    }
   ],
   "source": [
    "# Visualizando datos\n",
    "data"
   ]
  },
  {
   "cell_type": "markdown",
   "id": "aafcc801",
   "metadata": {},
   "source": [
    "## 3. Determinación velocidad inicial"
   ]
  },
  {
   "cell_type": "code",
   "execution_count": 4,
   "id": "b870d63d",
   "metadata": {
    "scrolled": true
   },
   "outputs": [
    {
     "name": "stdout",
     "output_type": "stream",
     "text": [
      "El valor de velocidad fue: v0 = 3.17 ± 0.04 m/s,\n",
      "con un coeficiente de pearson de: 1.11 %.\n"
     ]
    }
   ],
   "source": [
    "# Función\n",
    "def func1(x, m, b):\n",
    "    y = m * x + b\n",
    "    return y\n",
    "\n",
    "# Parametros y covarianza\n",
    "params, covarianza = curve_fit(func1, x**2, y)\n",
    "covarianza = np.sqrt(np.diag(covarianza))\n",
    "\n",
    "# Calculo velocidad inicial teórica y su desviación estándar\n",
    "vteorico= np.sqrt(9.8 / (2 * abs(params[0])))\n",
    "dv = covarianza[0]*np.sqrt(9.8 / (8 * abs(params[0]**3)))\n",
    "coefpearson = dv/vteorico*100\n",
    "\n",
    "# Se comenta en pantalla\n",
    "print('El valor de velocidad fue: v0 = %.2f ± %.2f m/s,'%(vteorico, dv))\n",
    "print('con un coeficiente de pearson de: %.2f'%(coefpearson), '%.')"
   ]
  },
  {
   "cell_type": "markdown",
   "id": "de4f7d1b",
   "metadata": {},
   "source": [
    "## 4. Definiendo la función de ajuste"
   ]
  },
  {
   "cell_type": "code",
   "execution_count": 5,
   "id": "ec76e55e",
   "metadata": {},
   "outputs": [
    {
     "name": "stdout",
     "output_type": "stream",
     "text": [
      "El valor de velocidad del ajuste de y vs x fue: v0 = 2.97 ± 0.23 m/s,\n",
      "con un coeficiente de pearson de: 7.81 %.\n"
     ]
    }
   ],
   "source": [
    "def func2(x, a, b, c):\n",
    "    y = a * x**2 + b * x + c\n",
    "    return y\n",
    "\n",
    "# Parametros y covarianza\n",
    "params2, covarianza2 = curve_fit(func2, x, y)\n",
    "covarianza2 = np.sqrt(np.diag(covarianza2))\n",
    "\n",
    "# Calculo velocidad inicial, su desviación estándar, theta0, y0\n",
    "v0 = np.sqrt(9.8 / (2 * abs(params2[0])))\n",
    "theta0 = np.arctan(params2[1])\n",
    "y0=params2[2]\n",
    "dv2 = covarianza2[0]*np.sqrt(9.8 / (8 * abs(params2[0]**3)))\n",
    "coefpearson2 = dv2/v0*100 \n",
    "\n",
    "# Se crean los datos de ajuste\n",
    "xajuste = np.linspace(0, 0.7, 200)\n",
    "yajuste = func2(xajuste, *params2)\n",
    "\n",
    "# Se comenta en pantalla\n",
    "print('El valor de velocidad del ajuste de y vs x fue: v0 = %.2f ± %.2f m/s,'%(v0, dv2))\n",
    "print('con un coeficiente de pearson de: %.2f'%(coefpearson2), '%.')"
   ]
  },
  {
   "cell_type": "markdown",
   "id": "4aea4455",
   "metadata": {},
   "source": [
    "## 5. Creando datos teóricos"
   ]
  },
  {
   "cell_type": "code",
   "execution_count": 6,
   "id": "f4642517",
   "metadata": {},
   "outputs": [],
   "source": [
    "def func(x, v0, theta0):\n",
    "    g=9.8\n",
    "    y0 = 0.517\n",
    "    y = -g*x**2/(2*v0**2)+ np.tan(theta0)*x + y0 \n",
    "    return y\n",
    "\n",
    "xteoricos = np.linspace(0, 0.7, 200)\n",
    "yteoricos = func(xteoricos, vteorico, 0)"
   ]
  },
  {
   "cell_type": "markdown",
   "id": "af408338",
   "metadata": {},
   "source": [
    "## 6. Grafica de datos"
   ]
  },
  {
   "cell_type": "code",
   "execution_count": 7,
   "id": "6cc422b5",
   "metadata": {
    "scrolled": true
   },
   "outputs": [
    {
     "data": {
      "image/png": "[encoded data removed]",
      "text/plain": [
       "<Figure size 612x360 with 1 Axes>"
      ]
     },
     "metadata": {
      "needs_background": "light"
     },
     "output_type": "display_data"
    }
   ],
   "source": [
    "# Grafica de y vs x^2\n",
    "\n",
    "## Creando datos\n",
    "x1=np.linspace(0,0.45,100)\n",
    "y1=func1(x1, *params)\n",
    "\n",
    "## Graficando\n",
    "plt.figure(figsize=(8.5, 5))\n",
    "plt.plot(x**2, y, 'o', color='red', label='Datos')\n",
    "plt.plot(x1, y1,'-b',label='Ajuste: $y = %.2fx^2 + %.3f$'%(-0.48667681,  0.53199417))\n",
    "\n",
    "\n",
    "#Ponemos un título y ajustamos el tamaño y pocisión de la leyenda\n",
    "plt.title(r'Posición de $Y$ vs $X^2$', fontsize = 18)\n",
    "plt.legend(title= 'Datos', fontsize = 12)\n",
    "\n",
    "#Agregamos un nombre y tamño de letra a las etiquetas de los ejes\n",
    "plt.ylabel('$y$ [$m$]', fontsize = 14)\n",
    "plt.xlabel('$x^2$ [$m^2$]', fontsize = 14)\n",
    "\n",
    "#Modificamos el tamaño de los valores en los ejes\n",
    "plt.xticks(size = 14)\n",
    "plt.yticks(size = 14)\n",
    "\n",
    "plt.annotate(r'$R^2=-0.9993$', xy=(0.05,0.42),  xycoords='data', xytext=(+5, +5), textcoords='offset points', \n",
    "            fontsize=14)\n",
    "\n",
    "plt.savefig('y_versus_x^2.png', format='png') #Se guarda la figura en el computador\n",
    "plt.show() #mostramos todo lo que graficamos"
   ]
  },
  {
   "cell_type": "code",
   "execution_count": 8,
   "id": "45cbc939",
   "metadata": {},
   "outputs": [
    {
     "name": "stdout",
     "output_type": "stream",
     "text": [
      "R^2 =  -0.9992650842238612\n"
     ]
    }
   ],
   "source": [
    "# Coeficiente de correlación R^2\n",
    "\n",
    "R2 = np.corrcoef(x**2,y)[0,1]\n",
    "print('R^2 = ',R2)"
   ]
  },
  {
   "cell_type": "code",
   "execution_count": 9,
   "id": "412132b3",
   "metadata": {
    "scrolled": false
   },
   "outputs": [
    {
     "data": {
      "image/png": "[encoded data removed]",
      "text/plain": [
       "<Figure size 612x360 with 1 Axes>"
      ]
     },
     "metadata": {
      "needs_background": "light"
     },
     "output_type": "display_data"
    }
   ],
   "source": [
    "# Grafica de y vs x\n",
    "\n",
    "plt.figure(figsize=(8.5, 5))\n",
    "plt.errorbar(x, y, xerr= dx, yerr=dy, fmt='o', color='#FF8000', markersize=5, \n",
    "             capsize=4, ecolor = '#FF8000', label='Experimentales')\n",
    "\n",
    "\n",
    "plt.plot(xajuste, yajuste,'-b',label='Ajuste: $y = %.2fx^2 + %.2fx + %.3f$'%(-0.55428565,  0.06057137,  0.51978401))\n",
    "plt.plot(xteoricos, yteoricos,'-r',label='Curva teórica $y = %.2fx^2 + %.3f$'%(-9.8/(2*vteorico**2), 0.517))\n",
    "\n",
    "\n",
    "#Ponemos un título y ajustamos el tamaño y pocisión de la leyenda\n",
    "plt.title('Posición de Y vs X', fontsize = 18)\n",
    "plt.legend(title= 'Datos', fontsize = 12)\n",
    "\n",
    "#Agregamos un nombre y tamño de letra a las etiquetas de los ejes\n",
    "plt.ylabel('$y$ [$m$]', fontsize = 14)\n",
    "plt.xlabel('$x$ [$m$]', fontsize = 14)\n",
    "\n",
    "#Modificamos el tamaño de los valores en los ejes\n",
    "plt.xticks(size = 14)\n",
    "plt.yticks(size = 14)\n",
    "\n",
    "plt.savefig('y_versus_x.png', format='png') #Se guarda la figura en el computador\n",
    "plt.show() #mostramos todo lo que graficamos"
   ]
  },
  {
   "cell_type": "code",
   "execution_count": null,
   "id": "5032381d",
   "metadata": {},
   "outputs": [],
   "source": []
  }
 ],
 "metadata": {
  "kernelspec": {
   "display_name": "Python 3 (ipykernel)",
   "language": "python",
   "name": "python3"
  },
  "language_info": {
   "codemirror_mode": {
    "name": "ipython",
    "version": 3
   },
   "file_extension": ".py",
   "mimetype": "text/x-python",
   "name": "python",
   "nbconvert_exporter": "python",
   "pygments_lexer": "ipython3",
   "version": "3.9.6"
  }
 },
 "nbformat": 4,
 "nbformat_minor": 5
}
