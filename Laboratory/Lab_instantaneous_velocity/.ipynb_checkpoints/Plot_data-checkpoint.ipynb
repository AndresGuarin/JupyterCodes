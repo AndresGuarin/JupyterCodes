{
 "cells": [
  {
   "cell_type": "markdown",
   "metadata": {},
   "source": [
    "# Plot data"
   ]
  },
  {
   "cell_type": "markdown",
   "metadata": {},
   "source": [
    "Autors: Juan Guarín, Angelica Angarita, Andrés Ferreira \\\n",
    "Codes: 2201870, 2200801, 2201764"
   ]
  },
  {
   "cell_type": "markdown",
   "metadata": {},
   "source": [
    "### Average velocity\n",
    "\n",
    "The instantaneous velocity is the derivate of the position in time and can be approximated to the average velocity when $\\Delta t \\to 0$. The average velocity is the change in position divided by the change in time.\n",
    "\n",
    "This code plots the data obtained from the lab practice of the average velocity. Also, it plots in the same figure the average velocity that was expected according to our theoretical model.\n",
    "\n",
    "It was consider an one dimensional movement in $x$ axis, that had a constant acceleration of $a = g \\sin \\theta$. The initial position were $x_0$ with a velocity $v_i=0$. Then, the ecuations consider in the data for the code were:\n",
    "\n",
    "\\begin{equation}\n",
    "    x(t) = x_0 + g \\sin \\theta \\frac{t^2}{2}\n",
    "\\end{equation}\n",
    "\n",
    "\\begin{equation}\n",
    "    v(t) = g \\sin \\theta t\n",
    "\\end{equation}\n",
    "\n",
    "Solving for $t$ in $x(t)$, we obtained:\n",
    "\n",
    "\\begin{equation}\n",
    "    t(x) = \\sqrt{ \\frac{2(x-x_0)}{g \\sin \\theta} }\n",
    "\\end{equation}\n",
    "\n",
    "Using the expresión $v_m = \\frac{\\Delta x}{\\Delta t}$ and changing $\\Delta t$ by $t(x + \\Delta t /2) - t(x - \\Delta t/2)$ it was find a theoretical equation for the average velocity:\n",
    "\n",
    "\\begin{equation}\n",
    "    v_m = \\frac{\\Delta x}{\\sqrt{ \\frac{2(x + \\Delta x/2-x_0)}{g \\sin \\theta} } - \\sqrt{ \\frac{2(x-\\Delta x/2-x_0)}{g \\sin \\theta} }}\n",
    "\\end{equation}\n",
    "\n",
    "\\begin{equation}\n",
    "    v_m = \\frac{\\Delta x \\sqrt{g \\sin \\theta / 2} }{\\sqrt{x -x_0 + \\Delta x/2} - \\sqrt{ x- x_0 -\\Delta x/2 }}\n",
    "\\end{equation}"
   ]
  },
  {
   "cell_type": "markdown",
   "metadata": {},
   "source": [
    "The structure of this code is the next:\n",
    "\n",
    "* Importing libraries\n",
    "* Reading data\n",
    "* Finding theoretical data\n",
    "* Plotting the data"
   ]
  },
  {
   "cell_type": "markdown",
   "metadata": {},
   "source": [
    "### Importing libraries"
   ]
  },
  {
   "cell_type": "code",
   "execution_count": 2,
   "metadata": {},
   "outputs": [],
   "source": [
    "import numpy as np\n",
    "import matplotlib.pyplot as plt"
   ]
  },
  {
   "cell_type": "markdown",
   "metadata": {},
   "source": [
    "### Reading data"
   ]
  },
  {
   "cell_type": "code",
   "execution_count": 3,
   "metadata": {},
   "outputs": [],
   "source": [
    "data = np.loadtxt('data_vel.txt', skiprows=1)\n",
    "\n",
    "Deltax = data[:,0]\n",
    "dx = np.ones(len(Deltax))*0.2\n",
    "\n",
    "v = data[:,1]\n",
    "dv = data[:,2]"
   ]
  },
  {
   "cell_type": "code",
   "execution_count": 4,
   "metadata": {
    "scrolled": false
   },
   "outputs": [
    {
     "data": {
      "text/plain": [
       "array([40.81114416, 39.07165742, 35.04836675, 47.22327163, 46.69624095,\n",
       "       41.92073171])"
      ]
     },
     "execution_count": 4,
     "metadata": {},
     "output_type": "execute_result"
    }
   ],
   "source": [
    "v"
   ]
  },
  {
   "cell_type": "markdown",
   "metadata": {},
   "source": [
    "### Finding theoretical data"
   ]
  },
  {
   "cell_type": "code",
   "execution_count": 24,
   "metadata": {},
   "outputs": [],
   "source": [
    "# Define the function\n",
    "def average_vel(Deltax):\n",
    "    \"\"\"\n",
    "    @params:\n",
    "        Deltax: float or array\n",
    "        It is the change in position of the object\n",
    "    \n",
    "    @returns:\n",
    "        velocity: float or array\n",
    "        It is the average velocity of the object acording to its\n",
    "        change in position\n",
    "    \"\"\"\n",
    "    \n",
    "    # Parameters of the function:\n",
    "    x = 100\n",
    "    x0 = 50\n",
    "    g = 980\n",
    "    theta = 1.2032998\n",
    "    theta = np.deg2rad(theta)\n",
    "    \n",
    "    num = Deltax * np.sqrt(g * np.sin(theta) / 2)\n",
    "    denom = np.sqrt(x-x0+Deltax/2) - np.sqrt(x-x0-Deltax/2)\n",
    "    velocity = num / denom\n",
    "    \n",
    "    return velocity"
   ]
  },
  {
   "cell_type": "code",
   "execution_count": 25,
   "metadata": {},
   "outputs": [],
   "source": [
    "# Creating the data\n",
    "\n",
    "Deltax2 = np.linspace(Deltax[0], Deltax[-1], 250)\n",
    "v2 = average_vel(Deltax2)"
   ]
  },
  {
   "cell_type": "markdown",
   "metadata": {},
   "source": [
    "### Plotting the data "
   ]
  },
  {
   "cell_type": "code",
   "execution_count": 28,
   "metadata": {},
   "outputs": [
    {
     "data": {
      "image/png": "[encoded data removed]",
      "text/plain": [
       "<Figure size 504x360 with 1 Axes>"
      ]
     },
     "metadata": {
      "needs_background": "light"
     },
     "output_type": "display_data"
    }
   ],
   "source": [
    "plt.figure(figsize=(7, 5))\n",
    "\n",
    "(_, caps, _) = plt.errorbar(Deltax, v, xerr= dx, yerr= dv, fmt= 'ob',markersize=7, \n",
    "                            capsize=4, ecolor = 'blue', label='Datos experimentales')\n",
    "\n",
    "plt.plot(Deltax2, v2, '-r', markersize=7, label='Datos teóricos')\n",
    "\n",
    "# Add a title and changing its font size, and inserting location of the legend\n",
    "plt.title('Velocidad media', fontsize = 20)\n",
    "plt.ylim(34,49)\n",
    "plt.legend(fontsize = 12, loc='upper right')\n",
    "\n",
    "# Add a name and font size to the labels of axis\n",
    "plt.xlabel(R'$\\Delta x$ [$cm$]', fontsize = 16)\n",
    "plt.ylabel(R'Magnitud de velocidad [$cm/s$]', fontsize = 16)\n",
    "\n",
    "# Modify the font size of the values in the axis\n",
    "plt.xticks(size = 14)\n",
    "plt.yticks(size = 14)\n",
    "\n",
    "plt.savefig('average_vels.png', format='png') #Save the image in the computer\n",
    "plt.show() #show the plots"
   ]
  },
  {
   "cell_type": "code",
   "execution_count": null,
   "metadata": {},
   "outputs": [],
   "source": []
  }
 ],
 "metadata": {
  "kernelspec": {
   "display_name": "Python 3",
   "language": "python",
   "name": "python3"
  },
  "language_info": {
   "codemirror_mode": {
    "name": "ipython",
    "version": 3
   },
   "file_extension": ".py",
   "mimetype": "text/x-python",
   "name": "python",
   "nbconvert_exporter": "python",
   "pygments_lexer": "ipython3",
   "version": "3.8.5"
  }
 },
 "nbformat": 4,
 "nbformat_minor": 5
}
