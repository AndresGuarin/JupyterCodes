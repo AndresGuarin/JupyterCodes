{
 "cells": [
  {
   "cell_type": "markdown",
   "id": "3f144f97",
   "metadata": {},
   "source": [
    "# Plot data"
   ]
  },
  {
   "cell_type": "markdown",
   "id": "d78303b0",
   "metadata": {},
   "source": [
    "Autors: Juan Guarín, Angelica Angarita, Andrés Ferreira \\\n",
    "Codes: 2201870, 2200801, 2201764"
   ]
  },
  {
   "cell_type": "markdown",
   "id": "12da5a19",
   "metadata": {},
   "source": [
    "### Average velocity\n",
    "\n",
    "The instantaneous velocity is the derivate of the position in time and can be approximated to the average velocity when $\\Delta t \\to 0$. The average velocity is the change in position divided by the change in time.\n",
    "\n",
    "This code plots the data obtained from the lab practice of the average velocity. Also, it plots in the same figure the average velocity that was expected according to our theoretical model.\n",
    "\n",
    "It was consider an one dimensional movement in $x$ axis, that had a constant acceleration of $a = g \\sin \\theta$. The initial position were $x_0$ with a velocity $v_i=0$. Then, the ecuations consider in the data file for the code were:\n",
    "\n",
    "\\begin{equation}\n",
    "    x(t) = x_0 + g \\sin \\theta \\frac{t^2}{2}\n",
    "\\end{equation}\n",
    "\n",
    "\\begin{equation}\n",
    "    v(t) = g \\sin \\theta t\n",
    "\\end{equation}\n",
    "\n",
    "Solving for $t$ in $x(t)$, we obtained:\n",
    "\n",
    "\\begin{equation}\n",
    "    t(x) = \\sqrt{ \\frac{2(x-x_0)}{g \\sin \\theta} }\n",
    "\\end{equation}\n",
    "\n",
    "Using the expresión $v_m = \\frac{\\Delta x}{\\Delta t}$ and changing $\\Delta t$ by $t(x + \\Delta t /2) - t(x - \\Delta t/2)$ it was find a theoretical equation for the average velocity:\n",
    "\n",
    "\\begin{equation}\n",
    "    v_m = \\frac{\\Delta x}{\\sqrt{ \\frac{2(x + \\Delta x/2-x_0)}{g \\sin \\theta} } - \\sqrt{ \\frac{2(x-\\Delta x/2-x_0)}{g \\sin \\theta} }}\n",
    "\\end{equation}\n",
    "\n",
    "Theese expresions were used in another file to obtained the data."
   ]
  },
  {
   "cell_type": "markdown",
   "id": "ab481108",
   "metadata": {},
   "source": [
    "The structure of this code is the next:\n",
    "\n",
    "* Importing libraries\n",
    "* Reading data\n",
    "* Plotting the data"
   ]
  },
  {
   "cell_type": "markdown",
   "id": "8b02e43a",
   "metadata": {},
   "source": [
    "### Importing libraries"
   ]
  },
  {
   "cell_type": "code",
   "execution_count": 7,
   "id": "39076779",
   "metadata": {},
   "outputs": [],
   "source": [
    "import numpy as np\n",
    "import matplotlib.pyplot as plt"
   ]
  },
  {
   "cell_type": "markdown",
   "id": "7d757f68",
   "metadata": {},
   "source": [
    "### Reading data"
   ]
  },
  {
   "cell_type": "code",
   "execution_count": 11,
   "id": "5aa4bb47",
   "metadata": {},
   "outputs": [],
   "source": [
    "data = np.loadtxt('data_vel.txt', skiprows=1)\n",
    "\n",
    "Deltax = data[:,0]\n",
    "dx = np.ones(len(Deltax))*0.2\n",
    "\n",
    "v = data[:,1]\n",
    "dv = data[:,2]\n",
    "\n",
    "vt = data[:,3]\n",
    "dvt = data[:,4]"
   ]
  },
  {
   "cell_type": "code",
   "execution_count": 12,
   "id": "56a3aea2",
   "metadata": {},
   "outputs": [
    {
     "data": {
      "text/plain": [
       "array([40.81114416, 39.07165742, 35.04836675, 47.22327163, 46.69624095,\n",
       "       41.92073171])"
      ]
     },
     "execution_count": 12,
     "metadata": {},
     "output_type": "execute_result"
    }
   ],
   "source": [
    "v"
   ]
  },
  {
   "cell_type": "markdown",
   "id": "7866bd5a",
   "metadata": {},
   "source": [
    "### Plotting the data "
   ]
  },
  {
   "cell_type": "code",
   "execution_count": 14,
   "id": "87c51986",
   "metadata": {},
   "outputs": [
    {
     "data": {
      "image/png": "[encoded data removed]",
      "text/plain": [
       "<Figure size 504x360 with 1 Axes>"
      ]
     },
     "metadata": {
      "needs_background": "light"
     },
     "output_type": "display_data"
    }
   ],
   "source": [
    "plt.figure(figsize=(7, 5))\n",
    "\n",
    "(_, caps, _) = plt.errorbar(Deltax, v, xerr= dx, yerr= dv, fmt= 'ob',markersize=7, \n",
    "                            capsize=4, ecolor = 'blue', label='Datos experimentales')\n",
    "\n",
    "(_, caps, _) = plt.errorbar(Deltax, vt, xerr= dx, yerr= dvt, fmt = 'or', markersize=7,\n",
    "                            capsize=4, ecolor = 'red', label='Datos teóricos')\n",
    "\n",
    "# Add a title and changing its font size, and inserting location of the legend\n",
    "plt.title('Velocidad media', fontsize = 20)\n",
    "plt.ylim(34,50)\n",
    "plt.legend(fontsize = 12, loc='upper right')\n",
    "\n",
    "# Add a name and font size to the labels of axis\n",
    "plt.xlabel(R'$\\Delta x$ [$cm$]', fontsize = 16)\n",
    "plt.ylabel(R'Magnitud de velocidad [$cm/s$]', fontsize = 16)\n",
    "\n",
    "# Modify the font size of the values in the axis\n",
    "plt.xticks(size = 14)\n",
    "plt.yticks(size = 14)\n",
    "\n",
    "plt.savefig('average_vels.png', format='png') #Save the image in the computer\n",
    "plt.show() #show the plots"
   ]
  },
  {
   "cell_type": "code",
   "execution_count": null,
   "id": "ea5e7aff",
   "metadata": {},
   "outputs": [],
   "source": []
  }
 ],
 "metadata": {
  "kernelspec": {
   "display_name": "Python 3 (ipykernel)",
   "language": "python",
   "name": "python3"
  },
  "language_info": {
   "codemirror_mode": {
    "name": "ipython",
    "version": 3
   },
   "file_extension": ".py",
   "mimetype": "text/x-python",
   "name": "python",
   "nbconvert_exporter": "python",
   "pygments_lexer": "ipython3",
   "version": "3.9.6"
  }
 },
 "nbformat": 4,
 "nbformat_minor": 5
}
