{
 "cells": [
  {
   "cell_type": "code",
   "execution_count": null,
   "id": "e67803da",
   "metadata": {},
   "outputs": [],
   "source": [
    "def f(t, ant):\n",
    "    for i in range(len(time[ant])-1):\n",
    "        if time[ant][i]<t and t<time[ant][i+1]:\n",
    "            m = (señal[ant][i+1]-señal[ant][i])/(dT[i+1]-dT[i])\n",
    "            b = S[i]-m*dT[i]\n",
    "            f = m*t+b\n",
    "            break\n",
    "    return f"
   ]
  },
  {
   "cell_type": "code",
   "execution_count": 5,
   "id": "6277a234",
   "metadata": {},
   "outputs": [],
   "source": [
    "import numpy as np"
   ]
  },
  {
   "cell_type": "code",
   "execution_count": 14,
   "id": "b50953cd",
   "metadata": {},
   "outputs": [],
   "source": [
    "A=np.array([1,2,3,4,5,'RGBA',4,5,5,8])"
   ]
  },
  {
   "cell_type": "code",
   "execution_count": 15,
   "id": "094867bb",
   "metadata": {},
   "outputs": [
    {
     "data": {
      "text/plain": [
       "array(['1', '2', '3', '4', '5', 'RGBA', '4', '5', '5', '8'], dtype='<U11')"
      ]
     },
     "execution_count": 15,
     "metadata": {},
     "output_type": "execute_result"
    }
   ],
   "source": [
    "A"
   ]
  },
  {
   "cell_type": "code",
   "execution_count": 13,
   "id": "68552a3f",
   "metadata": {},
   "outputs": [
    {
     "ename": "TypeError",
     "evalue": "int() argument must be a string, a bytes-like object or a real number, not 'list'",
     "output_type": "error",
     "traceback": [
      "\u001b[1;31m---------------------------------------------------------------------------\u001b[0m",
      "\u001b[1;31mTypeError\u001b[0m                                 Traceback (most recent call last)",
      "Input \u001b[1;32mIn [13]\u001b[0m, in \u001b[0;36m<cell line: 2>\u001b[1;34m()\u001b[0m\n\u001b[0;32m      1\u001b[0m B \u001b[38;5;241m=\u001b[39m [\u001b[38;5;124m'\u001b[39m\u001b[38;5;124m1\u001b[39m\u001b[38;5;124m'\u001b[39m,\u001b[38;5;124m'\u001b[39m\u001b[38;5;124m2\u001b[39m\u001b[38;5;124m'\u001b[39m]\n\u001b[1;32m----> 2\u001b[0m \u001b[38;5;28;43mint\u001b[39;49m\u001b[43m(\u001b[49m\u001b[43mB\u001b[49m\u001b[43m)\u001b[49m\n",
      "\u001b[1;31mTypeError\u001b[0m: int() argument must be a string, a bytes-like object or a real number, not 'list'"
     ]
    }
   ],
   "source": [
    "B = bp.array(['1','2']\n",
    "int(B)"
   ]
  },
  {
   "cell_type": "code",
   "execution_count": null,
   "id": "ebbf706b",
   "metadata": {},
   "outputs": [],
   "source": [
    "a = Time[ant][0]\n",
    "b = Time[ant][-1]\n",
    "\n",
    "paso=0.0001\n",
    "t = np.arange(a,b,paso)\n",
    "s = np.array([f(t[i], ant) for i in range(len(t))]) #list comprehesion"
   ]
  },
  {
   "cell_type": "code",
   "execution_count": 16,
   "id": "72a84567",
   "metadata": {},
   "outputs": [
    {
     "data": {
      "text/plain": [
       "array([0. , 0.2, 0.4, 0.6, 0.8, 1. , 1.2, 1.4, 1.6, 1.8, 2. , 2.2, 2.4,\n",
       "       2.6, 2.8, 3. , 3.2, 3.4, 3.6, 3.8, 4. , 4.2, 4.4, 4.6, 4.8])"
      ]
     },
     "execution_count": 16,
     "metadata": {},
     "output_type": "execute_result"
    }
   ],
   "source": [
    "np.arange(0,5,0.2)"
   ]
  }
 ],
 "metadata": {
  "kernelspec": {
   "display_name": "Python 3 (ipykernel)",
   "language": "python",
   "name": "python3"
  },
  "language_info": {
   "codemirror_mode": {
    "name": "ipython",
    "version": 3
   },
   "file_extension": ".py",
   "mimetype": "text/x-python",
   "name": "python",
   "nbconvert_exporter": "python",
   "pygments_lexer": "ipython3",
   "version": "3.10.4"
  }
 },
 "nbformat": 4,
 "nbformat_minor": 5
}
