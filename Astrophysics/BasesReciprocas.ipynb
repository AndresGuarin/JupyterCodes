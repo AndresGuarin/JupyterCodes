{
 "cells": [
  {
   "cell_type": "markdown",
   "id": "8ef16c86",
   "metadata": {},
   "source": [
    "# Algebra Tensorial - Bases Reciprocas"
   ]
  },
  {
   "cell_type": "markdown",
   "id": "87e4eeaf",
   "metadata": {},
   "source": [
    "Este código hace una exploración del álgebra tensorial y encuentra la base reciproca para una base dada"
   ]
  },
  {
   "cell_type": "markdown",
   "id": "bb9b0632",
   "metadata": {},
   "source": [
    "## 0. Importación de librerías"
   ]
  },
  {
   "cell_type": "code",
   "execution_count": 4,
   "id": "16112022",
   "metadata": {},
   "outputs": [],
   "source": [
    "import numpy as np\n",
    "import pandas as pd\n",
    "from numpy import array as vect, sqrt"
   ]
  },
  {
   "cell_type": "markdown",
   "id": "4a6e8f19",
   "metadata": {},
   "source": [
    "## 1. Definición de la clase del código"
   ]
  },
  {
   "cell_type": "code",
   "execution_count": 33,
   "id": "29fbb30e",
   "metadata": {},
   "outputs": [
    {
     "data": {
      "text/html": [
       "<div>\n",
       "<style scoped>\n",
       "    .dataframe tbody tr th:only-of-type {\n",
       "        vertical-align: middle;\n",
       "    }\n",
       "\n",
       "    .dataframe tbody tr th {\n",
       "        vertical-align: top;\n",
       "    }\n",
       "\n",
       "    .dataframe thead th {\n",
       "        text-align: right;\n",
       "    }\n",
       "</style>\n",
       "<table border=\"1\" class=\"dataframe\">\n",
       "  <thead>\n",
       "    <tr style=\"text-align: right;\">\n",
       "      <th></th>\n",
       "      <th>e^1</th>\n",
       "      <th>e^2</th>\n",
       "      <th>e^3</th>\n",
       "    </tr>\n",
       "  </thead>\n",
       "  <tbody>\n",
       "    <tr>\n",
       "      <th>0</th>\n",
       "      <td>0.366025</td>\n",
       "      <td>-0.172546</td>\n",
       "      <td>0.0</td>\n",
       "    </tr>\n",
       "    <tr>\n",
       "      <th>1</th>\n",
       "      <td>0.366025</td>\n",
       "      <td>0.298858</td>\n",
       "      <td>-0.0</td>\n",
       "    </tr>\n",
       "    <tr>\n",
       "      <th>2</th>\n",
       "      <td>-0.000000</td>\n",
       "      <td>0.000000</td>\n",
       "      <td>0.2</td>\n",
       "    </tr>\n",
       "  </tbody>\n",
       "</table>\n",
       "</div>"
      ],
      "text/plain": [
       "        e^1       e^2  e^3\n",
       "0  0.366025 -0.172546  0.0\n",
       "1  0.366025  0.298858 -0.0\n",
       "2 -0.000000  0.000000  0.2"
      ]
     },
     "metadata": {},
     "output_type": "display_data"
    }
   ],
   "source": [
    "# Funciones auxiliares\n",
    "def Display(B):              # Para visualización\n",
    "    df = pd.DataFrame(B)\n",
    "    display(df)\n",
    "\n",
    "def BaseReciproca(B):        # Para hallar la base reciproca\n",
    "    B_dual = {'e^1':0, 'e^2':0, 'e^3':0}                   # Para guardar la base dual\n",
    "    VolumeB = B['e_1'] @ np.cross(B['e_2'], B['e_3'])      # Triple producto escalar de la base original\n",
    "    \n",
    "    B_dual['e^1'] = np.cross(B['e_2'], B['e_3'])/VolumeB   # Vector 1 de la base dual\n",
    "    B_dual['e^2'] = np.cross(B['e_3'], B['e_1'])/VolumeB   # Vector 2\n",
    "    B_dual['e^3'] = np.cross(B['e_1'], B['e_2'])/VolumeB   # Vector 3\n",
    "    return B_dual"
   ]
  },
  {
   "cell_type": "code",
   "execution_count": 35,
   "id": "ef6e4c02",
   "metadata": {},
   "outputs": [
    {
     "data": {
      "text/html": [
       "<div>\n",
       "<style scoped>\n",
       "    .dataframe tbody tr th:only-of-type {\n",
       "        vertical-align: middle;\n",
       "    }\n",
       "\n",
       "    .dataframe tbody tr th {\n",
       "        vertical-align: top;\n",
       "    }\n",
       "\n",
       "    .dataframe thead th {\n",
       "        text-align: right;\n",
       "    }\n",
       "</style>\n",
       "<table border=\"1\" class=\"dataframe\">\n",
       "  <thead>\n",
       "    <tr style=\"text-align: right;\">\n",
       "      <th></th>\n",
       "      <th>e^1</th>\n",
       "      <th>e^2</th>\n",
       "      <th>e^3</th>\n",
       "    </tr>\n",
       "  </thead>\n",
       "  <tbody>\n",
       "    <tr>\n",
       "      <th>0</th>\n",
       "      <td>0.366025</td>\n",
       "      <td>-0.172546</td>\n",
       "      <td>0.0</td>\n",
       "    </tr>\n",
       "    <tr>\n",
       "      <th>1</th>\n",
       "      <td>0.366025</td>\n",
       "      <td>0.298858</td>\n",
       "      <td>-0.0</td>\n",
       "    </tr>\n",
       "    <tr>\n",
       "      <th>2</th>\n",
       "      <td>-0.000000</td>\n",
       "      <td>0.000000</td>\n",
       "      <td>0.2</td>\n",
       "    </tr>\n",
       "  </tbody>\n",
       "</table>\n",
       "</div>"
      ],
      "text/plain": [
       "        e^1       e^2  e^3\n",
       "0  0.366025 -0.172546  0.0\n",
       "1  0.366025  0.298858 -0.0\n",
       "2 -0.000000  0.000000  0.2"
      ]
     },
     "metadata": {},
     "output_type": "display_data"
    }
   ],
   "source": [
    "# Bases de vectores\n",
    "B = {'e_1':vect([sqrt(3),1,0]), 'e_2':vect([-3/2*sqrt(2), 3/2*sqrt(2),0]),\n",
    "     'e_3':vect([0,0,5])} # Base original\n",
    "\n",
    "B_dual = BaseReciproca(B)\n",
    "\n",
    "Display(B_dual)"
   ]
  },
  {
   "cell_type": "code",
   "execution_count": 34,
   "id": "e5139dbc",
   "metadata": {},
   "outputs": [],
   "source": [
    "import sympy"
   ]
  },
  {
   "cell_type": "code",
   "execution_count": null,
   "id": "2ecdf193",
   "metadata": {},
   "outputs": [],
   "source": []
  }
 ],
 "metadata": {
  "kernelspec": {
   "display_name": "Python 3 (ipykernel)",
   "language": "python",
   "name": "python3"
  },
  "language_info": {
   "codemirror_mode": {
    "name": "ipython",
    "version": 3
   },
   "file_extension": ".py",
   "mimetype": "text/x-python",
   "name": "python",
   "nbconvert_exporter": "python",
   "pygments_lexer": "ipython3",
   "version": "3.10.7"
  }
 },
 "nbformat": 4,
 "nbformat_minor": 5
}
