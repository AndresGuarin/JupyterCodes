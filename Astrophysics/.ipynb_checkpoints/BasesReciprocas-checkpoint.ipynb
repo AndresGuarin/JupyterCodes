{
 "cells": [
  {
   "cell_type": "markdown",
   "id": "8ef16c86",
   "metadata": {},
   "source": [
    "# Algebra Tensorial - Bases Reciprocas"
   ]
  },
  {
   "cell_type": "markdown",
   "id": "87e4eeaf",
   "metadata": {},
   "source": [
    "Este código hace una exploración del álgebra tensorial y encuentra la base reciproca para una base dada"
   ]
  },
  {
   "cell_type": "markdown",
   "id": "bb9b0632",
   "metadata": {},
   "source": [
    "## 0. Importación de librerías"
   ]
  },
  {
   "cell_type": "code",
   "execution_count": 65,
   "id": "16112022",
   "metadata": {},
   "outputs": [],
   "source": [
    "import numpy as np\n",
    "import sympy as sp\n",
    "import pandas as pd\n",
    "\n",
    "from sympy.vector import CoordSys3D\n",
    "from sympy import sqrt"
   ]
  },
  {
   "cell_type": "markdown",
   "id": "4a6e8f19",
   "metadata": {},
   "source": [
    "## 1. Definición de la clase del código"
   ]
  },
  {
   "cell_type": "code",
   "execution_count": 66,
   "id": "29fbb30e",
   "metadata": {},
   "outputs": [],
   "source": [
    "# Clase para bases de un espacio vectorial\n",
    "class BaseVectorial:\n",
    "    \n",
    "    def __init__(self, B_list, kind):\n",
    "        if kind == 'vectorial':\n",
    "            self.B = {'e_1':B_list[0], 'e_2':B_list[1], 'e_3':B_list[2]}\n",
    "        elif kind == 'dual':\n",
    "            self.B = {'e^1':B_list[0], 'e^2':B_list[1], 'e^3':B_list[2]}\n",
    "        \n",
    "        self.kind = kind\n",
    "        self.B_list = B_list\n",
    "        \n",
    "    def display(self):           # Para visualización           \n",
    "        kind = self.kind\n",
    "        B_list = list(self.B.values())\n",
    "        if kind == 'vectorial':\n",
    "            print('e_1 =',B_list[0])\n",
    "            print('e_2 =',B_list[1])\n",
    "            print('e_3 =',B_list[2])\n",
    "        \n",
    "        elif kind == 'dual':\n",
    "            print('e^1 =',B_list[0])\n",
    "            print('e^2 =',B_list[1])\n",
    "            print('e^3 =',B_list[2])\n",
    "    \n",
    "    def BaseReciproca(self):     # Para hallar la base reciproca\n",
    "        B = self.B\n",
    "        B_dual = {'e^1':0, 'e^2':0, 'e^3':0}                                    # Para guardar la base dual\n",
    "        VolumeB = B['e_1'].dot(B['e_2'].cross(B['e_3']))   # Triple producto escalar de la base original\n",
    "\n",
    "        B_dual['e^1'] = B['e_2'].cross(B['e_3']) / VolumeB   # Vector 1 de la base dual\n",
    "        B_dual['e^2'] = B['e_3'].cross(B['e_1']) / VolumeB   # Vector 2\n",
    "        B_dual['e^3'] = B['e_1'].cross(B['e_2']) / VolumeB   # Vector 3\n",
    "        \n",
    "        self.Volume = VolumeB\n",
    "        self.B_dual = B_dual\n",
    "        \n",
    "        return B_dual\n",
    "    \n",
    "    def Simplifica(self):\n",
    "        for key in self.B.keys():\n",
    "            self.B[key] = self.B[key].simplify()\n",
    "    \n",
    "    def v(self,i):\n",
    "        kind = self.kind\n",
    "        if kind == 'vectorial': \n",
    "            vector = self.B[f'e_{i}']\n",
    "        elif kind == 'dual':\n",
    "            vector = self.B[f'e^{i}']\n",
    "        return vector\n",
    "    \n",
    "    def Base(self):\n",
    "        return self.B"
   ]
  },
  {
   "cell_type": "code",
   "execution_count": 67,
   "id": "ef6e4c02",
   "metadata": {
    "scrolled": true
   },
   "outputs": [
    {
     "name": "stdout",
     "output_type": "stream",
     "text": [
      "e_1 = (sqrt(3))*C.i + C.j\n",
      "e_2 = (-1.5*sqrt(2))*C.i + (1.5*sqrt(2))*C.j\n",
      "e_3 = 5*C.k\n",
      "e^1 = (7.5*sqrt(2)/(7.5*sqrt(2) + 7.5*sqrt(6)))*C.i + (7.5*sqrt(2)/(7.5*sqrt(2) + 7.5*sqrt(6)))*C.j\n",
      "e^2 = (-5/(7.5*sqrt(2) + 7.5*sqrt(6)))*C.i + (5*sqrt(3)/(7.5*sqrt(2) + 7.5*sqrt(6)))*C.j\n",
      "e^3 = ((1.5*sqrt(2) + 1.5*sqrt(6))/(7.5*sqrt(2) + 7.5*sqrt(6)))*C.k\n"
     ]
    }
   ],
   "source": [
    "# Bases de vectores\n",
    "C = CoordSys3D('C')\n",
    "B_list = [ sqrt(3)*C.i + C.j, -3/2*sqrt(2)*C.i + 3/2*sqrt(2)*C.j, 5*C.k]   # Base original\n",
    "\n",
    "B = BaseVectorial(B_list,'vectorial')\n",
    "B.display()\n",
    "\n",
    "B_dual_dict = B.BaseReciproca()\n",
    "B_dual_list = list(B_dual_dict.values())\n",
    "\n",
    "B_dual = BaseVectorial(B_dual_list,'dual')\n",
    "#B_dual.Simplifica()\n",
    "B_dual.display()"
   ]
  },
  {
   "cell_type": "code",
   "execution_count": 69,
   "id": "b0ff2391",
   "metadata": {},
   "outputs": [],
   "source": [
    "A = 4*C.i + 2*C.j"
   ]
  },
  {
   "cell_type": "code",
   "execution_count": 87,
   "id": "e587e7a2",
   "metadata": {},
   "outputs": [
    {
     "data": {
      "text/latex": [
       "$\\displaystyle 2 + 4 \\sqrt{3}$"
      ],
      "text/plain": [
       "2 + 4*sqrt(3)"
      ]
     },
     "execution_count": 87,
     "metadata": {},
     "output_type": "execute_result"
    }
   ],
   "source": [
    "A_1 = A.dot(B.v(1))\n",
    "A_1"
   ]
  },
  {
   "cell_type": "code",
   "execution_count": 88,
   "id": "0090d8fb",
   "metadata": {},
   "outputs": [
    {
     "data": {
      "text/latex": [
       "$\\displaystyle - 3.0 \\sqrt{2}$"
      ],
      "text/plain": [
       "-3.0*sqrt(2)"
      ]
     },
     "execution_count": 88,
     "metadata": {},
     "output_type": "execute_result"
    }
   ],
   "source": [
    "A_2 = A.dot(B.v(2))\n",
    "A_2"
   ]
  },
  {
   "cell_type": "code",
   "execution_count": 89,
   "id": "2965b9b7",
   "metadata": {},
   "outputs": [
    {
     "data": {
      "text/latex": [
       "$\\displaystyle 0$"
      ],
      "text/plain": [
       "0"
      ]
     },
     "execution_count": 89,
     "metadata": {},
     "output_type": "execute_result"
    }
   ],
   "source": [
    "A_3 = A.dot(B.v(3))\n",
    "A_3"
   ]
  },
  {
   "cell_type": "code",
   "execution_count": 93,
   "id": "f660d13e",
   "metadata": {},
   "outputs": [
    {
     "data": {
      "text/latex": [
       "$\\displaystyle (4.0)\\mathbf{\\hat{i}_{C}} + (2.0)\\mathbf{\\hat{j}_{C}}$"
      ],
      "text/plain": [
       "4.0*C.i + 2.0*C.j"
      ]
     },
     "execution_count": 93,
     "metadata": {},
     "output_type": "execute_result"
    }
   ],
   "source": [
    "A_p = A_1*B_dual.v(1) + A_2*B_dual.v(2) + A_3*B_dual.v(3)\n",
    "A_p.simplify()"
   ]
  },
  {
   "cell_type": "code",
   "execution_count": null,
   "id": "ce84a585",
   "metadata": {},
   "outputs": [],
   "source": []
  }
 ],
 "metadata": {
  "kernelspec": {
   "display_name": "Python 3 (ipykernel)",
   "language": "python",
   "name": "python3"
  },
  "language_info": {
   "codemirror_mode": {
    "name": "ipython",
    "version": 3
   },
   "file_extension": ".py",
   "mimetype": "text/x-python",
   "name": "python",
   "nbconvert_exporter": "python",
   "pygments_lexer": "ipython3",
   "version": "3.10.7"
  }
 },
 "nbformat": 4,
 "nbformat_minor": 5
}
