{
 "cells": [
  {
   "cell_type": "code",
   "execution_count": 2,
   "metadata": {},
   "outputs": [],
   "source": [
    "import astropy.units as unit\n",
    "import astropy.constants as cte \n",
    "import matplotlib.pyplot as plt\n",
    "import numpy as np"
   ]
  },
  {
   "cell_type": "code",
   "execution_count": 7,
   "metadata": {},
   "outputs": [
    {
     "data": {
      "text/plain": [
       "2"
      ]
     },
     "execution_count": 7,
     "metadata": {},
     "output_type": "execute_result"
    }
   ],
   "source": [
    "(-10) % 6"
   ]
  },
  {
   "cell_type": "code",
   "execution_count": 43,
   "metadata": {},
   "outputs": [
    {
     "name": "stdout",
     "output_type": "stream",
     "text": [
      "\n",
      "B = [0]\n",
      "0 1 -1 1j -1j \n",
      "B = [0, 1, -1, 1j, -1j]\n",
      "0 1 -1 1j -1j 1 2 0 (1+1j) (1-1j) -1 0 -2 (-1+1j) (-1-1j) -1j (1-1j) (-1-1j) 0j -2j 1j (1+1j) (-1+1j) 2j 0j "
     ]
    }
   ],
   "source": [
    "B = [0]\n",
    "\n",
    "for n in range(2):\n",
    "    aux = []\n",
    "    print()\n",
    "    print('B =',B)\n",
    "    for b in B:\n",
    "        for i in [0,1,-1,1j,-1j]:\n",
    "            print(b.conjugate()+i,end=' ')\n",
    "            aux.append(b.conjugate()+i)\n",
    "    B = aux\n",
    "    "
   ]
  },
  {
   "cell_type": "code",
   "execution_count": 33,
   "metadata": {},
   "outputs": [
    {
     "data": {
      "image/png": "[encoded data removed]",
      "text/plain": [
       "<Figure size 500x500 with 1 Axes>"
      ]
     },
     "metadata": {},
     "output_type": "display_data"
    }
   ],
   "source": [
    "plt.figure(figsize=(5,5))\n",
    "plt.plot(np.array(B).real,np.array(B).imag,'bo')\n",
    "plt.grid(True)\n",
    "plt.show()"
   ]
  },
  {
   "cell_type": "code",
   "execution_count": 4,
   "metadata": {},
   "outputs": [
    {
     "data": {
      "text/plain": [
       "3.0"
      ]
     },
     "execution_count": 4,
     "metadata": {},
     "output_type": "execute_result"
    }
   ],
   "source": [
    "np.floor(3.1)"
   ]
  },
  {
   "cell_type": "code",
   "execution_count": 23,
   "metadata": {},
   "outputs": [
    {
     "name": "stdout",
     "output_type": "stream",
     "text": [
      "0.0    0.0    2.0    12.0    62.0    312.0    1562.0    7812.0    39062.0    195312.0    976562.0    \n",
      "10 0.1249994752 0.125\n",
      "\n",
      "100 0.125 0.125\n",
      "\n",
      "300 0.125 0.125\n"
     ]
    }
   ],
   "source": [
    "x = 0.1\n",
    "m = 5\n",
    "N = 10\n",
    "\n",
    "for N in [10,100,300]:\n",
    "    S = 0\n",
    "    for k in range(0,N+1):\n",
    "        if N==10:\n",
    "            print(np.floor(x*m**k),end='    ')\n",
    "        S += np.floor(x*m**k)\n",
    "    S = S/m**N\n",
    "    print()\n",
    "    print(N,S,1/(1-1/m)*x)"
   ]
  },
  {
   "cell_type": "code",
   "execution_count": null,
   "metadata": {},
   "outputs": [],
   "source": []
  }
 ],
 "metadata": {
  "kernelspec": {
   "display_name": "Python 3",
   "language": "python",
   "name": "python3"
  },
  "language_info": {
   "codemirror_mode": {
    "name": "ipython",
    "version": 3
   },
   "file_extension": ".py",
   "mimetype": "text/x-python",
   "name": "python",
   "nbconvert_exporter": "python",
   "pygments_lexer": "ipython3",
   "version": "3.12.1"
  }
 },
 "nbformat": 4,
 "nbformat_minor": 2
}
