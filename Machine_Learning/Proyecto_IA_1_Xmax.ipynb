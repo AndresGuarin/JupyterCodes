{
  "cells": [
    {
      "cell_type": "markdown",
      "metadata": {
        "id": "VYYKFYOaBOTC"
      },
      "source": [
        "<img src=\"https://drive.google.com/uc?id=1ZWClpEv4nsRthBfZAwgXH7S-5Hm6rnLB\"  width=\"1040px\" height=\"390px\">\n",
        "\n",
        "# <center> **Detección del número máximo de partículas de una cascada de astropartículas** </center>\n",
        "\n",
        "## **Outline**\n",
        "1. [**Reading data**](#eje1)\n",
        "2. [**Model Regressor**](#eje2)\n",
        "\n",
        "## **Descripción**\n",
        "Durante todo el tiempo la Tierra es bombardeada por diminutas partículas (de tamaño subatómico!) las cuales llamamos astropartículas. Estas nos llegan de grandes eventos del espacio exterior, como explociones de supernova, o eyecciones de materia de agujeros negros del núcleo de una Galaxia. Aún no se sabe con certeza absoluta el origen de estas, por lo que no se descartan otras opciones. Para este trabajo se usarán los datos de las colisiones de hierro y protones con la atmósfera.\n",
        "\n",
        "<center>\n",
        "<img src=\"https://raw.githubusercontent.com/AndresGuarin/Images/main/IA-1/NGC.png\" width=\"350px\" height=\"260px\">\n",
        "\n",
        "<img src=\"https://raw.githubusercontent.com/AndresGuarin/Images/main/IA-1/supernova.png\" width=\"350px\" height=\"260px\">\n",
        "</center>\n",
        "\n",
        "Es inevitable que al caer una partícula sobre la Tierra esta interactúe con la atmósfera. Esto sucede en forma de colisiones. En una colisión la partícula original se deshace y se fragmenta en muchas otras. A este efecto en cadena se le llama cascada! La cascada se compone de un gran número de partículas que se siguen desintegrando y fragmentando antes de llegar al suelo. Cuando están cerca del suelo el número de partículas ya es menor que antes. \n",
        "\n",
        "Como cada partícula es diferente, la cascada va a ser distinta dependiendo de la partícula que entró al cielo, por ejemplo el hierro o protón. Entonces el número de partículas máximo de una cascada cambia en función de algunos parámetros como la energía, el ángulo de incidencia o el tipo de partícula.\n",
        "\n",
        "<center>\n",
        "<img src=\"https://raw.githubusercontent.com/AndresGuarin/Images/main/IA-1/astroparticles_shower.jpg\" width=\"300px\" height=\"300px\">\n",
        "</center>\n",
        "\n",
        "En este trabajo, nos centramos en hallar el número máximo de partículas de un conjunto de cascadas. El dataset consta de eventos de cascadas debidas al hierro y protones. En total 4400 filas, donde 2300 corresponden al hierro y 2100 al protón. Las features corresponden a 58 caracteristícas de la cascada de astropartículas, como por ejemplo: energía, tamaño angular, posición de la cascada, etc. Se usó un modelo de Regresión para estimar el número máximo de partículas **MC Xmax**.\n",
        "\n",
        "Los datos fueron obtenidos de simulaciones hechas por investigadores del Observatorio Pierre Auger (Argentina), con datos de entrada basados en detecciones experimentales. Los datos fueron dados por cortesía de Cristian Sarmiento PhD Ciencia y Tecnología, mención Física, quién los usó para su tesis doctoral.\n",
        "\n",
        "## **Objetivos**\n",
        "\n",
        "* Aplicar un modelo de regresión para estimar el número máximo de partículas (**MC Xmax**).\n",
        "* Determinar el mejor modelo que estime el **MC Xmax**.\n",
        "* Encontrar los parámetros del modelo elegido más apropiados."
      ]
    },
    {
      "cell_type": "code",
      "execution_count": 2,
      "metadata": {
        "colab": {
          "base_uri": "https://localhost:8080/"
        },
        "id": "BR6jmRRLAxPI",
        "outputId": "40d63c35-528f-4731-fe2f-a6cfa90daef7"
      },
      "outputs": [
        {
          "output_type": "stream",
          "name": "stdout",
          "text": [
            "Mounted at /content/drive\n",
            "/content/drive/My Drive/IA-1/Proyecto\n"
          ]
        }
      ],
      "source": [
        "#@title **MONTAR EL DRIVE** { display-mode: \"form\" }\n",
        "import os\n",
        "from google.colab import drive\n",
        "\n",
        "path_ai = \"IA-1/Proyecto\" #@param {type:\"string\"}\n",
        "path = \"/content/drive/My Drive/\" + path_ai\n",
        "drive.mount('/content/drive')\n",
        "os.chdir(path)\n",
        "print(os.getcwd())"
      ]
    },
    {
      "cell_type": "code",
      "execution_count": 3,
      "metadata": {
        "id": "zlm_OOnWBfoi"
      },
      "outputs": [],
      "source": [
        "#@title **Load libs** { display-mode: \"form\" }\n",
        "import pandas as pd\n",
        "import numpy as np\n",
        "import matplotlib.pyplot as plt\n",
        "import seaborn as sns\n",
        "sns.set_theme()\n",
        "pd.__version__\n",
        "from sklearn.model_selection import KFold\n",
        "from sklearn.metrics import *"
      ]
    },
    {
      "cell_type": "markdown",
      "metadata": {
        "id": "OzlmKjddCL7N"
      },
      "source": [
        "\n",
        "#1. **Reading data** <a name=\"eje1\"></a>"
      ]
    },
    {
      "cell_type": "code",
      "execution_count": 4,
      "metadata": {
        "colab": {
          "base_uri": "https://localhost:8080/",
          "height": 732
        },
        "id": "8JR87-16Bug6",
        "outputId": "18af91d5-0904-458b-ec70-f50ff6a21799"
      },
      "outputs": [
        {
          "output_type": "stream",
          "name": "stdout",
          "text": [
            "(2323, 58)\n",
            "(2142, 58)\n"
          ]
        },
        {
          "output_type": "execute_result",
          "data": {
            "text/plain": [
              "         MC energy  MC zenith  MC azimuth  MC core x  MC core y  MC core z  \\\n",
              "0     1.549610e+18    41.0088     303.544     449498  6113960.0    1468.23   \n",
              "1     2.535990e+17    34.4273     204.927     450569  6114990.0    1468.11   \n",
              "2     2.557910e+17    41.8761     291.040     449957  6114220.0    1468.64   \n",
              "3     1.478830e+18    48.8578     163.620     450725  6114750.0    1466.90   \n",
              "4     7.992670e+17    47.9999      20.302     448781  6114250.0    1478.29   \n",
              "...            ...        ...         ...        ...        ...        ...   \n",
              "4460  2.830380e+17    42.1923     299.907     450837  6114940.0    1464.25   \n",
              "4461  7.031340e+16    31.5730     313.950     451208  6114290.0    1459.11   \n",
              "4462  2.081160e+18    31.6012     100.132     450405  6114330.0    1466.43   \n",
              "4463  3.655930e+17    54.1971     240.092     450736  6114530.0    1463.18   \n",
              "4464  3.980540e+17    51.5056     346.066     450428  6115240.0    1467.37   \n",
              "\n",
              "      Sd rec success     Sd energy  SD zenith  SD azimuth  ...  GeoCe LDF ndf  \\\n",
              "0                  1  1.158430e+18    40.7990    303.8270  ...              2   \n",
              "1                  1  2.077700e+17    33.5715    204.8110  ...              1   \n",
              "2                  1  1.495360e+17    41.4153    289.9990  ...              2   \n",
              "3                  1  1.204640e+18    48.5606    163.8390  ...             18   \n",
              "4                  1  6.018360e+17    48.3129     20.4129  ...              3   \n",
              "...              ...           ...        ...         ...  ...            ...   \n",
              "4460               1  2.847940e+17    41.5514    297.6510  ...              9   \n",
              "4461               1  7.495520e+16    33.6773    313.9710  ...              5   \n",
              "4462               1  1.727270e+18    32.1312     99.8235  ...              1   \n",
              "4463               1  2.899870e+17    53.4601    240.9910  ...             18   \n",
              "4464               1  2.777420e+17    51.0544    345.3330  ...              4   \n",
              "\n",
              "      pvalue GeoCe  Md rec success  N_mu_ref  MLDF Chi2  MLDF NDF  \\\n",
              "0     5.522280e-01               1  2.375530   42.65270        42   \n",
              "1     5.848000e-01               1  0.603343   11.23330        12   \n",
              "2     9.316390e-01               1  0.460631    9.15930        12   \n",
              "3     6.242530e-10               1  2.482500   60.65770        49   \n",
              "4     5.236580e-01               1  1.531090   21.60800        24   \n",
              "...            ...             ...       ...        ...       ...   \n",
              "4460  2.281540e-14               1  0.673622   16.09300        13   \n",
              "4461  3.836610e-02               1  0.197141    4.87348         6   \n",
              "4462  2.387730e-02               1  2.475100   63.56010        45   \n",
              "4463  2.917480e-06               1  0.375106   10.20190         9   \n",
              "4464  2.202100e-01               1  0.484126   13.47840        13   \n",
              "\n",
              "      MLDF Likelihood    M beta  M beta syst  MC Xmax  \n",
              "0            26.63010  1.109980            0  641.545  \n",
              "1             7.14209  1.084460            0  586.647  \n",
              "2             5.93662  1.714770            0  556.775  \n",
              "3            38.28580  1.115640            0  651.333  \n",
              "4            13.32660  0.947208            0  660.695  \n",
              "...               ...       ...          ...      ...  \n",
              "4460         10.76710  0.726538            0  716.003  \n",
              "4461          4.92578  1.598330            0  621.258  \n",
              "4462         36.74840  1.540620            0  741.709  \n",
              "4463          8.00254  0.570119            0  690.726  \n",
              "4464          7.62364  0.902364            0  711.439  \n",
              "\n",
              "[4459 rows x 48 columns]"
            ],
            "text/html": [
              "\n",
              "  <div id=\"df-fe4ea00a-b799-4b9e-97d5-55c76c8ae1eb\">\n",
              "    <div class=\"colab-df-container\">\n",
              "      <div>\n",
              "<style scoped>\n",
              "    .dataframe tbody tr th:only-of-type {\n",
              "        vertical-align: middle;\n",
              "    }\n",
              "\n",
              "    .dataframe tbody tr th {\n",
              "        vertical-align: top;\n",
              "    }\n",
              "\n",
              "    .dataframe thead th {\n",
              "        text-align: right;\n",
              "    }\n",
              "</style>\n",
              "<table border=\"1\" class=\"dataframe\">\n",
              "  <thead>\n",
              "    <tr style=\"text-align: right;\">\n",
              "      <th></th>\n",
              "      <th>MC energy</th>\n",
              "      <th>MC zenith</th>\n",
              "      <th>MC azimuth</th>\n",
              "      <th>MC core x</th>\n",
              "      <th>MC core y</th>\n",
              "      <th>MC core z</th>\n",
              "      <th>Sd rec success</th>\n",
              "      <th>Sd energy</th>\n",
              "      <th>SD zenith</th>\n",
              "      <th>SD azimuth</th>\n",
              "      <th>...</th>\n",
              "      <th>GeoCe LDF ndf</th>\n",
              "      <th>pvalue GeoCe</th>\n",
              "      <th>Md rec success</th>\n",
              "      <th>N_mu_ref</th>\n",
              "      <th>MLDF Chi2</th>\n",
              "      <th>MLDF NDF</th>\n",
              "      <th>MLDF Likelihood</th>\n",
              "      <th>M beta</th>\n",
              "      <th>M beta syst</th>\n",
              "      <th>MC Xmax</th>\n",
              "    </tr>\n",
              "  </thead>\n",
              "  <tbody>\n",
              "    <tr>\n",
              "      <th>0</th>\n",
              "      <td>1.549610e+18</td>\n",
              "      <td>41.0088</td>\n",
              "      <td>303.544</td>\n",
              "      <td>449498</td>\n",
              "      <td>6113960.0</td>\n",
              "      <td>1468.23</td>\n",
              "      <td>1</td>\n",
              "      <td>1.158430e+18</td>\n",
              "      <td>40.7990</td>\n",
              "      <td>303.8270</td>\n",
              "      <td>...</td>\n",
              "      <td>2</td>\n",
              "      <td>5.522280e-01</td>\n",
              "      <td>1</td>\n",
              "      <td>2.375530</td>\n",
              "      <td>42.65270</td>\n",
              "      <td>42</td>\n",
              "      <td>26.63010</td>\n",
              "      <td>1.109980</td>\n",
              "      <td>0</td>\n",
              "      <td>641.545</td>\n",
              "    </tr>\n",
              "    <tr>\n",
              "      <th>1</th>\n",
              "      <td>2.535990e+17</td>\n",
              "      <td>34.4273</td>\n",
              "      <td>204.927</td>\n",
              "      <td>450569</td>\n",
              "      <td>6114990.0</td>\n",
              "      <td>1468.11</td>\n",
              "      <td>1</td>\n",
              "      <td>2.077700e+17</td>\n",
              "      <td>33.5715</td>\n",
              "      <td>204.8110</td>\n",
              "      <td>...</td>\n",
              "      <td>1</td>\n",
              "      <td>5.848000e-01</td>\n",
              "      <td>1</td>\n",
              "      <td>0.603343</td>\n",
              "      <td>11.23330</td>\n",
              "      <td>12</td>\n",
              "      <td>7.14209</td>\n",
              "      <td>1.084460</td>\n",
              "      <td>0</td>\n",
              "      <td>586.647</td>\n",
              "    </tr>\n",
              "    <tr>\n",
              "      <th>2</th>\n",
              "      <td>2.557910e+17</td>\n",
              "      <td>41.8761</td>\n",
              "      <td>291.040</td>\n",
              "      <td>449957</td>\n",
              "      <td>6114220.0</td>\n",
              "      <td>1468.64</td>\n",
              "      <td>1</td>\n",
              "      <td>1.495360e+17</td>\n",
              "      <td>41.4153</td>\n",
              "      <td>289.9990</td>\n",
              "      <td>...</td>\n",
              "      <td>2</td>\n",
              "      <td>9.316390e-01</td>\n",
              "      <td>1</td>\n",
              "      <td>0.460631</td>\n",
              "      <td>9.15930</td>\n",
              "      <td>12</td>\n",
              "      <td>5.93662</td>\n",
              "      <td>1.714770</td>\n",
              "      <td>0</td>\n",
              "      <td>556.775</td>\n",
              "    </tr>\n",
              "    <tr>\n",
              "      <th>3</th>\n",
              "      <td>1.478830e+18</td>\n",
              "      <td>48.8578</td>\n",
              "      <td>163.620</td>\n",
              "      <td>450725</td>\n",
              "      <td>6114750.0</td>\n",
              "      <td>1466.90</td>\n",
              "      <td>1</td>\n",
              "      <td>1.204640e+18</td>\n",
              "      <td>48.5606</td>\n",
              "      <td>163.8390</td>\n",
              "      <td>...</td>\n",
              "      <td>18</td>\n",
              "      <td>6.242530e-10</td>\n",
              "      <td>1</td>\n",
              "      <td>2.482500</td>\n",
              "      <td>60.65770</td>\n",
              "      <td>49</td>\n",
              "      <td>38.28580</td>\n",
              "      <td>1.115640</td>\n",
              "      <td>0</td>\n",
              "      <td>651.333</td>\n",
              "    </tr>\n",
              "    <tr>\n",
              "      <th>4</th>\n",
              "      <td>7.992670e+17</td>\n",
              "      <td>47.9999</td>\n",
              "      <td>20.302</td>\n",
              "      <td>448781</td>\n",
              "      <td>6114250.0</td>\n",
              "      <td>1478.29</td>\n",
              "      <td>1</td>\n",
              "      <td>6.018360e+17</td>\n",
              "      <td>48.3129</td>\n",
              "      <td>20.4129</td>\n",
              "      <td>...</td>\n",
              "      <td>3</td>\n",
              "      <td>5.236580e-01</td>\n",
              "      <td>1</td>\n",
              "      <td>1.531090</td>\n",
              "      <td>21.60800</td>\n",
              "      <td>24</td>\n",
              "      <td>13.32660</td>\n",
              "      <td>0.947208</td>\n",
              "      <td>0</td>\n",
              "      <td>660.695</td>\n",
              "    </tr>\n",
              "    <tr>\n",
              "      <th>...</th>\n",
              "      <td>...</td>\n",
              "      <td>...</td>\n",
              "      <td>...</td>\n",
              "      <td>...</td>\n",
              "      <td>...</td>\n",
              "      <td>...</td>\n",
              "      <td>...</td>\n",
              "      <td>...</td>\n",
              "      <td>...</td>\n",
              "      <td>...</td>\n",
              "      <td>...</td>\n",
              "      <td>...</td>\n",
              "      <td>...</td>\n",
              "      <td>...</td>\n",
              "      <td>...</td>\n",
              "      <td>...</td>\n",
              "      <td>...</td>\n",
              "      <td>...</td>\n",
              "      <td>...</td>\n",
              "      <td>...</td>\n",
              "      <td>...</td>\n",
              "    </tr>\n",
              "    <tr>\n",
              "      <th>4460</th>\n",
              "      <td>2.830380e+17</td>\n",
              "      <td>42.1923</td>\n",
              "      <td>299.907</td>\n",
              "      <td>450837</td>\n",
              "      <td>6114940.0</td>\n",
              "      <td>1464.25</td>\n",
              "      <td>1</td>\n",
              "      <td>2.847940e+17</td>\n",
              "      <td>41.5514</td>\n",
              "      <td>297.6510</td>\n",
              "      <td>...</td>\n",
              "      <td>9</td>\n",
              "      <td>2.281540e-14</td>\n",
              "      <td>1</td>\n",
              "      <td>0.673622</td>\n",
              "      <td>16.09300</td>\n",
              "      <td>13</td>\n",
              "      <td>10.76710</td>\n",
              "      <td>0.726538</td>\n",
              "      <td>0</td>\n",
              "      <td>716.003</td>\n",
              "    </tr>\n",
              "    <tr>\n",
              "      <th>4461</th>\n",
              "      <td>7.031340e+16</td>\n",
              "      <td>31.5730</td>\n",
              "      <td>313.950</td>\n",
              "      <td>451208</td>\n",
              "      <td>6114290.0</td>\n",
              "      <td>1459.11</td>\n",
              "      <td>1</td>\n",
              "      <td>7.495520e+16</td>\n",
              "      <td>33.6773</td>\n",
              "      <td>313.9710</td>\n",
              "      <td>...</td>\n",
              "      <td>5</td>\n",
              "      <td>3.836610e-02</td>\n",
              "      <td>1</td>\n",
              "      <td>0.197141</td>\n",
              "      <td>4.87348</td>\n",
              "      <td>6</td>\n",
              "      <td>4.92578</td>\n",
              "      <td>1.598330</td>\n",
              "      <td>0</td>\n",
              "      <td>621.258</td>\n",
              "    </tr>\n",
              "    <tr>\n",
              "      <th>4462</th>\n",
              "      <td>2.081160e+18</td>\n",
              "      <td>31.6012</td>\n",
              "      <td>100.132</td>\n",
              "      <td>450405</td>\n",
              "      <td>6114330.0</td>\n",
              "      <td>1466.43</td>\n",
              "      <td>1</td>\n",
              "      <td>1.727270e+18</td>\n",
              "      <td>32.1312</td>\n",
              "      <td>99.8235</td>\n",
              "      <td>...</td>\n",
              "      <td>1</td>\n",
              "      <td>2.387730e-02</td>\n",
              "      <td>1</td>\n",
              "      <td>2.475100</td>\n",
              "      <td>63.56010</td>\n",
              "      <td>45</td>\n",
              "      <td>36.74840</td>\n",
              "      <td>1.540620</td>\n",
              "      <td>0</td>\n",
              "      <td>741.709</td>\n",
              "    </tr>\n",
              "    <tr>\n",
              "      <th>4463</th>\n",
              "      <td>3.655930e+17</td>\n",
              "      <td>54.1971</td>\n",
              "      <td>240.092</td>\n",
              "      <td>450736</td>\n",
              "      <td>6114530.0</td>\n",
              "      <td>1463.18</td>\n",
              "      <td>1</td>\n",
              "      <td>2.899870e+17</td>\n",
              "      <td>53.4601</td>\n",
              "      <td>240.9910</td>\n",
              "      <td>...</td>\n",
              "      <td>18</td>\n",
              "      <td>2.917480e-06</td>\n",
              "      <td>1</td>\n",
              "      <td>0.375106</td>\n",
              "      <td>10.20190</td>\n",
              "      <td>9</td>\n",
              "      <td>8.00254</td>\n",
              "      <td>0.570119</td>\n",
              "      <td>0</td>\n",
              "      <td>690.726</td>\n",
              "    </tr>\n",
              "    <tr>\n",
              "      <th>4464</th>\n",
              "      <td>3.980540e+17</td>\n",
              "      <td>51.5056</td>\n",
              "      <td>346.066</td>\n",
              "      <td>450428</td>\n",
              "      <td>6115240.0</td>\n",
              "      <td>1467.37</td>\n",
              "      <td>1</td>\n",
              "      <td>2.777420e+17</td>\n",
              "      <td>51.0544</td>\n",
              "      <td>345.3330</td>\n",
              "      <td>...</td>\n",
              "      <td>4</td>\n",
              "      <td>2.202100e-01</td>\n",
              "      <td>1</td>\n",
              "      <td>0.484126</td>\n",
              "      <td>13.47840</td>\n",
              "      <td>13</td>\n",
              "      <td>7.62364</td>\n",
              "      <td>0.902364</td>\n",
              "      <td>0</td>\n",
              "      <td>711.439</td>\n",
              "    </tr>\n",
              "  </tbody>\n",
              "</table>\n",
              "<p>4459 rows × 48 columns</p>\n",
              "</div>\n",
              "      <button class=\"colab-df-convert\" onclick=\"convertToInteractive('df-fe4ea00a-b799-4b9e-97d5-55c76c8ae1eb')\"\n",
              "              title=\"Convert this dataframe to an interactive table.\"\n",
              "              style=\"display:none;\">\n",
              "        \n",
              "  <svg xmlns=\"http://www.w3.org/2000/svg\" height=\"24px\"viewBox=\"0 0 24 24\"\n",
              "       width=\"24px\">\n",
              "    <path d=\"M0 0h24v24H0V0z\" fill=\"none\"/>\n",
              "    <path d=\"M18.56 5.44l.94 2.06.94-2.06 2.06-.94-2.06-.94-.94-2.06-.94 2.06-2.06.94zm-11 1L8.5 8.5l.94-2.06 2.06-.94-2.06-.94L8.5 2.5l-.94 2.06-2.06.94zm10 10l.94 2.06.94-2.06 2.06-.94-2.06-.94-.94-2.06-.94 2.06-2.06.94z\"/><path d=\"M17.41 7.96l-1.37-1.37c-.4-.4-.92-.59-1.43-.59-.52 0-1.04.2-1.43.59L10.3 9.45l-7.72 7.72c-.78.78-.78 2.05 0 2.83L4 21.41c.39.39.9.59 1.41.59.51 0 1.02-.2 1.41-.59l7.78-7.78 2.81-2.81c.8-.78.8-2.07 0-2.86zM5.41 20L4 18.59l7.72-7.72 1.47 1.35L5.41 20z\"/>\n",
              "  </svg>\n",
              "      </button>\n",
              "      \n",
              "  <style>\n",
              "    .colab-df-container {\n",
              "      display:flex;\n",
              "      flex-wrap:wrap;\n",
              "      gap: 12px;\n",
              "    }\n",
              "\n",
              "    .colab-df-convert {\n",
              "      background-color: #E8F0FE;\n",
              "      border: none;\n",
              "      border-radius: 50%;\n",
              "      cursor: pointer;\n",
              "      display: none;\n",
              "      fill: #1967D2;\n",
              "      height: 32px;\n",
              "      padding: 0 0 0 0;\n",
              "      width: 32px;\n",
              "    }\n",
              "\n",
              "    .colab-df-convert:hover {\n",
              "      background-color: #E2EBFA;\n",
              "      box-shadow: 0px 1px 2px rgba(60, 64, 67, 0.3), 0px 1px 3px 1px rgba(60, 64, 67, 0.15);\n",
              "      fill: #174EA6;\n",
              "    }\n",
              "\n",
              "    [theme=dark] .colab-df-convert {\n",
              "      background-color: #3B4455;\n",
              "      fill: #D2E3FC;\n",
              "    }\n",
              "\n",
              "    [theme=dark] .colab-df-convert:hover {\n",
              "      background-color: #434B5C;\n",
              "      box-shadow: 0px 1px 3px 1px rgba(0, 0, 0, 0.15);\n",
              "      filter: drop-shadow(0px 1px 2px rgba(0, 0, 0, 0.3));\n",
              "      fill: #FFFFFF;\n",
              "    }\n",
              "  </style>\n",
              "\n",
              "      <script>\n",
              "        const buttonEl =\n",
              "          document.querySelector('#df-fe4ea00a-b799-4b9e-97d5-55c76c8ae1eb button.colab-df-convert');\n",
              "        buttonEl.style.display =\n",
              "          google.colab.kernel.accessAllowed ? 'block' : 'none';\n",
              "\n",
              "        async function convertToInteractive(key) {\n",
              "          const element = document.querySelector('#df-fe4ea00a-b799-4b9e-97d5-55c76c8ae1eb');\n",
              "          const dataTable =\n",
              "            await google.colab.kernel.invokeFunction('convertToInteractive',\n",
              "                                                     [key], {});\n",
              "          if (!dataTable) return;\n",
              "\n",
              "          const docLinkHtml = 'Like what you see? Visit the ' +\n",
              "            '<a target=\"_blank\" href=https://colab.research.google.com/notebooks/data_table.ipynb>data table notebook</a>'\n",
              "            + ' to learn more about interactive tables.';\n",
              "          element.innerHTML = '';\n",
              "          dataTable['output_type'] = 'display_data';\n",
              "          await google.colab.output.renderOutput(dataTable, element);\n",
              "          const docLink = document.createElement('div');\n",
              "          docLink.innerHTML = docLinkHtml;\n",
              "          element.appendChild(docLink);\n",
              "        }\n",
              "      </script>\n",
              "    </div>\n",
              "  </div>\n",
              "  "
            ]
          },
          "metadata": {},
          "execution_count": 4
        }
      ],
      "source": [
        "#@title **code** Read data\n",
        "# Iron data\n",
        "iron = pd.read_csv('data/CutEvents_IronRefDist140.txt',skiprows=2,sep='\\t',decimal='.')  #sep='\\t' is for tab separator\n",
        "print(iron.shape)\n",
        "\n",
        "# Proton data\n",
        "proton = pd.read_csv('data/CutEvents_ProtonRefDist140.txt',sep='\\t',decimal='.')\n",
        "print(proton.shape)\n",
        "\n",
        "# Concating data\n",
        "data = pd.concat([iron,proton])\n",
        "data.index = np.arange(data.shape[0]) \n",
        "\n",
        "# Cleaning data\n",
        "col = data.pop(\"MC Xmax\") # For put the target column 'MC Xmax' at the end of dataframe\n",
        "data.insert(len(data.columns), col.name, col)\n",
        "\n",
        "#Delete unnecesary cols\n",
        "for col in ['runnr', 'rad energy error', '2dLDF sigma error','EE_RdLDF1error','EE_RdLDF3error','EE_RdLDF2error',\n",
        "            'GeoCe DXmax Error','GeoCe Erad Error', 'N_mu_ref error','M beta error']:  # For errasing unrelevant columns\n",
        "  del data[col]\n",
        "\n",
        "#Delete rows with meaningless values\n",
        "drop_rows = []\n",
        "for i in data.index.values:\n",
        "  if data.loc[i,'GeoCeXmax'] < 0:\n",
        "    drop_rows.append(i)\n",
        "data = data.drop(drop_rows)\n",
        "data"
      ]
    },
    {
      "cell_type": "markdown",
      "metadata": {
        "id": "l4DrhludYQoX"
      },
      "source": [
        "#2. **Model Regressor** <a name=\"eje2\"></a>"
      ]
    },
    {
      "cell_type": "code",
      "execution_count": 5,
      "metadata": {
        "colab": {
          "base_uri": "https://localhost:8080/"
        },
        "id": "yrkIO9qYSq4-",
        "outputId": "2c04d584-1713-4705-f894-391392cf0df2"
      },
      "outputs": [
        {
          "output_type": "stream",
          "name": "stdout",
          "text": [
            "(4459, 48)\n",
            "RMSE:  56.61355470828978\n",
            "\n",
            "Feautres importances: \n",
            " [0.0141446  0.00537865 0.006675   0.00810178 0.00954011 0.01357752\n",
            " 0.         0.03007859 0.02334141 0.00644448 0.01833116 0.0080981\n",
            " 0.00588195 0.         0.00169768 0.01494919 0.01198741 0.01025763\n",
            " 0.01044586 0.00494739 0.011405   0.02045602 0.11055349 0.02198367\n",
            " 0.00142388 0.01897391 0.01025389 0.01722573 0.01384065 0.0033702\n",
            " 0.02878029 0.0215441  0.00177012 0.00150365 0.0500471  0.27694252\n",
            " 0.0174697  0.01379836 0.0015081  0.04425594 0.         0.06476572\n",
            " 0.0084683  0.00599756 0.01475459 0.01502898 0.        ]\n",
            "\n",
            "Best features: \n",
            " Index(['pvalue GeoCe', 'GeoCe DXmax', 'N_mu_ref', '2dLDF sigma', 'GeoCeXmax'], dtype='object') \n",
            "\n",
            "(3567, 5)\n"
          ]
        }
      ],
      "source": [
        "#@title **code** Train model\n",
        "from sklearn.model_selection import train_test_split\n",
        "from sklearn.tree import DecisionTreeRegressor\n",
        "from sklearn.metrics import mean_squared_error\n",
        "\n",
        "print(data.shape)\n",
        "\n",
        "# Get data\n",
        "X = data.values[:,:-1]\n",
        "y = data.values[:,-1]\n",
        "\n",
        "# Make Partition\n",
        "X_train, X_test, y_train, y_test = train_test_split(X, y, test_size=0.2, shuffle=True)\n",
        "\n",
        "# Call and train model\n",
        "est = DecisionTreeRegressor()\n",
        "est.fit(X_train,y_train)\n",
        "\n",
        "s = np.sqrt(mean_squared_error(y_test, est.predict(X_test)))\n",
        "print('RMSE: ',s)\n",
        "features = est.feature_importances_ \n",
        "print('\\nFeautres importances: \\n',features)\n",
        "\n",
        "#Choose best features\n",
        "n=5\n",
        "bestfeat = np.argsort(features)[-n:]\n",
        "X_train_best = X_train[:,bestfeat]\n",
        "X_test_best = X_test[:,bestfeat] \n",
        "         \n",
        "# Variar n para observar mejores caracteristicas             \n",
        "print('\\nBest features: \\n',data.columns[bestfeat],'\\n')\n",
        "print(X_train_best.shape)"
      ]
    },
    {
      "cell_type": "code",
      "execution_count": 6,
      "metadata": {
        "colab": {
          "base_uri": "https://localhost:8080/",
          "height": 286
        },
        "id": "4pkrQCL9dlBW",
        "outputId": "d9604da6-1728-4b35-a68e-61bc102cb371",
        "cellView": "form"
      },
      "outputs": [
        {
          "output_type": "display_data",
          "data": {
            "text/plain": [
              "<Figure size 2016x360 with 1 Axes>"
            ],
            "image/png": "[encoded data removed]"
          },
          "metadata": {}
        }
      ],
      "source": [
        "#@title **code** Visualize best features\n",
        "f = plt.figure(figsize=(28,5))\n",
        "f.subplots_adjust(wspace=0.5)\n",
        "ax = f.add_subplot(111)\n",
        "plt.bar(range(len(features)),features)\n",
        "plt.xticks(range(len(features)),data.columns[:-1],rotation='vertical')\n",
        "plt.show()"
      ]
    },
    {
      "cell_type": "code",
      "source": [
        "#@title **code** Visualize best features choosen\n",
        "f = plt.figure(figsize=(8,4))\n",
        "f.subplots_adjust(wspace=0.5)\n",
        "ax = f.add_subplot(111)\n",
        "plt.bar(range(len(features[bestfeat])),features[bestfeat])\n",
        "plt.xticks(range(len(bestfeat)),data.columns[bestfeat],rotation='vertical')\n",
        "plt.show()"
      ],
      "metadata": {
        "colab": {
          "base_uri": "https://localhost:8080/",
          "height": 338
        },
        "cellView": "form",
        "id": "0IX2kTyyK11W",
        "outputId": "5ff2d2b4-95d8-495e-e41b-d5ddb2d7a11d"
      },
      "execution_count": 7,
      "outputs": [
        {
          "output_type": "display_data",
          "data": {
            "text/plain": [
              "<Figure size 576x288 with 1 Axes>"
            ],
            "image/png": "[encoded data removed]"
          },
          "metadata": {}
        }
      ]
    },
    {
      "cell_type": "code",
      "execution_count": 8,
      "metadata": {
        "colab": {
          "base_uri": "https://localhost:8080/"
        },
        "id": "wT45sj9zbKkf",
        "outputId": "d0c3a744-a08a-4748-f1ec-ace3c75257d4"
      },
      "outputs": [
        {
          "output_type": "stream",
          "name": "stdout",
          "text": [
            "RMSE:  44.746059781049915\n",
            "MAPE:  0.05200953376542769\n"
          ]
        }
      ],
      "source": [
        "#@title **code** Random Forest Regressor\n",
        "from sklearn.metrics import mean_squared_error\n",
        "from sklearn.tree import DecisionTreeRegressor\n",
        "from sklearn.ensemble import RandomForestRegressor\n",
        "from sklearn.svm import SVR\n",
        "\n",
        "# Call and train model\n",
        "est = RandomForestRegressor(n_estimators=20, random_state=21, max_depth=4)\n",
        "est.fit(X_train_best,y_train)\n",
        "\n",
        "pred = est.predict(X_test_best)\n",
        "s1 = np.sqrt(mean_squared_error(pred,y_test))\n",
        "print('RMSE: ',s1)\n",
        "\n",
        "s2 = mean_absolute_percentage_error(pred,y_test)\n",
        "print('MAPE: ',s2)"
      ]
    },
    {
      "cell_type": "markdown",
      "source": [
        "## **Choose best parameters**"
      ],
      "metadata": {
        "id": "iDmQ99TERw1D"
      }
    },
    {
      "cell_type": "code",
      "source": [
        "# Parameters for choose\n",
        "estimators = [5, 10, 15, 30, 40]\n",
        "depths = [3, 5, 7, 15, 30]\n",
        "N = [4, 5, 6]\n",
        "\n",
        "# Create cycle of number of features\n",
        "M1 = []\n",
        "M2 = []\n",
        "for i, n in enumerate(N):\n",
        "  \n",
        "  # Create matrices\n",
        "  M1_ = np.zeros((len(estimators),len(depths)))\n",
        "  M2_ = M1_.copy()\n",
        "  \n",
        "  # Run Random Forest Regressor for any estimator and depth choosen\n",
        "  for i, n_estimators in enumerate(estimators):\n",
        "    for j, max_depth in enumerate(depths):\n",
        "\n",
        "      # Call and train model\n",
        "      est = RandomForestRegressor(n_estimators=n_estimators, max_depth=max_depth, random_state=21)\n",
        "      est.fit(X_train_best,y_train)\n",
        "      \n",
        "      # Predict model\n",
        "      pred = est.predict(X_test_best)\n",
        "      \n",
        "      # Compute and save errors\n",
        "      s1 = np.sqrt(mean_squared_error(pred,y_test))\n",
        "      s2 = mean_absolute_percentage_error(pred,y_test)\n",
        "      M1_[i,j] = s1\n",
        "      M2_[i,j] = s2\n",
        "  \n",
        "  # Save matrices of errors\n",
        "  M1.append(M1_)\n",
        "  M2.append(M2_)"
      ],
      "metadata": {
        "id": "0GgnYq8ORwb8"
      },
      "execution_count": 38,
      "outputs": []
    },
    {
      "cell_type": "code",
      "source": [
        "def plot_text(M):\n",
        "  for i,row in enumerate(M):\n",
        "    for j, col in enumerate(row):\n",
        "      if M[i,j] > 44.5:\n",
        "        color='black'\n",
        "      else:\n",
        "        color='white'\n",
        "      plt.text(j-0.2,i,'%1.f'%(M[i,j]), color=color)\n",
        "\n",
        "plt.figure(figsize=(15,4))\n",
        "for i in range(3):\n",
        "  plt.subplot(1,3,i+1)\n",
        "  plt.imshow(M1[i])\n",
        "  plt.colorbar()\n",
        "  plot_text(M1[i])\n",
        "  plt.title(str(N[i])+' features')\n",
        "  plt.xlabel('max_depth')\n",
        "  plt.ylabel('n_estimators')\n",
        "  plt.yticks(range(len(estimators)),estimators)\n",
        "  plt.xticks(range(len(depths)),depths)\n",
        "  plt.grid(False)\n",
        "plt.show()"
      ],
      "metadata": {
        "colab": {
          "base_uri": "https://localhost:8080/",
          "height": 280
        },
        "id": "IJ2E6c0OWVSN",
        "outputId": "a73ef899-b619-4f58-c8a8-a55f0572b9a8"
      },
      "execution_count": 41,
      "outputs": [
        {
          "output_type": "display_data",
          "data": {
            "text/plain": [
              "<Figure size 1080x288 with 6 Axes>"
            ],
            "image/png": "[encoded data removed]"
          },
          "metadata": {}
        }
      ]
    },
    {
      "cell_type": "markdown",
      "source": [
        "## **Choose number of best features**"
      ],
      "metadata": {
        "id": "jifSixkJNM-Q"
      }
    },
    {
      "cell_type": "code",
      "source": [
        "N=12\n",
        "s1=[]\n",
        "s2=[]\n",
        "for n in range(1,N+1):\n",
        "  # Get data\n",
        "  bestfeat = np.argsort(features)[-n:]\n",
        "  X_train_best = X_train[:,bestfeat]\n",
        "  X_test_best = X_test[:,bestfeat] \n",
        "  \n",
        "  # Call and train model\n",
        "  est = RandomForestRegressor(n_estimators=30, random_state=21, max_depth=7)\n",
        "  est.fit(X_train_best,y_train)\n",
        "\n",
        "  # Predict\n",
        "  pred = est.predict(X_test_best)\n",
        "  s1.append(np.sqrt(mean_squared_error(pred,y_test)))     # Mean Squared Error\n",
        "  s2.append(mean_absolute_percentage_error(pred,y_test))  # Mean Absolute Percentage Error\n",
        "\n",
        "plt.figure(figsize=(18,4))\n",
        "plt.subplot(121)\n",
        "plt.plot(np.arange(N),s1)\n",
        "plt.ylabel('RMSE')\n",
        "plt.xlabel('n')\n",
        "plt.xticks(range(N), np.arange(N)+1)\n",
        "\n",
        "plt.subplot(122)\n",
        "plt.plot(np.arange(N),s2)\n",
        "plt.ylabel('MAPE')\n",
        "plt.xlabel('n')\n",
        "plt.xticks(range(N), np.arange(N)+1)\n",
        "plt.show()"
      ],
      "metadata": {
        "colab": {
          "base_uri": "https://localhost:8080/",
          "height": 285
        },
        "id": "O-klG1-fNGBK",
        "outputId": "7991adae-c566-455e-aa5c-3660e005326a"
      },
      "execution_count": null,
      "outputs": [
        {
          "output_type": "display_data",
          "data": {
            "text/plain": [
              "<Figure size 1296x288 with 2 Axes>"
            ],
            "image/png": "[encoded data removed]"
          },
          "metadata": {}
        }
      ]
    },
    {
      "cell_type": "code",
      "source": [
        "s1"
      ],
      "metadata": {
        "colab": {
          "base_uri": "https://localhost:8080/"
        },
        "id": "CtJyubjRXSN_",
        "outputId": "f978a0a4-2d20-4a61-d3d1-40ce0564d642"
      },
      "execution_count": null,
      "outputs": [
        {
          "output_type": "execute_result",
          "data": {
            "text/plain": [
              "[49.15871904562346,\n",
              " 46.208678852035746,\n",
              " 44.79438362033639,\n",
              " 43.47115034476651,\n",
              " 39.94739787838844,\n",
              " 39.151369946673974,\n",
              " 38.85762629700097,\n",
              " 38.98852986837949,\n",
              " 39.16984860754357,\n",
              " 39.34984859144363,\n",
              " 39.15611114159546,\n",
              " 38.699746344240246]"
            ]
          },
          "metadata": {},
          "execution_count": 206
        }
      ]
    },
    {
      "cell_type": "markdown",
      "metadata": {
        "id": "mhVHjgB-P1wL"
      },
      "source": [
        "## **Pruebas**"
      ]
    },
    {
      "cell_type": "markdown",
      "source": [
        "Si nos preguntan por que no usamos cross-validation kfold, decimos que es porque esta es una técnica usada para garantizar que los resultados son independientes de la partición, y en nuestro caso no había variabilidad al correr varias veces el código con shuffle activo (siempre se hacía una partición distinta)"
      ],
      "metadata": {
        "id": "hXjNc5cBQPoK"
      }
    },
    {
      "cell_type": "code",
      "execution_count": null,
      "metadata": {
        "colab": {
          "base_uri": "https://localhost:8080/"
        },
        "id": "2IvdnQCRMHjl",
        "outputId": "daa8a796-a5e7-4cc5-dad1-39ed74054b02"
      },
      "outputs": [
        {
          "output_type": "stream",
          "name": "stdout",
          "text": [
            "MC Xmax Iron:    622.7639 +/- 30.5248\n",
            "GeoCeXmax Iron:  638.0860 +/- 94.3897\n",
            "\n",
            "MC Xmax Proton:    706.0959 +/- 47.8885\n",
            "GeoCeXmax Proton:  683.4042 +/- 87.8247\n"
          ]
        }
      ],
      "source": [
        "#@title **code** MC Xmax of iron and proton\n",
        "#display(particles['MC Xmax'])\n",
        "#particles['GeoCeXmax']\n",
        "print('MC Xmax Iron:    %.4f +/- %.4f'%(np.mean(iron['MC Xmax'].values), np.std(iron['MC Xmax'].values)))\n",
        "print('GeoCeXmax Iron:  %.4f +/- %.4f'%(np.mean(iron['GeoCeXmax'].values), np.std(iron['GeoCeXmax'].values)))\n",
        "print()\n",
        "print('MC Xmax Proton:    %.4f +/- %.4f'%(np.mean(proton['MC Xmax'].values), np.std(proton['MC Xmax'].values)))\n",
        "print('GeoCeXmax Proton:  %.4f +/- %.4f'%(np.mean(proton['GeoCeXmax'].values), np.std(proton['GeoCeXmax'].values)))"
      ]
    },
    {
      "cell_type": "code",
      "execution_count": null,
      "metadata": {
        "colab": {
          "base_uri": "https://localhost:8080/",
          "height": 268
        },
        "id": "uokM-VWjPDld",
        "outputId": "30a3e6b0-7f20-472e-98be-8511aa29a17c"
      },
      "outputs": [
        {
          "output_type": "display_data",
          "data": {
            "text/plain": [
              "<Figure size 432x288 with 1 Axes>"
            ],
            "image/png": "[encoded data removed]"
          },
          "metadata": {}
        }
      ],
      "source": [
        "#@title **code** Visualize MC Xmax of iron and proton\n",
        "x = [np.mean(iron['MC Xmax'].values), np.mean(iron['GeoCeXmax'].values), np.mean(proton['MC Xmax'].values),np.mean(proton['GeoCeXmax'].values)]\n",
        "y = range(4)\n",
        "dx = [np.std(iron['MC Xmax'].values), np.std(iron['GeoCeXmax'].values), np.std(proton['MC Xmax'].values),np.std(proton['GeoCeXmax'].values)]\n",
        "color = ['red','green','blue','orange']\n",
        "label = ['MC iron','Geo iron','Mc proton','Geo proton']\n",
        "for i in range(4):\n",
        "  plt.errorbar(x[i],y[i],fmt='o',xerr=dx[i],color=color[i], label=label[i],capsize=0.5)\n",
        "plt.legend()\n",
        "plt.show()"
      ]
    }
  ],
  "metadata": {
    "colab": {
      "collapsed_sections": [],
      "provenance": []
    },
    "kernelspec": {
      "display_name": "Python 3",
      "name": "python3"
    },
    "language_info": {
      "name": "python"
    }
  },
  "nbformat": 4,
  "nbformat_minor": 0
}