{
 "cells": [
  {
   "cell_type": "markdown",
   "id": "1e61a6a4",
   "metadata": {},
   "source": [
    "# Generación de la gráfca de la radiación espectral de cuerpo negro"
   ]
  },
  {
   "cell_type": "markdown",
   "id": "56e2329b",
   "metadata": {},
   "source": [
    "En este código se genera la gráfica de la radición de densidad de radianza espectral $B_\\nu(\\nu, T)$ de cuerpo negro por unidad de área, en función de una temperatura dada y al rango de longitudes de onda $\\nu$ a emplear. Esta radiación se encuentra en unidades de energía por unidad de área: $\\frac{J}{m^2}$. A esta magnitud también se le puede llamar luminosidad por unidad de área.\n",
    "\n",
    "Además, se usará la ecuación de Plank para esta radiación de cuerpo negro, y ella se comparará con las aproximaciones de  Wien y Rayleigh-Jeans. \n",
    "\n",
    "Autor: Juan Andrés Guarín Rojas  \\\n",
    "Código: 2201870"
   ]
  },
  {
   "cell_type": "markdown",
   "id": "b4223c85",
   "metadata": {},
   "source": [
    "## 1. Importación de Bibliotecas"
   ]
  },
  {
   "cell_type": "code",
   "execution_count": 66,
   "id": "47c59d96",
   "metadata": {},
   "outputs": [],
   "source": [
    "# Se importan las bibliotecas necesarias\n",
    "\n",
    "import numpy as np                       #Biblioteca para cálculos matemáticos\n",
    "import matplotlib.pyplot as plt          #Módulo para generar gráficas\n",
    "from astropy import constants as const   #Módulo de astropy para importar constantes físicas\n",
    "from astropy import units as u           #Módulo de astropy para agregar unidades de magnitud (Kg,m,s)"
   ]
  },
  {
   "cell_type": "markdown",
   "id": "b04f9641",
   "metadata": {},
   "source": [
    "## 2. Definición de las constantes del código"
   ]
  },
  {
   "cell_type": "code",
   "execution_count": 67,
   "id": "0ed5d0fe",
   "metadata": {},
   "outputs": [],
   "source": [
    "# Se importan las constantes que se usarán, con el módulo const. \n",
    "\n",
    "\"\"\"\n",
    "Como estas constantes se importan con el módulo constants, estás tienen las unidades del \n",
    "sistema internacional por defecto. \n",
    "\"\"\" \n",
    "\n",
    "h = const.h       # Constante de Plank\n",
    "c = const.c      # Velocidad de la luz en el vacío\n",
    "K_B = const.k_B   # Constante de Boltzmann"
   ]
  },
  {
   "cell_type": "markdown",
   "id": "bcac9e20",
   "metadata": {},
   "source": [
    "## 3. Declaración de las funciones"
   ]
  },
  {
   "cell_type": "markdown",
   "id": "df9825ad",
   "metadata": {},
   "source": [
    "En esta parte se muestran las ecuaciones que se usarán para graficar la radición de densidad de radianza espectral de cuerpo negro. Estas tres ecuaciones se muestran a continuación.\n",
    "\n",
    "La ecuación de plank para la radición de densidad de radianza espectral es:\n",
    "\n",
    "\\begin{equation}\n",
    "    B_\\nu(\\nu, T) = \\frac{2 h \\nu^3}{c^2} \\frac{1}{ e^{\\frac{h \\nu}{K_B T}} -1}  \n",
    "\\end{equation}\n",
    "\n",
    "La aproximación de Wien para la misma ecuación es: \n",
    "\n",
    "\\begin{equation}\n",
    "    B_\\nu(\\nu, T) \\approx \\frac{2 h \\nu^3}{c^2} e^{\\frac{-h \\nu}{K_B T}} \n",
    "\\end{equation}\n",
    "\n",
    "La aproximación de Rayleigh-Jeans para esta misma es: \n",
    "\n",
    "\\begin{equation}\n",
    "    B_\\nu(\\nu, T) \\approx \\frac{2 \\nu^2}{c^2} K_B T  \n",
    "\\end{equation}\n",
    "\n",
    "Donde:\n",
    "\n",
    "\n",
    "* $B_\\nu(\\nu, T)$ representa la densidad de radiación espectral unidades de $J/m^2$, que se basa en el valor de $\\nu$ y T.\n",
    "* $\\nu$ es la frecuencia de la onda luminica.\n",
    "* $T$ es la temperatura del cuerpo.\n",
    "* $h$ es la constante de plank.\n",
    "* $c$ es la velocidad de la luz en el vacío.\n",
    "* $K_B$ es la constante de Bolztmann.\n",
    "\n"
   ]
  },
  {
   "cell_type": "code",
   "execution_count": 68,
   "id": "0a67241f",
   "metadata": {},
   "outputs": [],
   "source": [
    "# Se declaran las funciones tomando en cuenta la expresión anterior y la constantes.\n",
    "\n",
    "def B_plank(v, T):   #l es la longitud de onda lambda, y T es la temperatura.\n",
    "    value_B = 2*h*v**3/( c**2*(np.exp(h*v/(K_B*T))-1) ) \n",
    "    return value_B\n",
    "\n",
    "def B_wien(v, T):   #l es la longitud de onda lambda, y T es la temperatura.\n",
    "    value_B = 2*h*v**3/c**2*np.exp(-h*v/(K_B*T))\n",
    "    return value_B\n",
    "\n",
    "def B_ray_jeans(v, T):   #l es la longitud de onda lambda, y T es la temperatura.\n",
    "    value_B = 2*v**2/c**2*K_B*T\n",
    "    return value_B"
   ]
  },
  {
   "cell_type": "code",
   "execution_count": 69,
   "id": "9030e929",
   "metadata": {
    "scrolled": false
   },
   "outputs": [
    {
     "name": "stdout",
     "output_type": "stream",
     "text": [
      "1.0076937109348383e-08 J / m2\n"
     ]
    }
   ],
   "source": [
    "# Se evalua y muestra en pantalla la función B_plank evaluada en un punto para verificar unidades de magnitud.\n",
    "\n",
    "print(B_plank(600*10**12*1/u.s, 5000*u.K)) \n",
    "#'1/u.s' indica que el primer valor está en Hertz [1/s] , y 'u.K' indica que el segundo está en Kelvins."
   ]
  },
  {
   "cell_type": "markdown",
   "id": "344db5fa",
   "metadata": {},
   "source": [
    "## 4. Creación de los vectores que contendrán los datos a graficar"
   ]
  },
  {
   "cell_type": "markdown",
   "id": "4c3d1bdf",
   "metadata": {},
   "source": [
    "Se hallan los vectores con los datos de frecuencia $\\nu$ y de densidad de radianza espectral $B_\\nu$."
   ]
  },
  {
   "cell_type": "code",
   "execution_count": 70,
   "id": "49a3b105",
   "metadata": {},
   "outputs": [],
   "source": [
    "# En el caso de la frecuencia se usa el rango de nu desde 1x10^7 hasta 4x10^9 Hz.\n",
    "v_data = np.linspace(2*10**7, 2*10**9, 1500)/u.s\n",
    "\n",
    "# La temperatura dada es de 8 mili Kelvin para este código.\n",
    "T = 8*10**-3 * u.K\n",
    "\n",
    "# Se halla la luminosidad por unidad de área (densidad de radianza espetral) para cada ecuación.\n",
    "B1 = B_plank(v_data, T)\n",
    "B2 = B_wien(v_data, T)\n",
    "B3 = B_ray_jeans(v_data, T)"
   ]
  },
  {
   "cell_type": "code",
   "execution_count": 71,
   "id": "8401f0e7",
   "metadata": {
    "scrolled": false
   },
   "outputs": [
    {
     "name": "stdout",
     "output_type": "stream",
     "text": [
      "3.4807261937017563e-26 J / m2\n"
     ]
    }
   ],
   "source": [
    "# Se verifica que B_v este en las unidades correctas de J/(m^2)\n",
    "print(B1[100])"
   ]
  },
  {
   "cell_type": "markdown",
   "id": "861304de",
   "metadata": {},
   "source": [
    "## 5. Graficación de los datos"
   ]
  },
  {
   "cell_type": "code",
   "execution_count": 72,
   "id": "484ae505",
   "metadata": {},
   "outputs": [
    {
     "data": {
      "image/png": "[encoded data removed]",
      "text/plain": [
       "<Figure size 648x432 with 1 Axes>"
      ]
     },
     "metadata": {
      "needs_background": "light"
     },
     "output_type": "display_data"
    }
   ],
   "source": [
    "#Creamos la figura\n",
    "a = plt.figure(figsize=(9,6))\n",
    "ax = a.add_subplot(111)\n",
    "\n",
    "#Graficamos la luminosidad por unidad de area de acuerdo a cada ecuación, usando escala logarítmica\n",
    "plt.loglog(v_data, B1, 'g', label='Plank', linewidth=2)\n",
    "plt.loglog(v_data, B2, 'b', label='Wien',linewidth=1.5, alpha=.8)\n",
    "plt.loglog(v_data, B3, 'r', label='Rayleigh-Jeans',linewidth=1.5, alpha=.8)\n",
    "\n",
    "plt.legend() #mostrar leyendes de los datos y ajuste\n",
    "\n",
    "#Ponemos una anotación en la gráfica. Se puede cambiar su pocisión con el patametro xy.\n",
    "#plt.annotate('5 mK', xy=(1.5e-6, 0.8e38),  xycoords='data', xytext=(+5, +5), textcoords='offset points', \n",
    "#             color= 'black',fontsize=15)\n",
    "\n",
    "#---------------------------------------------------\n",
    "##Definimos titulos, tamaño de fuente y de etiquetas\n",
    "#---------------------------------------------------\n",
    "\n",
    "#Ponemos un título y ajustamos el tamaño y pocisión de la leyenda\n",
    "plt.title('Densidad de Radiación espectral Cuerpo negro', fontsize = 19)\n",
    "plt.legend(fontsize = 15, loc='upper left')\n",
    "\n",
    "#Agregamos un nombre y tamño de letra a las etiquetas de los ejes\n",
    "plt.xlabel(R'Frecuencía $\\nu$ [$Hz$]', fontsize = 16)\n",
    "plt.ylabel(R'Luminosidad por área $B_\\nu$ [$J/m^2$]', fontsize = 16)\n",
    "\n",
    "#Modificamos el tamaño de los valores en los ejes\n",
    "plt.xticks(size = 14)\n",
    "plt.yticks(size = 14)\n",
    "\n",
    "plt.savefig('densidad_radiación_espectral_cuerpo_negro.png', format='png') #Se guarda la figura en el computador\n",
    "plt.show() #mostramos todo lo que graficamos"
   ]
  },
  {
   "cell_type": "code",
   "execution_count": null,
   "id": "ded4f0fc",
   "metadata": {},
   "outputs": [],
   "source": []
  }
 ],
 "metadata": {
  "kernelspec": {
   "display_name": "Python 3 (ipykernel)",
   "language": "python",
   "name": "python3"
  },
  "language_info": {
   "codemirror_mode": {
    "name": "ipython",
    "version": 3
   },
   "file_extension": ".py",
   "mimetype": "text/x-python",
   "name": "python",
   "nbconvert_exporter": "python",
   "pygments_lexer": "ipython3",
   "version": "3.9.6"
  }
 },
 "nbformat": 4,
 "nbformat_minor": 5
}
